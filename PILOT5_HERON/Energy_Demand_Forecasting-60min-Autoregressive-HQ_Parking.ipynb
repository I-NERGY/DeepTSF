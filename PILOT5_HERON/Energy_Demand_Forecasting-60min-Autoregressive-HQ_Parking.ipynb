{
 "cells": [
  {
   "cell_type": "markdown",
   "id": "c70e183b",
   "metadata": {},
   "source": [
    "# Demond Forecasts for HERON datasets"
   ]
  },
  {
   "cell_type": "markdown",
   "id": "f5353935",
   "metadata": {},
   "source": [
    "## HERON HQ Parking"
   ]
  },
  {
   "cell_type": "markdown",
   "id": "5bc36a2f",
   "metadata": {},
   "source": [
    "### Load data"
   ]
  },
  {
   "cell_type": "code",
   "execution_count": 2,
   "id": "8d231a4d",
   "metadata": {},
   "outputs": [],
   "source": [
    "import pandas as pd\n",
    "from sklearn import tree\n",
    "from sklearn.metrics import mean_absolute_percentage_error, mean_squared_error\n"
   ]
  },
  {
   "cell_type": "code",
   "execution_count": 3,
   "id": "4f2d736d",
   "metadata": {},
   "outputs": [
    {
     "data": {
      "text/plain": [
       "(6817, 1)"
      ]
     },
     "execution_count": 3,
     "metadata": {},
     "output_type": "execute_result"
    }
   ],
   "source": [
    "ts60 = pd.read_csv('EVB-P1840070_Heron_HQ_Parking_mean_demand_20210102_to_20211013_60min.csv', index_col=0, parse_dates=True)\n",
    "\n",
    "\n",
    "ts60.shape"
   ]
  },
  {
   "cell_type": "code",
   "execution_count": 4,
   "id": "d20c5a21",
   "metadata": {},
   "outputs": [],
   "source": [
    "features60 = pd.read_csv('EVB-P1840070_Heron_HQ_Parking_mean_demand_20210102_to_20211013_60min_time_covariates.csv', index_col=0, parse_dates=True)"
   ]
  },
  {
   "cell_type": "code",
   "execution_count": 5,
   "id": "00f7a8d5",
   "metadata": {},
   "outputs": [
    {
     "data": {
      "text/plain": [
       "(6817, 11)"
      ]
     },
     "execution_count": 5,
     "metadata": {},
     "output_type": "execute_result"
    }
   ],
   "source": [
    "features60.shape"
   ]
  },
  {
   "cell_type": "code",
   "execution_count": 6,
   "id": "5fc8203d",
   "metadata": {},
   "outputs": [],
   "source": [
    "df60 = ts60.join(features60)"
   ]
  },
  {
   "cell_type": "code",
   "execution_count": 7,
   "id": "4170b56f",
   "metadata": {},
   "outputs": [
    {
     "data": {
      "text/html": [
       "<div>\n",
       "<style scoped>\n",
       "    .dataframe tbody tr th:only-of-type {\n",
       "        vertical-align: middle;\n",
       "    }\n",
       "\n",
       "    .dataframe tbody tr th {\n",
       "        vertical-align: top;\n",
       "    }\n",
       "\n",
       "    .dataframe thead th {\n",
       "        text-align: right;\n",
       "    }\n",
       "</style>\n",
       "<table border=\"1\" class=\"dataframe\">\n",
       "  <thead>\n",
       "    <tr style=\"text-align: right;\">\n",
       "      <th></th>\n",
       "      <th>Total Demand (kw)</th>\n",
       "      <th>year</th>\n",
       "      <th>month_sin</th>\n",
       "      <th>month_cos</th>\n",
       "      <th>day_sin</th>\n",
       "      <th>day_cos</th>\n",
       "      <th>hour_sin</th>\n",
       "      <th>hour_cos</th>\n",
       "      <th>dayofweek</th>\n",
       "      <th>dayofyear</th>\n",
       "      <th>week</th>\n",
       "      <th>holidays</th>\n",
       "    </tr>\n",
       "  </thead>\n",
       "  <tbody>\n",
       "    <tr>\n",
       "      <th>2021-10-12 20:00:00</th>\n",
       "      <td>7.251799e-02</td>\n",
       "      <td>2021.0</td>\n",
       "      <td>-0.866025</td>\n",
       "      <td>0.5</td>\n",
       "      <td>0.0</td>\n",
       "      <td>1.0</td>\n",
       "      <td>-0.866025</td>\n",
       "      <td>0.500000</td>\n",
       "      <td>1.0</td>\n",
       "      <td>285.0</td>\n",
       "      <td>41.0</td>\n",
       "      <td>0.0</td>\n",
       "    </tr>\n",
       "    <tr>\n",
       "      <th>2021-10-12 21:00:00</th>\n",
       "      <td>2.273737e-13</td>\n",
       "      <td>2021.0</td>\n",
       "      <td>-0.866025</td>\n",
       "      <td>0.5</td>\n",
       "      <td>0.0</td>\n",
       "      <td>1.0</td>\n",
       "      <td>-0.707107</td>\n",
       "      <td>0.707107</td>\n",
       "      <td>1.0</td>\n",
       "      <td>285.0</td>\n",
       "      <td>41.0</td>\n",
       "      <td>0.0</td>\n",
       "    </tr>\n",
       "    <tr>\n",
       "      <th>2021-10-12 22:00:00</th>\n",
       "      <td>2.273737e-13</td>\n",
       "      <td>2021.0</td>\n",
       "      <td>-0.866025</td>\n",
       "      <td>0.5</td>\n",
       "      <td>0.0</td>\n",
       "      <td>1.0</td>\n",
       "      <td>-0.500000</td>\n",
       "      <td>0.866025</td>\n",
       "      <td>1.0</td>\n",
       "      <td>285.0</td>\n",
       "      <td>41.0</td>\n",
       "      <td>0.0</td>\n",
       "    </tr>\n",
       "    <tr>\n",
       "      <th>2021-10-12 23:00:00</th>\n",
       "      <td>2.273737e-13</td>\n",
       "      <td>2021.0</td>\n",
       "      <td>-0.866025</td>\n",
       "      <td>0.5</td>\n",
       "      <td>0.0</td>\n",
       "      <td>1.0</td>\n",
       "      <td>-0.258819</td>\n",
       "      <td>0.965926</td>\n",
       "      <td>1.0</td>\n",
       "      <td>285.0</td>\n",
       "      <td>41.0</td>\n",
       "      <td>0.0</td>\n",
       "    </tr>\n",
       "    <tr>\n",
       "      <th>2021-10-13 00:00:00</th>\n",
       "      <td>-6.809524e-02</td>\n",
       "      <td>2021.0</td>\n",
       "      <td>-0.866025</td>\n",
       "      <td>0.5</td>\n",
       "      <td>0.0</td>\n",
       "      <td>1.0</td>\n",
       "      <td>0.000000</td>\n",
       "      <td>1.000000</td>\n",
       "      <td>2.0</td>\n",
       "      <td>286.0</td>\n",
       "      <td>41.0</td>\n",
       "      <td>0.0</td>\n",
       "    </tr>\n",
       "  </tbody>\n",
       "</table>\n",
       "</div>"
      ],
      "text/plain": [
       "                     Total Demand (kw)    year  month_sin  month_cos  day_sin  \\\n",
       "2021-10-12 20:00:00       7.251799e-02  2021.0  -0.866025        0.5      0.0   \n",
       "2021-10-12 21:00:00       2.273737e-13  2021.0  -0.866025        0.5      0.0   \n",
       "2021-10-12 22:00:00       2.273737e-13  2021.0  -0.866025        0.5      0.0   \n",
       "2021-10-12 23:00:00       2.273737e-13  2021.0  -0.866025        0.5      0.0   \n",
       "2021-10-13 00:00:00      -6.809524e-02  2021.0  -0.866025        0.5      0.0   \n",
       "\n",
       "                     day_cos  hour_sin  hour_cos  dayofweek  dayofyear  week  \\\n",
       "2021-10-12 20:00:00      1.0 -0.866025  0.500000        1.0      285.0  41.0   \n",
       "2021-10-12 21:00:00      1.0 -0.707107  0.707107        1.0      285.0  41.0   \n",
       "2021-10-12 22:00:00      1.0 -0.500000  0.866025        1.0      285.0  41.0   \n",
       "2021-10-12 23:00:00      1.0 -0.258819  0.965926        1.0      285.0  41.0   \n",
       "2021-10-13 00:00:00      1.0  0.000000  1.000000        2.0      286.0  41.0   \n",
       "\n",
       "                     holidays  \n",
       "2021-10-12 20:00:00       0.0  \n",
       "2021-10-12 21:00:00       0.0  \n",
       "2021-10-12 22:00:00       0.0  \n",
       "2021-10-12 23:00:00       0.0  \n",
       "2021-10-13 00:00:00       0.0  "
      ]
     },
     "execution_count": 7,
     "metadata": {},
     "output_type": "execute_result"
    }
   ],
   "source": [
    "df60.head()\n",
    "df60.tail()"
   ]
  },
  {
   "cell_type": "code",
   "execution_count": 8,
   "id": "db2dc6f0",
   "metadata": {},
   "outputs": [
    {
     "data": {
      "text/html": [
       "<div>\n",
       "<style scoped>\n",
       "    .dataframe tbody tr th:only-of-type {\n",
       "        vertical-align: middle;\n",
       "    }\n",
       "\n",
       "    .dataframe tbody tr th {\n",
       "        vertical-align: top;\n",
       "    }\n",
       "\n",
       "    .dataframe thead th {\n",
       "        text-align: right;\n",
       "    }\n",
       "</style>\n",
       "<table border=\"1\" class=\"dataframe\">\n",
       "  <thead>\n",
       "    <tr style=\"text-align: right;\">\n",
       "      <th></th>\n",
       "      <th>Total Demand (kw)</th>\n",
       "      <th>year</th>\n",
       "      <th>month_sin</th>\n",
       "      <th>month_cos</th>\n",
       "      <th>day_sin</th>\n",
       "      <th>day_cos</th>\n",
       "      <th>hour_sin</th>\n",
       "      <th>hour_cos</th>\n",
       "      <th>dayofweek</th>\n",
       "      <th>dayofyear</th>\n",
       "      <th>week</th>\n",
       "      <th>holidays</th>\n",
       "      <th>prev_demand</th>\n",
       "      <th>prev_demand2</th>\n",
       "      <th>prev_demand3</th>\n",
       "      <th>prev_demand4</th>\n",
       "      <th>yesterday_demand</th>\n",
       "    </tr>\n",
       "  </thead>\n",
       "  <tbody>\n",
       "    <tr>\n",
       "      <th>2021-01-03 00:00:00</th>\n",
       "      <td>0.0</td>\n",
       "      <td>2021.0</td>\n",
       "      <td>0.5</td>\n",
       "      <td>0.866025</td>\n",
       "      <td>0.0</td>\n",
       "      <td>1.0</td>\n",
       "      <td>0.000000e+00</td>\n",
       "      <td>1.000000e+00</td>\n",
       "      <td>6.0</td>\n",
       "      <td>3.0</td>\n",
       "      <td>53.0</td>\n",
       "      <td>0.0</td>\n",
       "      <td>0.0</td>\n",
       "      <td>0.0</td>\n",
       "      <td>0.0</td>\n",
       "      <td>0.103665</td>\n",
       "      <td>0.000000</td>\n",
       "    </tr>\n",
       "    <tr>\n",
       "      <th>2021-01-03 01:00:00</th>\n",
       "      <td>0.0</td>\n",
       "      <td>2021.0</td>\n",
       "      <td>0.5</td>\n",
       "      <td>0.866025</td>\n",
       "      <td>0.0</td>\n",
       "      <td>1.0</td>\n",
       "      <td>2.588190e-01</td>\n",
       "      <td>9.659258e-01</td>\n",
       "      <td>6.0</td>\n",
       "      <td>3.0</td>\n",
       "      <td>53.0</td>\n",
       "      <td>0.0</td>\n",
       "      <td>0.0</td>\n",
       "      <td>0.0</td>\n",
       "      <td>0.0</td>\n",
       "      <td>0.000000</td>\n",
       "      <td>0.000000</td>\n",
       "    </tr>\n",
       "    <tr>\n",
       "      <th>2021-01-03 02:00:00</th>\n",
       "      <td>0.0</td>\n",
       "      <td>2021.0</td>\n",
       "      <td>0.5</td>\n",
       "      <td>0.866025</td>\n",
       "      <td>0.0</td>\n",
       "      <td>1.0</td>\n",
       "      <td>5.000000e-01</td>\n",
       "      <td>8.660254e-01</td>\n",
       "      <td>6.0</td>\n",
       "      <td>3.0</td>\n",
       "      <td>53.0</td>\n",
       "      <td>0.0</td>\n",
       "      <td>0.0</td>\n",
       "      <td>0.0</td>\n",
       "      <td>0.0</td>\n",
       "      <td>0.000000</td>\n",
       "      <td>0.000000</td>\n",
       "    </tr>\n",
       "    <tr>\n",
       "      <th>2021-01-03 03:00:00</th>\n",
       "      <td>0.0</td>\n",
       "      <td>2021.0</td>\n",
       "      <td>0.5</td>\n",
       "      <td>0.866025</td>\n",
       "      <td>0.0</td>\n",
       "      <td>1.0</td>\n",
       "      <td>7.071068e-01</td>\n",
       "      <td>7.071068e-01</td>\n",
       "      <td>6.0</td>\n",
       "      <td>3.0</td>\n",
       "      <td>53.0</td>\n",
       "      <td>0.0</td>\n",
       "      <td>0.0</td>\n",
       "      <td>0.0</td>\n",
       "      <td>0.0</td>\n",
       "      <td>0.000000</td>\n",
       "      <td>0.000000</td>\n",
       "    </tr>\n",
       "    <tr>\n",
       "      <th>2021-01-03 04:00:00</th>\n",
       "      <td>0.0</td>\n",
       "      <td>2021.0</td>\n",
       "      <td>0.5</td>\n",
       "      <td>0.866025</td>\n",
       "      <td>0.0</td>\n",
       "      <td>1.0</td>\n",
       "      <td>8.660254e-01</td>\n",
       "      <td>5.000000e-01</td>\n",
       "      <td>6.0</td>\n",
       "      <td>3.0</td>\n",
       "      <td>53.0</td>\n",
       "      <td>0.0</td>\n",
       "      <td>0.0</td>\n",
       "      <td>0.0</td>\n",
       "      <td>0.0</td>\n",
       "      <td>0.000000</td>\n",
       "      <td>0.000000</td>\n",
       "    </tr>\n",
       "    <tr>\n",
       "      <th>2021-01-03 05:00:00</th>\n",
       "      <td>0.0</td>\n",
       "      <td>2021.0</td>\n",
       "      <td>0.5</td>\n",
       "      <td>0.866025</td>\n",
       "      <td>0.0</td>\n",
       "      <td>1.0</td>\n",
       "      <td>9.659258e-01</td>\n",
       "      <td>2.588190e-01</td>\n",
       "      <td>6.0</td>\n",
       "      <td>3.0</td>\n",
       "      <td>53.0</td>\n",
       "      <td>0.0</td>\n",
       "      <td>0.0</td>\n",
       "      <td>0.0</td>\n",
       "      <td>0.0</td>\n",
       "      <td>0.000000</td>\n",
       "      <td>0.000000</td>\n",
       "    </tr>\n",
       "    <tr>\n",
       "      <th>2021-01-03 06:00:00</th>\n",
       "      <td>0.0</td>\n",
       "      <td>2021.0</td>\n",
       "      <td>0.5</td>\n",
       "      <td>0.866025</td>\n",
       "      <td>0.0</td>\n",
       "      <td>1.0</td>\n",
       "      <td>1.000000e+00</td>\n",
       "      <td>6.123234e-17</td>\n",
       "      <td>6.0</td>\n",
       "      <td>3.0</td>\n",
       "      <td>53.0</td>\n",
       "      <td>0.0</td>\n",
       "      <td>0.0</td>\n",
       "      <td>0.0</td>\n",
       "      <td>0.0</td>\n",
       "      <td>0.000000</td>\n",
       "      <td>0.000000</td>\n",
       "    </tr>\n",
       "    <tr>\n",
       "      <th>2021-01-03 07:00:00</th>\n",
       "      <td>0.0</td>\n",
       "      <td>2021.0</td>\n",
       "      <td>0.5</td>\n",
       "      <td>0.866025</td>\n",
       "      <td>0.0</td>\n",
       "      <td>1.0</td>\n",
       "      <td>9.659258e-01</td>\n",
       "      <td>-2.588190e-01</td>\n",
       "      <td>6.0</td>\n",
       "      <td>3.0</td>\n",
       "      <td>53.0</td>\n",
       "      <td>0.0</td>\n",
       "      <td>0.0</td>\n",
       "      <td>0.0</td>\n",
       "      <td>0.0</td>\n",
       "      <td>0.000000</td>\n",
       "      <td>0.000000</td>\n",
       "    </tr>\n",
       "    <tr>\n",
       "      <th>2021-01-03 08:00:00</th>\n",
       "      <td>0.0</td>\n",
       "      <td>2021.0</td>\n",
       "      <td>0.5</td>\n",
       "      <td>0.866025</td>\n",
       "      <td>0.0</td>\n",
       "      <td>1.0</td>\n",
       "      <td>8.660254e-01</td>\n",
       "      <td>-5.000000e-01</td>\n",
       "      <td>6.0</td>\n",
       "      <td>3.0</td>\n",
       "      <td>53.0</td>\n",
       "      <td>0.0</td>\n",
       "      <td>0.0</td>\n",
       "      <td>0.0</td>\n",
       "      <td>0.0</td>\n",
       "      <td>0.000000</td>\n",
       "      <td>0.000000</td>\n",
       "    </tr>\n",
       "    <tr>\n",
       "      <th>2021-01-03 09:00:00</th>\n",
       "      <td>0.0</td>\n",
       "      <td>2021.0</td>\n",
       "      <td>0.5</td>\n",
       "      <td>0.866025</td>\n",
       "      <td>0.0</td>\n",
       "      <td>1.0</td>\n",
       "      <td>7.071068e-01</td>\n",
       "      <td>-7.071068e-01</td>\n",
       "      <td>6.0</td>\n",
       "      <td>3.0</td>\n",
       "      <td>53.0</td>\n",
       "      <td>0.0</td>\n",
       "      <td>0.0</td>\n",
       "      <td>0.0</td>\n",
       "      <td>0.0</td>\n",
       "      <td>0.000000</td>\n",
       "      <td>0.000000</td>\n",
       "    </tr>\n",
       "    <tr>\n",
       "      <th>2021-01-03 10:00:00</th>\n",
       "      <td>0.0</td>\n",
       "      <td>2021.0</td>\n",
       "      <td>0.5</td>\n",
       "      <td>0.866025</td>\n",
       "      <td>0.0</td>\n",
       "      <td>1.0</td>\n",
       "      <td>5.000000e-01</td>\n",
       "      <td>-8.660254e-01</td>\n",
       "      <td>6.0</td>\n",
       "      <td>3.0</td>\n",
       "      <td>53.0</td>\n",
       "      <td>0.0</td>\n",
       "      <td>0.0</td>\n",
       "      <td>0.0</td>\n",
       "      <td>0.0</td>\n",
       "      <td>0.000000</td>\n",
       "      <td>0.414660</td>\n",
       "    </tr>\n",
       "    <tr>\n",
       "      <th>2021-01-03 11:00:00</th>\n",
       "      <td>0.0</td>\n",
       "      <td>2021.0</td>\n",
       "      <td>0.5</td>\n",
       "      <td>0.866025</td>\n",
       "      <td>0.0</td>\n",
       "      <td>1.0</td>\n",
       "      <td>2.588190e-01</td>\n",
       "      <td>-9.659258e-01</td>\n",
       "      <td>6.0</td>\n",
       "      <td>3.0</td>\n",
       "      <td>53.0</td>\n",
       "      <td>0.0</td>\n",
       "      <td>0.0</td>\n",
       "      <td>0.0</td>\n",
       "      <td>0.0</td>\n",
       "      <td>0.000000</td>\n",
       "      <td>0.691099</td>\n",
       "    </tr>\n",
       "    <tr>\n",
       "      <th>2021-01-03 12:00:00</th>\n",
       "      <td>0.0</td>\n",
       "      <td>2021.0</td>\n",
       "      <td>0.5</td>\n",
       "      <td>0.866025</td>\n",
       "      <td>0.0</td>\n",
       "      <td>1.0</td>\n",
       "      <td>1.224647e-16</td>\n",
       "      <td>-1.000000e+00</td>\n",
       "      <td>6.0</td>\n",
       "      <td>3.0</td>\n",
       "      <td>53.0</td>\n",
       "      <td>0.0</td>\n",
       "      <td>0.0</td>\n",
       "      <td>0.0</td>\n",
       "      <td>0.0</td>\n",
       "      <td>0.000000</td>\n",
       "      <td>0.691099</td>\n",
       "    </tr>\n",
       "    <tr>\n",
       "      <th>2021-01-03 13:00:00</th>\n",
       "      <td>0.0</td>\n",
       "      <td>2021.0</td>\n",
       "      <td>0.5</td>\n",
       "      <td>0.866025</td>\n",
       "      <td>0.0</td>\n",
       "      <td>1.0</td>\n",
       "      <td>-2.588190e-01</td>\n",
       "      <td>-9.659258e-01</td>\n",
       "      <td>6.0</td>\n",
       "      <td>3.0</td>\n",
       "      <td>53.0</td>\n",
       "      <td>0.0</td>\n",
       "      <td>0.0</td>\n",
       "      <td>0.0</td>\n",
       "      <td>0.0</td>\n",
       "      <td>0.000000</td>\n",
       "      <td>0.691099</td>\n",
       "    </tr>\n",
       "    <tr>\n",
       "      <th>2021-01-03 14:00:00</th>\n",
       "      <td>0.0</td>\n",
       "      <td>2021.0</td>\n",
       "      <td>0.5</td>\n",
       "      <td>0.866025</td>\n",
       "      <td>0.0</td>\n",
       "      <td>1.0</td>\n",
       "      <td>-5.000000e-01</td>\n",
       "      <td>-8.660254e-01</td>\n",
       "      <td>6.0</td>\n",
       "      <td>3.0</td>\n",
       "      <td>53.0</td>\n",
       "      <td>0.0</td>\n",
       "      <td>0.0</td>\n",
       "      <td>0.0</td>\n",
       "      <td>0.0</td>\n",
       "      <td>0.000000</td>\n",
       "      <td>0.691099</td>\n",
       "    </tr>\n",
       "    <tr>\n",
       "      <th>2021-01-03 15:00:00</th>\n",
       "      <td>0.0</td>\n",
       "      <td>2021.0</td>\n",
       "      <td>0.5</td>\n",
       "      <td>0.866025</td>\n",
       "      <td>0.0</td>\n",
       "      <td>1.0</td>\n",
       "      <td>-7.071068e-01</td>\n",
       "      <td>-7.071068e-01</td>\n",
       "      <td>6.0</td>\n",
       "      <td>3.0</td>\n",
       "      <td>53.0</td>\n",
       "      <td>0.0</td>\n",
       "      <td>0.0</td>\n",
       "      <td>0.0</td>\n",
       "      <td>0.0</td>\n",
       "      <td>0.000000</td>\n",
       "      <td>0.691099</td>\n",
       "    </tr>\n",
       "    <tr>\n",
       "      <th>2021-01-03 16:00:00</th>\n",
       "      <td>0.0</td>\n",
       "      <td>2021.0</td>\n",
       "      <td>0.5</td>\n",
       "      <td>0.866025</td>\n",
       "      <td>0.0</td>\n",
       "      <td>1.0</td>\n",
       "      <td>-8.660254e-01</td>\n",
       "      <td>-5.000000e-01</td>\n",
       "      <td>6.0</td>\n",
       "      <td>3.0</td>\n",
       "      <td>53.0</td>\n",
       "      <td>0.0</td>\n",
       "      <td>0.0</td>\n",
       "      <td>0.0</td>\n",
       "      <td>0.0</td>\n",
       "      <td>0.000000</td>\n",
       "      <td>0.691099</td>\n",
       "    </tr>\n",
       "    <tr>\n",
       "      <th>2021-01-03 17:00:00</th>\n",
       "      <td>0.0</td>\n",
       "      <td>2021.0</td>\n",
       "      <td>0.5</td>\n",
       "      <td>0.866025</td>\n",
       "      <td>0.0</td>\n",
       "      <td>1.0</td>\n",
       "      <td>-9.659258e-01</td>\n",
       "      <td>-2.588190e-01</td>\n",
       "      <td>6.0</td>\n",
       "      <td>3.0</td>\n",
       "      <td>53.0</td>\n",
       "      <td>0.0</td>\n",
       "      <td>0.0</td>\n",
       "      <td>0.0</td>\n",
       "      <td>0.0</td>\n",
       "      <td>0.000000</td>\n",
       "      <td>0.691099</td>\n",
       "    </tr>\n",
       "    <tr>\n",
       "      <th>2021-01-03 18:00:00</th>\n",
       "      <td>0.0</td>\n",
       "      <td>2021.0</td>\n",
       "      <td>0.5</td>\n",
       "      <td>0.866025</td>\n",
       "      <td>0.0</td>\n",
       "      <td>1.0</td>\n",
       "      <td>-1.000000e+00</td>\n",
       "      <td>-1.836970e-16</td>\n",
       "      <td>6.0</td>\n",
       "      <td>3.0</td>\n",
       "      <td>53.0</td>\n",
       "      <td>0.0</td>\n",
       "      <td>0.0</td>\n",
       "      <td>0.0</td>\n",
       "      <td>0.0</td>\n",
       "      <td>0.000000</td>\n",
       "      <td>0.691099</td>\n",
       "    </tr>\n",
       "    <tr>\n",
       "      <th>2021-01-03 19:00:00</th>\n",
       "      <td>0.0</td>\n",
       "      <td>2021.0</td>\n",
       "      <td>0.5</td>\n",
       "      <td>0.866025</td>\n",
       "      <td>0.0</td>\n",
       "      <td>1.0</td>\n",
       "      <td>-9.659258e-01</td>\n",
       "      <td>2.588190e-01</td>\n",
       "      <td>6.0</td>\n",
       "      <td>3.0</td>\n",
       "      <td>53.0</td>\n",
       "      <td>0.0</td>\n",
       "      <td>0.0</td>\n",
       "      <td>0.0</td>\n",
       "      <td>0.0</td>\n",
       "      <td>0.000000</td>\n",
       "      <td>0.691099</td>\n",
       "    </tr>\n",
       "    <tr>\n",
       "      <th>2021-01-03 20:00:00</th>\n",
       "      <td>0.0</td>\n",
       "      <td>2021.0</td>\n",
       "      <td>0.5</td>\n",
       "      <td>0.866025</td>\n",
       "      <td>0.0</td>\n",
       "      <td>1.0</td>\n",
       "      <td>-8.660254e-01</td>\n",
       "      <td>5.000000e-01</td>\n",
       "      <td>6.0</td>\n",
       "      <td>3.0</td>\n",
       "      <td>53.0</td>\n",
       "      <td>0.0</td>\n",
       "      <td>0.0</td>\n",
       "      <td>0.0</td>\n",
       "      <td>0.0</td>\n",
       "      <td>0.000000</td>\n",
       "      <td>0.103665</td>\n",
       "    </tr>\n",
       "    <tr>\n",
       "      <th>2021-01-03 21:00:00</th>\n",
       "      <td>0.0</td>\n",
       "      <td>2021.0</td>\n",
       "      <td>0.5</td>\n",
       "      <td>0.866025</td>\n",
       "      <td>0.0</td>\n",
       "      <td>1.0</td>\n",
       "      <td>-7.071068e-01</td>\n",
       "      <td>7.071068e-01</td>\n",
       "      <td>6.0</td>\n",
       "      <td>3.0</td>\n",
       "      <td>53.0</td>\n",
       "      <td>0.0</td>\n",
       "      <td>0.0</td>\n",
       "      <td>0.0</td>\n",
       "      <td>0.0</td>\n",
       "      <td>0.000000</td>\n",
       "      <td>0.000000</td>\n",
       "    </tr>\n",
       "    <tr>\n",
       "      <th>2021-01-03 22:00:00</th>\n",
       "      <td>0.0</td>\n",
       "      <td>2021.0</td>\n",
       "      <td>0.5</td>\n",
       "      <td>0.866025</td>\n",
       "      <td>0.0</td>\n",
       "      <td>1.0</td>\n",
       "      <td>-5.000000e-01</td>\n",
       "      <td>8.660254e-01</td>\n",
       "      <td>6.0</td>\n",
       "      <td>3.0</td>\n",
       "      <td>53.0</td>\n",
       "      <td>0.0</td>\n",
       "      <td>0.0</td>\n",
       "      <td>0.0</td>\n",
       "      <td>0.0</td>\n",
       "      <td>0.000000</td>\n",
       "      <td>0.000000</td>\n",
       "    </tr>\n",
       "    <tr>\n",
       "      <th>2021-01-03 23:00:00</th>\n",
       "      <td>0.0</td>\n",
       "      <td>2021.0</td>\n",
       "      <td>0.5</td>\n",
       "      <td>0.866025</td>\n",
       "      <td>0.0</td>\n",
       "      <td>1.0</td>\n",
       "      <td>-2.588190e-01</td>\n",
       "      <td>9.659258e-01</td>\n",
       "      <td>6.0</td>\n",
       "      <td>3.0</td>\n",
       "      <td>53.0</td>\n",
       "      <td>0.0</td>\n",
       "      <td>0.0</td>\n",
       "      <td>0.0</td>\n",
       "      <td>0.0</td>\n",
       "      <td>0.000000</td>\n",
       "      <td>0.000000</td>\n",
       "    </tr>\n",
       "    <tr>\n",
       "      <th>2021-01-04 00:00:00</th>\n",
       "      <td>0.0</td>\n",
       "      <td>2021.0</td>\n",
       "      <td>0.5</td>\n",
       "      <td>0.866025</td>\n",
       "      <td>0.0</td>\n",
       "      <td>1.0</td>\n",
       "      <td>0.000000e+00</td>\n",
       "      <td>1.000000e+00</td>\n",
       "      <td>0.0</td>\n",
       "      <td>4.0</td>\n",
       "      <td>1.0</td>\n",
       "      <td>0.0</td>\n",
       "      <td>0.0</td>\n",
       "      <td>0.0</td>\n",
       "      <td>0.0</td>\n",
       "      <td>0.000000</td>\n",
       "      <td>0.000000</td>\n",
       "    </tr>\n",
       "  </tbody>\n",
       "</table>\n",
       "</div>"
      ],
      "text/plain": [
       "                     Total Demand (kw)    year  month_sin  month_cos  day_sin  \\\n",
       "2021-01-03 00:00:00                0.0  2021.0        0.5   0.866025      0.0   \n",
       "2021-01-03 01:00:00                0.0  2021.0        0.5   0.866025      0.0   \n",
       "2021-01-03 02:00:00                0.0  2021.0        0.5   0.866025      0.0   \n",
       "2021-01-03 03:00:00                0.0  2021.0        0.5   0.866025      0.0   \n",
       "2021-01-03 04:00:00                0.0  2021.0        0.5   0.866025      0.0   \n",
       "2021-01-03 05:00:00                0.0  2021.0        0.5   0.866025      0.0   \n",
       "2021-01-03 06:00:00                0.0  2021.0        0.5   0.866025      0.0   \n",
       "2021-01-03 07:00:00                0.0  2021.0        0.5   0.866025      0.0   \n",
       "2021-01-03 08:00:00                0.0  2021.0        0.5   0.866025      0.0   \n",
       "2021-01-03 09:00:00                0.0  2021.0        0.5   0.866025      0.0   \n",
       "2021-01-03 10:00:00                0.0  2021.0        0.5   0.866025      0.0   \n",
       "2021-01-03 11:00:00                0.0  2021.0        0.5   0.866025      0.0   \n",
       "2021-01-03 12:00:00                0.0  2021.0        0.5   0.866025      0.0   \n",
       "2021-01-03 13:00:00                0.0  2021.0        0.5   0.866025      0.0   \n",
       "2021-01-03 14:00:00                0.0  2021.0        0.5   0.866025      0.0   \n",
       "2021-01-03 15:00:00                0.0  2021.0        0.5   0.866025      0.0   \n",
       "2021-01-03 16:00:00                0.0  2021.0        0.5   0.866025      0.0   \n",
       "2021-01-03 17:00:00                0.0  2021.0        0.5   0.866025      0.0   \n",
       "2021-01-03 18:00:00                0.0  2021.0        0.5   0.866025      0.0   \n",
       "2021-01-03 19:00:00                0.0  2021.0        0.5   0.866025      0.0   \n",
       "2021-01-03 20:00:00                0.0  2021.0        0.5   0.866025      0.0   \n",
       "2021-01-03 21:00:00                0.0  2021.0        0.5   0.866025      0.0   \n",
       "2021-01-03 22:00:00                0.0  2021.0        0.5   0.866025      0.0   \n",
       "2021-01-03 23:00:00                0.0  2021.0        0.5   0.866025      0.0   \n",
       "2021-01-04 00:00:00                0.0  2021.0        0.5   0.866025      0.0   \n",
       "\n",
       "                     day_cos      hour_sin      hour_cos  dayofweek  \\\n",
       "2021-01-03 00:00:00      1.0  0.000000e+00  1.000000e+00        6.0   \n",
       "2021-01-03 01:00:00      1.0  2.588190e-01  9.659258e-01        6.0   \n",
       "2021-01-03 02:00:00      1.0  5.000000e-01  8.660254e-01        6.0   \n",
       "2021-01-03 03:00:00      1.0  7.071068e-01  7.071068e-01        6.0   \n",
       "2021-01-03 04:00:00      1.0  8.660254e-01  5.000000e-01        6.0   \n",
       "2021-01-03 05:00:00      1.0  9.659258e-01  2.588190e-01        6.0   \n",
       "2021-01-03 06:00:00      1.0  1.000000e+00  6.123234e-17        6.0   \n",
       "2021-01-03 07:00:00      1.0  9.659258e-01 -2.588190e-01        6.0   \n",
       "2021-01-03 08:00:00      1.0  8.660254e-01 -5.000000e-01        6.0   \n",
       "2021-01-03 09:00:00      1.0  7.071068e-01 -7.071068e-01        6.0   \n",
       "2021-01-03 10:00:00      1.0  5.000000e-01 -8.660254e-01        6.0   \n",
       "2021-01-03 11:00:00      1.0  2.588190e-01 -9.659258e-01        6.0   \n",
       "2021-01-03 12:00:00      1.0  1.224647e-16 -1.000000e+00        6.0   \n",
       "2021-01-03 13:00:00      1.0 -2.588190e-01 -9.659258e-01        6.0   \n",
       "2021-01-03 14:00:00      1.0 -5.000000e-01 -8.660254e-01        6.0   \n",
       "2021-01-03 15:00:00      1.0 -7.071068e-01 -7.071068e-01        6.0   \n",
       "2021-01-03 16:00:00      1.0 -8.660254e-01 -5.000000e-01        6.0   \n",
       "2021-01-03 17:00:00      1.0 -9.659258e-01 -2.588190e-01        6.0   \n",
       "2021-01-03 18:00:00      1.0 -1.000000e+00 -1.836970e-16        6.0   \n",
       "2021-01-03 19:00:00      1.0 -9.659258e-01  2.588190e-01        6.0   \n",
       "2021-01-03 20:00:00      1.0 -8.660254e-01  5.000000e-01        6.0   \n",
       "2021-01-03 21:00:00      1.0 -7.071068e-01  7.071068e-01        6.0   \n",
       "2021-01-03 22:00:00      1.0 -5.000000e-01  8.660254e-01        6.0   \n",
       "2021-01-03 23:00:00      1.0 -2.588190e-01  9.659258e-01        6.0   \n",
       "2021-01-04 00:00:00      1.0  0.000000e+00  1.000000e+00        0.0   \n",
       "\n",
       "                     dayofyear  week  holidays  prev_demand  prev_demand2  \\\n",
       "2021-01-03 00:00:00        3.0  53.0       0.0          0.0           0.0   \n",
       "2021-01-03 01:00:00        3.0  53.0       0.0          0.0           0.0   \n",
       "2021-01-03 02:00:00        3.0  53.0       0.0          0.0           0.0   \n",
       "2021-01-03 03:00:00        3.0  53.0       0.0          0.0           0.0   \n",
       "2021-01-03 04:00:00        3.0  53.0       0.0          0.0           0.0   \n",
       "2021-01-03 05:00:00        3.0  53.0       0.0          0.0           0.0   \n",
       "2021-01-03 06:00:00        3.0  53.0       0.0          0.0           0.0   \n",
       "2021-01-03 07:00:00        3.0  53.0       0.0          0.0           0.0   \n",
       "2021-01-03 08:00:00        3.0  53.0       0.0          0.0           0.0   \n",
       "2021-01-03 09:00:00        3.0  53.0       0.0          0.0           0.0   \n",
       "2021-01-03 10:00:00        3.0  53.0       0.0          0.0           0.0   \n",
       "2021-01-03 11:00:00        3.0  53.0       0.0          0.0           0.0   \n",
       "2021-01-03 12:00:00        3.0  53.0       0.0          0.0           0.0   \n",
       "2021-01-03 13:00:00        3.0  53.0       0.0          0.0           0.0   \n",
       "2021-01-03 14:00:00        3.0  53.0       0.0          0.0           0.0   \n",
       "2021-01-03 15:00:00        3.0  53.0       0.0          0.0           0.0   \n",
       "2021-01-03 16:00:00        3.0  53.0       0.0          0.0           0.0   \n",
       "2021-01-03 17:00:00        3.0  53.0       0.0          0.0           0.0   \n",
       "2021-01-03 18:00:00        3.0  53.0       0.0          0.0           0.0   \n",
       "2021-01-03 19:00:00        3.0  53.0       0.0          0.0           0.0   \n",
       "2021-01-03 20:00:00        3.0  53.0       0.0          0.0           0.0   \n",
       "2021-01-03 21:00:00        3.0  53.0       0.0          0.0           0.0   \n",
       "2021-01-03 22:00:00        3.0  53.0       0.0          0.0           0.0   \n",
       "2021-01-03 23:00:00        3.0  53.0       0.0          0.0           0.0   \n",
       "2021-01-04 00:00:00        4.0   1.0       0.0          0.0           0.0   \n",
       "\n",
       "                     prev_demand3  prev_demand4  yesterday_demand  \n",
       "2021-01-03 00:00:00           0.0      0.103665          0.000000  \n",
       "2021-01-03 01:00:00           0.0      0.000000          0.000000  \n",
       "2021-01-03 02:00:00           0.0      0.000000          0.000000  \n",
       "2021-01-03 03:00:00           0.0      0.000000          0.000000  \n",
       "2021-01-03 04:00:00           0.0      0.000000          0.000000  \n",
       "2021-01-03 05:00:00           0.0      0.000000          0.000000  \n",
       "2021-01-03 06:00:00           0.0      0.000000          0.000000  \n",
       "2021-01-03 07:00:00           0.0      0.000000          0.000000  \n",
       "2021-01-03 08:00:00           0.0      0.000000          0.000000  \n",
       "2021-01-03 09:00:00           0.0      0.000000          0.000000  \n",
       "2021-01-03 10:00:00           0.0      0.000000          0.414660  \n",
       "2021-01-03 11:00:00           0.0      0.000000          0.691099  \n",
       "2021-01-03 12:00:00           0.0      0.000000          0.691099  \n",
       "2021-01-03 13:00:00           0.0      0.000000          0.691099  \n",
       "2021-01-03 14:00:00           0.0      0.000000          0.691099  \n",
       "2021-01-03 15:00:00           0.0      0.000000          0.691099  \n",
       "2021-01-03 16:00:00           0.0      0.000000          0.691099  \n",
       "2021-01-03 17:00:00           0.0      0.000000          0.691099  \n",
       "2021-01-03 18:00:00           0.0      0.000000          0.691099  \n",
       "2021-01-03 19:00:00           0.0      0.000000          0.691099  \n",
       "2021-01-03 20:00:00           0.0      0.000000          0.103665  \n",
       "2021-01-03 21:00:00           0.0      0.000000          0.000000  \n",
       "2021-01-03 22:00:00           0.0      0.000000          0.000000  \n",
       "2021-01-03 23:00:00           0.0      0.000000          0.000000  \n",
       "2021-01-04 00:00:00           0.0      0.000000          0.000000  "
      ]
     },
     "execution_count": 8,
     "metadata": {},
     "output_type": "execute_result"
    }
   ],
   "source": [
    "df60['prev_demand'] = df60['Total Demand (kw)'].shift(1)\n",
    "df60['prev_demand2'] = df60['Total Demand (kw)'].shift(2)\n",
    "df60['prev_demand3'] = df60['Total Demand (kw)'].shift(3)\n",
    "df60['prev_demand4'] = df60['Total Demand (kw)'].shift(4)\n",
    "\n",
    "df60['yesterday_demand'] = df60['Total Demand (kw)'].shift(24)\n",
    "\n",
    "df60 = df60.dropna()\n",
    "df60.head(25)"
   ]
  },
  {
   "cell_type": "markdown",
   "id": "6e28abe6",
   "metadata": {},
   "source": [
    " ### Regression models for demand forecasting"
   ]
  },
  {
   "cell_type": "markdown",
   "id": "a67651da",
   "metadata": {},
   "source": [
    "#### Split to train and test set with the last 12 days to constitute the test set"
   ]
  },
  {
   "cell_type": "code",
   "execution_count": 10,
   "id": "1963c28a",
   "metadata": {},
   "outputs": [],
   "source": [
    "y = df60[['Total Demand (kw)']]\n",
    "X = df60[['prev_demand', 'prev_demand2','prev_demand3', 'prev_demand4','month_sin', 'month_cos', 'day_sin', 'day_cos', 'hour_sin', 'hour_cos', 'dayofweek', 'dayofyear', 'holidays']]"
   ]
  },
  {
   "cell_type": "code",
   "execution_count": 12,
   "id": "07fdb4f1",
   "metadata": {},
   "outputs": [],
   "source": [
    "X_train = X[:-(12*24)]\n",
    "y_train = y[:-(12*24)]\n",
    "\n",
    "X_test = X[-(12*24):]\n",
    "y_test = y[-(12*24):]"
   ]
  },
  {
   "cell_type": "markdown",
   "id": "96614064",
   "metadata": {},
   "source": [
    "#### Decision Tree Regression"
   ]
  },
  {
   "cell_type": "code",
   "execution_count": 13,
   "id": "46d0b56a",
   "metadata": {},
   "outputs": [],
   "source": [
    "tree_reg = tree.DecisionTreeRegressor()\n",
    "tree_reg = tree_reg.fit(X_train, y_train)\n",
    "\n",
    "y_train_pred_dec_tree = tree_reg.predict(X_train)\n",
    "y_test_pred_dec_tree = tree_reg.predict(X_test)"
   ]
  },
  {
   "cell_type": "code",
   "execution_count": 17,
   "id": "4e5bfb1f",
   "metadata": {},
   "outputs": [
    {
     "name": "stdout",
     "output_type": "stream",
     "text": [
      "3.579947048495289\n"
     ]
    }
   ],
   "source": [
    "MSE_train_dec_tree = mean_squared_error(y_train, y_train_pred_dec_tree)\n",
    "MSE_test_dec_tree = mean_squared_error(y_test, y_test_pred_dec_tree)\n",
    "\n",
    "# MAPE_train_dec_tree = mean_absolute_percentage_error(y_train, y_train_pred_dec_tree)\n",
    "# MAPE_test_dec_tree = mean_absolute_percentage_error(y_test, y_test_pred_dec_tree)\n",
    "\n",
    "\n",
    "print(MSE_test_dec_tree)"
   ]
  },
  {
   "cell_type": "code",
   "execution_count": 18,
   "id": "7cabba47",
   "metadata": {},
   "outputs": [
    {
     "name": "stdout",
     "output_type": "stream",
     "text": [
      "MSE naive: 0.7682674868541176\n",
      "MSE: 3.579947048495289\n",
      "RMSE: 1.8920747999207876\n"
     ]
    },
    {
     "data": {
      "text/plain": [
       "<Figure size 432x288 with 0 Axes>"
      ]
     },
     "metadata": {},
     "output_type": "display_data"
    },
    {
     "data": {
      "image/png": "[encoded data removed]",
      "text/plain": [
       "<Figure size 1080x216 with 1 Axes>"
      ]
     },
     "metadata": {
      "needs_background": "light"
     },
     "output_type": "display_data"
    }
   ],
   "source": [
    "from sklearn.metrics import mean_squared_error as mse \n",
    "from sklearn.metrics import mean_absolute_percentage_error as mape\n",
    "import numpy as np\n",
    "import matplotlib.pyplot as plt\n",
    "\n",
    "\n",
    "ground_truth_line = pd.concat([y_train[-5*24:], y_test])\n",
    "\n",
    "naive_pred = [y_train.to_numpy().tolist()[-1]] + y_test.to_numpy().tolist()[:-1]\n",
    "print(\"MSE naive:\", mse(y_test, naive_pred))\n",
    "print(\"MSE:\", mse(y_test, y_test_pred_dec_tree))\n",
    "print(\"RMSE:\", np.sqrt(mse(y_test, y_test_pred_dec_tree)))\n",
    "\n",
    "plt.figure()\n",
    "plot = ground_truth_line.plot(figsize=(15, 3), label='Data', legend=True, title=\"11 day ahead forecast\")\n",
    "a = pd.Series(y_test_pred_dec_tree)\n",
    "a.index = pd.Series(y_test['Total Demand (kw)']).index\n",
    "a.plot(label='Forecast', legend=True)\n",
    "plot.grid()\n",
    "plt.show()"
   ]
  },
  {
   "cell_type": "code",
   "execution_count": 19,
   "id": "ebdbc312",
   "metadata": {},
   "outputs": [
    {
     "data": {
      "text/plain": [
       "(288,)"
      ]
     },
     "execution_count": 19,
     "metadata": {},
     "output_type": "execute_result"
    }
   ],
   "source": [
    "y_test['Total Demand (kw)'].to_numpy().shape"
   ]
  },
  {
   "cell_type": "markdown",
   "id": "3bb6b659",
   "metadata": {},
   "source": [
    "#### SVM Baseline model"
   ]
  },
  {
   "cell_type": "code",
   "execution_count": 20,
   "id": "c2929d85",
   "metadata": {},
   "outputs": [
    {
     "name": "stderr",
     "output_type": "stream",
     "text": [
      "C:\\Users\\vkarakolis.EPU\\Anaconda3\\envs\\veolia\\lib\\site-packages\\sklearn\\utils\\validation.py:63: DataConversionWarning: A column-vector y was passed when a 1d array was expected. Please change the shape of y to (n_samples, ), for example using ravel().\n",
      "  return f(*args, **kwargs)\n"
     ]
    }
   ],
   "source": [
    "from sklearn.svm import SVR\n",
    "from sklearn.pipeline import make_pipeline\n",
    "from sklearn.preprocessing import StandardScaler\n",
    "\n",
    "sv_regr = make_pipeline(StandardScaler(), SVR(C=1.0, epsilon=0.2))\n",
    "sv_regr.fit(X_train, y_train)\n",
    "\n",
    "y_train_pred_svr = sv_regr.predict(X_train)\n",
    "y_test_pred_svr = sv_regr.predict(X_test)"
   ]
  },
  {
   "cell_type": "code",
   "execution_count": 21,
   "id": "4bc63258",
   "metadata": {},
   "outputs": [
    {
     "name": "stdout",
     "output_type": "stream",
     "text": [
      "0.5803806575401735\n"
     ]
    }
   ],
   "source": [
    "MSE_test_svr = mean_squared_error(y_test, y_test_pred_svr)\n",
    "\n",
    "# MAPE_test_svr = mean_absolute_percentage_error(y_test, y_test_pred_svr)\n",
    "\n",
    "\n",
    "print(MSE_test_svr)"
   ]
  },
  {
   "cell_type": "code",
   "execution_count": 23,
   "id": "2b308f7d",
   "metadata": {},
   "outputs": [
    {
     "name": "stdout",
     "output_type": "stream",
     "text": [
      "MSE naive: 0.7682674868541176\n",
      "MSE: 0.5803806575401735\n",
      "RMSE: 0.7618271835135404\n"
     ]
    },
    {
     "data": {
      "text/plain": [
       "<Figure size 432x288 with 0 Axes>"
      ]
     },
     "metadata": {},
     "output_type": "display_data"
    },
    {
     "data": {
      "image/png": "[encoded data removed]",
      "text/plain": [
       "<Figure size 1080x216 with 1 Axes>"
      ]
     },
     "metadata": {
      "needs_background": "light"
     },
     "output_type": "display_data"
    }
   ],
   "source": [
    "ground_truth_line = pd.concat([y_train[-5*24:], y_test])\n",
    "\n",
    "naive_pred = [y_train.to_numpy().tolist()[-1]] + y_test.to_numpy().tolist()[:-1]\n",
    "print(\"MSE naive:\", mse(y_test, naive_pred))\n",
    "# print(\"MAPE:\", mape(y_test, y_test_pred_svr))\n",
    "print(\"MSE:\", mse(y_test, y_test_pred_svr))\n",
    "print(\"RMSE:\", np.sqrt(mse(y_test, y_test_pred_svr)))\n",
    "\n",
    "plt.figure()\n",
    "plot = ground_truth_line.plot(figsize=(15, 3), label='Data', legend=True, title=\"11 day ahead forecast\")\n",
    "a = pd.Series(y_test_pred_svr)\n",
    "a.index = pd.Series(y_test['Total Demand (kw)']).index\n",
    "a.plot(label='Forecast', legend=True)\n",
    "plot.grid()\n",
    "plt.show()"
   ]
  },
  {
   "cell_type": "markdown",
   "id": "7041aa63",
   "metadata": {},
   "source": [
    "#### Random forest regression"
   ]
  },
  {
   "cell_type": "code",
   "execution_count": 24,
   "id": "36c550e8",
   "metadata": {},
   "outputs": [
    {
     "name": "stderr",
     "output_type": "stream",
     "text": [
      "<ipython-input-24-156f1dc969f9>:4: DataConversionWarning: A column-vector y was passed when a 1d array was expected. Please change the shape of y to (n_samples,), for example using ravel().\n",
      "  rf_reg = rf_reg.fit(X_train, y_train)\n"
     ]
    }
   ],
   "source": [
    "from sklearn.ensemble import RandomForestRegressor\n",
    "\n",
    "rf_reg = RandomForestRegressor()\n",
    "rf_reg = rf_reg.fit(X_train, y_train)\n",
    "\n",
    "y_train_pred_rf = rf_reg.predict(X_train)\n",
    "y_test_pred_rf = rf_reg.predict(X_test)"
   ]
  },
  {
   "cell_type": "code",
   "execution_count": 25,
   "id": "9c0cbf29",
   "metadata": {},
   "outputs": [
    {
     "name": "stdout",
     "output_type": "stream",
     "text": [
      "1.9318205284008114\n"
     ]
    }
   ],
   "source": [
    "MSE_train_rf = mean_squared_error(y_train, y_train_pred_rf)\n",
    "MSE_test_rf = mean_squared_error(y_test, y_test_pred_rf)\n",
    "\n",
    "# MAPE_train_rf = mean_absolute_percentage_error(y_train, y_train_pred_rf)\n",
    "# MAPE_test_rf = mean_absolute_percentage_error(y_test, y_test_pred_rf)\n",
    "\n",
    "\n",
    "print(MSE_test_rf)"
   ]
  },
  {
   "cell_type": "code",
   "execution_count": 26,
   "id": "a4550e90",
   "metadata": {},
   "outputs": [
    {
     "name": "stdout",
     "output_type": "stream",
     "text": [
      "MSE naive: 0.7682674868541176\n",
      "MSE: 1.9318205284008114\n",
      "RMSE: 1.389899467012205\n"
     ]
    },
    {
     "data": {
      "text/plain": [
       "<Figure size 432x288 with 0 Axes>"
      ]
     },
     "metadata": {},
     "output_type": "display_data"
    },
    {
     "data": {
      "image/png": "[encoded data removed]",
      "text/plain": [
       "<Figure size 1080x216 with 1 Axes>"
      ]
     },
     "metadata": {
      "needs_background": "light"
     },
     "output_type": "display_data"
    }
   ],
   "source": [
    "ground_truth_line = pd.concat([y_train[-5*24:], y_test])\n",
    "\n",
    "naive_pred = [y_train.to_numpy().tolist()[-1]] + y_test.to_numpy().tolist()[:-1]\n",
    "print(\"MSE naive:\", mse(y_test, naive_pred))\n",
    "print(\"MSE:\", mse(y_test, y_test_pred_rf))\n",
    "print(\"RMSE:\", np.sqrt(mse(y_test, y_test_pred_rf)))\n",
    "\n",
    "plt.figure()\n",
    "plot = ground_truth_line.plot(figsize=(15, 3), label='Data', legend=True, title=\"11 day ahead forecast\")\n",
    "a = pd.Series(y_test_pred_rf)\n",
    "a.index = pd.Series(y_test['Total Demand (kw)']).index\n",
    "a.plot(label='Forecast', legend=True)\n",
    "plot.grid()\n",
    "plt.show()"
   ]
  },
  {
   "cell_type": "markdown",
   "id": "78d8d38a",
   "metadata": {},
   "source": [
    "### XGBoost"
   ]
  },
  {
   "cell_type": "code",
   "execution_count": 27,
   "id": "55ace69c",
   "metadata": {},
   "outputs": [],
   "source": [
    "import xgboost\n",
    "\n",
    "xgb_reg = xgboost.XGBRegressor()\n",
    "xgb_reg.fit(X_train, y_train)\n",
    "\n",
    "y_test_pred_xgb = xgb_reg.predict(X_test)"
   ]
  },
  {
   "cell_type": "code",
   "execution_count": 28,
   "id": "0a9e96c9",
   "metadata": {},
   "outputs": [
    {
     "name": "stdout",
     "output_type": "stream",
     "text": [
      "2.4295601068814268\n"
     ]
    }
   ],
   "source": [
    "MSE_test_xgb = mean_squared_error(y_test, y_test_pred_xgb)\n",
    "\n",
    "print(MSE_test_xgb)"
   ]
  },
  {
   "cell_type": "code",
   "execution_count": 29,
   "id": "86c29d74",
   "metadata": {},
   "outputs": [
    {
     "name": "stdout",
     "output_type": "stream",
     "text": [
      "MSE naive: 0.7682674868541176\n",
      "MSE: 2.4295601068814268\n",
      "RMSE: 1.5587046246423428\n"
     ]
    },
    {
     "data": {
      "text/plain": [
       "<Figure size 432x288 with 0 Axes>"
      ]
     },
     "metadata": {},
     "output_type": "display_data"
    },
    {
     "data": {
      "image/png": "[encoded data removed]",
      "text/plain": [
       "<Figure size 1080x216 with 1 Axes>"
      ]
     },
     "metadata": {
      "needs_background": "light"
     },
     "output_type": "display_data"
    }
   ],
   "source": [
    "ground_truth_line = pd.concat([y_train[-5*24:], y_test])\n",
    "\n",
    "naive_pred = [y_train.to_numpy().tolist()[-1]] + y_test.to_numpy().tolist()[:-1]\n",
    "print(\"MSE naive:\", mse(y_test, naive_pred))\n",
    "print(\"MSE:\", mse(y_test, y_test_pred_xgb))\n",
    "print(\"RMSE:\", np.sqrt(mse(y_test, y_test_pred_xgb)))\n",
    "\n",
    "plt.figure()\n",
    "plot = ground_truth_line.plot(figsize=(15, 3), label='Data', legend=True, title=\"11 day ahead forecast\")\n",
    "a = pd.Series(y_test_pred_xgb)\n",
    "a.index = pd.Series(y_test['Total Demand (kw)']).index\n",
    "a.plot(label='Forecast', legend=True)\n",
    "plot.grid()\n",
    "plt.show()"
   ]
  },
  {
   "cell_type": "code",
   "execution_count": null,
   "id": "414151fc",
   "metadata": {},
   "outputs": [],
   "source": []
  }
 ],
 "metadata": {
  "kernelspec": {
   "display_name": "Python 3",
   "language": "python",
   "name": "python3"
  },
  "language_info": {
   "codemirror_mode": {
    "name": "ipython",
    "version": 3
   },
   "file_extension": ".py",
   "mimetype": "text/x-python",
   "name": "python",
   "nbconvert_exporter": "python",
   "pygments_lexer": "ipython3",
   "version": "3.8.10"
  }
 },
 "nbformat": 4,
 "nbformat_minor": 5
}
