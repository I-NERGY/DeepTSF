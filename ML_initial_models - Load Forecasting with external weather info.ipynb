{
 "cells": [
  {
   "cell_type": "markdown",
   "id": "6c4f1e45",
   "metadata": {},
   "source": [
    "# Training and forecast of ML models"
   ]
  },
  {
   "cell_type": "code",
   "execution_count": 53,
   "id": "fa6432b6",
   "metadata": {},
   "outputs": [],
   "source": [
    "import pandas as pd"
   ]
  },
  {
   "cell_type": "code",
   "execution_count": 196,
   "id": "98a71ee6",
   "metadata": {},
   "outputs": [
    {
     "data": {
      "text/html": [
       "<div>\n",
       "<style scoped>\n",
       "    .dataframe tbody tr th:only-of-type {\n",
       "        vertical-align: middle;\n",
       "    }\n",
       "\n",
       "    .dataframe tbody tr th {\n",
       "        vertical-align: top;\n",
       "    }\n",
       "\n",
       "    .dataframe thead th {\n",
       "        text-align: right;\n",
       "    }\n",
       "</style>\n",
       "<table border=\"1\" class=\"dataframe\">\n",
       "  <thead>\n",
       "    <tr style=\"text-align: right;\">\n",
       "      <th></th>\n",
       "      <th>Diff Load Activa Total (60 minuto)</th>\n",
       "      <th>TEMPERATURA EXTERIOR (60 minuto)</th>\n",
       "    </tr>\n",
       "    <tr>\n",
       "      <th>datetime</th>\n",
       "      <th></th>\n",
       "      <th></th>\n",
       "    </tr>\n",
       "  </thead>\n",
       "  <tbody>\n",
       "    <tr>\n",
       "      <th>2020-11-01 00:00:00</th>\n",
       "      <td>NaN</td>\n",
       "      <td>NaN</td>\n",
       "    </tr>\n",
       "    <tr>\n",
       "      <th>2020-11-01 01:00:00</th>\n",
       "      <td>NaN</td>\n",
       "      <td>NaN</td>\n",
       "    </tr>\n",
       "    <tr>\n",
       "      <th>2020-11-01 02:00:00</th>\n",
       "      <td>NaN</td>\n",
       "      <td>NaN</td>\n",
       "    </tr>\n",
       "    <tr>\n",
       "      <th>2020-11-01 03:00:00</th>\n",
       "      <td>NaN</td>\n",
       "      <td>NaN</td>\n",
       "    </tr>\n",
       "    <tr>\n",
       "      <th>2020-11-01 04:00:00</th>\n",
       "      <td>NaN</td>\n",
       "      <td>NaN</td>\n",
       "    </tr>\n",
       "  </tbody>\n",
       "</table>\n",
       "</div>"
      ],
      "text/plain": [
       "                     Diff Load Activa Total (60 minuto)  \\\n",
       "datetime                                                  \n",
       "2020-11-01 00:00:00                                 NaN   \n",
       "2020-11-01 01:00:00                                 NaN   \n",
       "2020-11-01 02:00:00                                 NaN   \n",
       "2020-11-01 03:00:00                                 NaN   \n",
       "2020-11-01 04:00:00                                 NaN   \n",
       "\n",
       "                     TEMPERATURA EXTERIOR (60 minuto)  \n",
       "datetime                                               \n",
       "2020-11-01 00:00:00                               NaN  \n",
       "2020-11-01 01:00:00                               NaN  \n",
       "2020-11-01 02:00:00                               NaN  \n",
       "2020-11-01 03:00:00                               NaN  \n",
       "2020-11-01 04:00:00                               NaN  "
      ]
     },
     "execution_count": 196,
     "metadata": {},
     "output_type": "execute_result"
    }
   ],
   "source": [
    "ts60 = pd.read_csv('../VEOLIA/artifacts/timeseries_60min.csv', index_col=0, parse_dates=True)\n",
    "# load60 = ts60['Diff Load Activa Total (60 minuto)'].dropna()\n",
    "# ts60.head()\n",
    "weather = pd.read_csv('../VEOLIA/data/Burgos_weather.csv')\n",
    "df = ts60[['Diff Load Activa Total (60 minuto)','TEMPERATURA EXTERIOR (60 minuto)']]\n",
    "# df.head()\n",
    "\n",
    "df.head()"
   ]
  },
  {
   "cell_type": "code",
   "execution_count": 197,
   "id": "38bf1c52",
   "metadata": {
    "scrolled": true
   },
   "outputs": [
    {
     "data": {
      "text/html": [
       "<div>\n",
       "<style scoped>\n",
       "    .dataframe tbody tr th:only-of-type {\n",
       "        vertical-align: middle;\n",
       "    }\n",
       "\n",
       "    .dataframe tbody tr th {\n",
       "        vertical-align: top;\n",
       "    }\n",
       "\n",
       "    .dataframe thead th {\n",
       "        text-align: right;\n",
       "    }\n",
       "</style>\n",
       "<table border=\"1\" class=\"dataframe\">\n",
       "  <thead>\n",
       "    <tr style=\"text-align: right;\">\n",
       "      <th></th>\n",
       "      <th>dt</th>\n",
       "      <th>dt_iso</th>\n",
       "      <th>timezone</th>\n",
       "      <th>city_name</th>\n",
       "      <th>lat</th>\n",
       "      <th>lon</th>\n",
       "      <th>temp</th>\n",
       "      <th>feels_like</th>\n",
       "      <th>temp_min</th>\n",
       "      <th>temp_max</th>\n",
       "      <th>...</th>\n",
       "      <th>wind_deg</th>\n",
       "      <th>rain_1h</th>\n",
       "      <th>rain_3h</th>\n",
       "      <th>snow_1h</th>\n",
       "      <th>snow_3h</th>\n",
       "      <th>clouds_all</th>\n",
       "      <th>weather_id</th>\n",
       "      <th>weather_main</th>\n",
       "      <th>weather_description</th>\n",
       "      <th>weather_icon</th>\n",
       "    </tr>\n",
       "  </thead>\n",
       "  <tbody>\n",
       "    <tr>\n",
       "      <th>0</th>\n",
       "      <td>1591747200</td>\n",
       "      <td>2020-06-10 00:00:00 +0000 UTC</td>\n",
       "      <td>7200</td>\n",
       "      <td>Burgos</td>\n",
       "      <td>42.3503</td>\n",
       "      <td>-3.7072</td>\n",
       "      <td>5.51</td>\n",
       "      <td>2.72</td>\n",
       "      <td>4.94</td>\n",
       "      <td>7.03</td>\n",
       "      <td>...</td>\n",
       "      <td>30</td>\n",
       "      <td>NaN</td>\n",
       "      <td>NaN</td>\n",
       "      <td>NaN</td>\n",
       "      <td>NaN</td>\n",
       "      <td>0</td>\n",
       "      <td>800</td>\n",
       "      <td>Clear</td>\n",
       "      <td>sky is clear</td>\n",
       "      <td>01n</td>\n",
       "    </tr>\n",
       "  </tbody>\n",
       "</table>\n",
       "<p>1 rows × 25 columns</p>\n",
       "</div>"
      ],
      "text/plain": [
       "           dt                         dt_iso  timezone city_name      lat  \\\n",
       "0  1591747200  2020-06-10 00:00:00 +0000 UTC      7200    Burgos  42.3503   \n",
       "\n",
       "      lon  temp  feels_like  temp_min  temp_max  ...  wind_deg  rain_1h  \\\n",
       "0 -3.7072  5.51        2.72      4.94      7.03  ...        30      NaN   \n",
       "\n",
       "   rain_3h  snow_1h  snow_3h  clouds_all  weather_id  weather_main  \\\n",
       "0      NaN      NaN      NaN           0         800         Clear   \n",
       "\n",
       "   weather_description  weather_icon  \n",
       "0         sky is clear           01n  \n",
       "\n",
       "[1 rows x 25 columns]"
      ]
     },
     "execution_count": 197,
     "metadata": {},
     "output_type": "execute_result"
    }
   ],
   "source": [
    "weather.head(1)"
   ]
  },
  {
   "cell_type": "code",
   "execution_count": 198,
   "id": "7fc6114d",
   "metadata": {},
   "outputs": [],
   "source": [
    "weather['datetime'] = weather['dt_iso'].str[0:20]\n",
    "weather = weather.set_index('datetime')\n",
    "weather.index = pd.to_datetime(weather.index)"
   ]
  },
  {
   "cell_type": "code",
   "execution_count": 199,
   "id": "5c366f54",
   "metadata": {},
   "outputs": [],
   "source": [
    "new_df = pd.merge(df, weather, on = \"datetime\", how = \"inner\")[['Diff Load Activa Total (60 minuto)', 'temp', 'humidity', 'wind_speed', 'pressure']].dropna()\n",
    "\n",
    "new_df.head()\n",
    "df=new_df"
   ]
  },
  {
   "cell_type": "code",
   "execution_count": 200,
   "id": "f87ec8da",
   "metadata": {},
   "outputs": [],
   "source": [
    "df['year'] = df.index.year\n",
    "df['month'] = df.index.month\n",
    "df['month_day'] = df.index.day\n",
    "df['week_day'] = df.index.weekday\n",
    "df['hour'] = df.index.hour\n"
   ]
  },
  {
   "cell_type": "code",
   "execution_count": 201,
   "id": "0dd06a3a",
   "metadata": {},
   "outputs": [
    {
     "data": {
      "text/html": [
       "<div>\n",
       "<style scoped>\n",
       "    .dataframe tbody tr th:only-of-type {\n",
       "        vertical-align: middle;\n",
       "    }\n",
       "\n",
       "    .dataframe tbody tr th {\n",
       "        vertical-align: top;\n",
       "    }\n",
       "\n",
       "    .dataframe thead th {\n",
       "        text-align: right;\n",
       "    }\n",
       "</style>\n",
       "<table border=\"1\" class=\"dataframe\">\n",
       "  <thead>\n",
       "    <tr style=\"text-align: right;\">\n",
       "      <th></th>\n",
       "      <th>Diff Load Activa Total (60 minuto)</th>\n",
       "      <th>temp</th>\n",
       "      <th>humidity</th>\n",
       "      <th>wind_speed</th>\n",
       "      <th>pressure</th>\n",
       "      <th>year</th>\n",
       "      <th>month</th>\n",
       "      <th>month_day</th>\n",
       "      <th>week_day</th>\n",
       "      <th>hour</th>\n",
       "    </tr>\n",
       "    <tr>\n",
       "      <th>datetime</th>\n",
       "      <th></th>\n",
       "      <th></th>\n",
       "      <th></th>\n",
       "      <th></th>\n",
       "      <th></th>\n",
       "      <th></th>\n",
       "      <th></th>\n",
       "      <th></th>\n",
       "      <th></th>\n",
       "      <th></th>\n",
       "    </tr>\n",
       "  </thead>\n",
       "  <tbody>\n",
       "    <tr>\n",
       "      <th>2020-11-06 00:00:00</th>\n",
       "      <td>2600.0</td>\n",
       "      <td>11.09</td>\n",
       "      <td>80</td>\n",
       "      <td>7.7</td>\n",
       "      <td>1020</td>\n",
       "      <td>2020</td>\n",
       "      <td>11</td>\n",
       "      <td>6</td>\n",
       "      <td>4</td>\n",
       "      <td>0</td>\n",
       "    </tr>\n",
       "    <tr>\n",
       "      <th>2020-11-06 01:00:00</th>\n",
       "      <td>2610.0</td>\n",
       "      <td>10.67</td>\n",
       "      <td>82</td>\n",
       "      <td>6.2</td>\n",
       "      <td>1020</td>\n",
       "      <td>2020</td>\n",
       "      <td>11</td>\n",
       "      <td>6</td>\n",
       "      <td>4</td>\n",
       "      <td>1</td>\n",
       "    </tr>\n",
       "    <tr>\n",
       "      <th>2020-11-06 02:00:00</th>\n",
       "      <td>2570.0</td>\n",
       "      <td>11.39</td>\n",
       "      <td>79</td>\n",
       "      <td>6.2</td>\n",
       "      <td>1019</td>\n",
       "      <td>2020</td>\n",
       "      <td>11</td>\n",
       "      <td>6</td>\n",
       "      <td>4</td>\n",
       "      <td>2</td>\n",
       "    </tr>\n",
       "    <tr>\n",
       "      <th>2020-11-06 03:00:00</th>\n",
       "      <td>2580.0</td>\n",
       "      <td>11.48</td>\n",
       "      <td>78</td>\n",
       "      <td>5.7</td>\n",
       "      <td>1018</td>\n",
       "      <td>2020</td>\n",
       "      <td>11</td>\n",
       "      <td>6</td>\n",
       "      <td>4</td>\n",
       "      <td>3</td>\n",
       "    </tr>\n",
       "    <tr>\n",
       "      <th>2020-11-06 04:00:00</th>\n",
       "      <td>2600.0</td>\n",
       "      <td>11.65</td>\n",
       "      <td>77</td>\n",
       "      <td>8.2</td>\n",
       "      <td>1018</td>\n",
       "      <td>2020</td>\n",
       "      <td>11</td>\n",
       "      <td>6</td>\n",
       "      <td>4</td>\n",
       "      <td>4</td>\n",
       "    </tr>\n",
       "    <tr>\n",
       "      <th>...</th>\n",
       "      <td>...</td>\n",
       "      <td>...</td>\n",
       "      <td>...</td>\n",
       "      <td>...</td>\n",
       "      <td>...</td>\n",
       "      <td>...</td>\n",
       "      <td>...</td>\n",
       "      <td>...</td>\n",
       "      <td>...</td>\n",
       "      <td>...</td>\n",
       "    </tr>\n",
       "    <tr>\n",
       "      <th>2020-11-12 00:00:00</th>\n",
       "      <td>1310.0</td>\n",
       "      <td>7.90</td>\n",
       "      <td>87</td>\n",
       "      <td>2.1</td>\n",
       "      <td>1025</td>\n",
       "      <td>2020</td>\n",
       "      <td>11</td>\n",
       "      <td>12</td>\n",
       "      <td>3</td>\n",
       "      <td>0</td>\n",
       "    </tr>\n",
       "    <tr>\n",
       "      <th>2020-11-12 01:00:00</th>\n",
       "      <td>2120.0</td>\n",
       "      <td>7.22</td>\n",
       "      <td>91</td>\n",
       "      <td>0.5</td>\n",
       "      <td>1025</td>\n",
       "      <td>2020</td>\n",
       "      <td>11</td>\n",
       "      <td>12</td>\n",
       "      <td>3</td>\n",
       "      <td>1</td>\n",
       "    </tr>\n",
       "    <tr>\n",
       "      <th>2020-11-12 02:00:00</th>\n",
       "      <td>1520.0</td>\n",
       "      <td>7.18</td>\n",
       "      <td>92</td>\n",
       "      <td>0.5</td>\n",
       "      <td>1025</td>\n",
       "      <td>2020</td>\n",
       "      <td>11</td>\n",
       "      <td>12</td>\n",
       "      <td>3</td>\n",
       "      <td>2</td>\n",
       "    </tr>\n",
       "    <tr>\n",
       "      <th>2020-11-12 03:00:00</th>\n",
       "      <td>1620.0</td>\n",
       "      <td>7.73</td>\n",
       "      <td>91</td>\n",
       "      <td>2.1</td>\n",
       "      <td>1025</td>\n",
       "      <td>2020</td>\n",
       "      <td>11</td>\n",
       "      <td>12</td>\n",
       "      <td>3</td>\n",
       "      <td>3</td>\n",
       "    </tr>\n",
       "    <tr>\n",
       "      <th>2020-11-12 04:00:00</th>\n",
       "      <td>2020.0</td>\n",
       "      <td>7.99</td>\n",
       "      <td>92</td>\n",
       "      <td>0.5</td>\n",
       "      <td>1024</td>\n",
       "      <td>2020</td>\n",
       "      <td>11</td>\n",
       "      <td>12</td>\n",
       "      <td>3</td>\n",
       "      <td>4</td>\n",
       "    </tr>\n",
       "  </tbody>\n",
       "</table>\n",
       "<p>150 rows × 10 columns</p>\n",
       "</div>"
      ],
      "text/plain": [
       "                     Diff Load Activa Total (60 minuto)   temp  humidity  \\\n",
       "datetime                                                                   \n",
       "2020-11-06 00:00:00                              2600.0  11.09        80   \n",
       "2020-11-06 01:00:00                              2610.0  10.67        82   \n",
       "2020-11-06 02:00:00                              2570.0  11.39        79   \n",
       "2020-11-06 03:00:00                              2580.0  11.48        78   \n",
       "2020-11-06 04:00:00                              2600.0  11.65        77   \n",
       "...                                                 ...    ...       ...   \n",
       "2020-11-12 00:00:00                              1310.0   7.90        87   \n",
       "2020-11-12 01:00:00                              2120.0   7.22        91   \n",
       "2020-11-12 02:00:00                              1520.0   7.18        92   \n",
       "2020-11-12 03:00:00                              1620.0   7.73        91   \n",
       "2020-11-12 04:00:00                              2020.0   7.99        92   \n",
       "\n",
       "                     wind_speed  pressure  year  month  month_day  week_day  \\\n",
       "datetime                                                                      \n",
       "2020-11-06 00:00:00         7.7      1020  2020     11          6         4   \n",
       "2020-11-06 01:00:00         6.2      1020  2020     11          6         4   \n",
       "2020-11-06 02:00:00         6.2      1019  2020     11          6         4   \n",
       "2020-11-06 03:00:00         5.7      1018  2020     11          6         4   \n",
       "2020-11-06 04:00:00         8.2      1018  2020     11          6         4   \n",
       "...                         ...       ...   ...    ...        ...       ...   \n",
       "2020-11-12 00:00:00         2.1      1025  2020     11         12         3   \n",
       "2020-11-12 01:00:00         0.5      1025  2020     11         12         3   \n",
       "2020-11-12 02:00:00         0.5      1025  2020     11         12         3   \n",
       "2020-11-12 03:00:00         2.1      1025  2020     11         12         3   \n",
       "2020-11-12 04:00:00         0.5      1024  2020     11         12         3   \n",
       "\n",
       "                     hour  \n",
       "datetime                   \n",
       "2020-11-06 00:00:00     0  \n",
       "2020-11-06 01:00:00     1  \n",
       "2020-11-06 02:00:00     2  \n",
       "2020-11-06 03:00:00     3  \n",
       "2020-11-06 04:00:00     4  \n",
       "...                   ...  \n",
       "2020-11-12 00:00:00     0  \n",
       "2020-11-12 01:00:00     1  \n",
       "2020-11-12 02:00:00     2  \n",
       "2020-11-12 03:00:00     3  \n",
       "2020-11-12 04:00:00     4  \n",
       "\n",
       "[150 rows x 10 columns]"
      ]
     },
     "execution_count": 201,
     "metadata": {},
     "output_type": "execute_result"
    }
   ],
   "source": [
    "df.head(150)"
   ]
  },
  {
   "cell_type": "code",
   "execution_count": 202,
   "id": "582863b1",
   "metadata": {},
   "outputs": [
    {
     "data": {
      "text/plain": [
       "(5824, 10)"
      ]
     },
     "execution_count": 202,
     "metadata": {},
     "output_type": "execute_result"
    }
   ],
   "source": [
    "df.shape"
   ]
  },
  {
   "cell_type": "markdown",
   "id": "1fc27d0c",
   "metadata": {},
   "source": [
    "## Regression models for load forecasting"
   ]
  },
  {
   "cell_type": "code",
   "execution_count": 203,
   "id": "249c49c8",
   "metadata": {},
   "outputs": [],
   "source": [
    "X = df[['month', 'week_day', 'hour', 'temp', 'wind_speed','pressure', 'humidity']]\n",
    "y = df['Diff Load Activa Total (60 minuto)']"
   ]
  },
  {
   "cell_type": "code",
   "execution_count": 204,
   "id": "29d862c1",
   "metadata": {},
   "outputs": [
    {
     "name": "stdout",
     "output_type": "stream",
     "text": [
      "                     month  week_day  hour   temp  wind_speed  pressure  \\\n",
      "datetime                                                                  \n",
      "2020-12-02 00:00:00     12         2     0   5.47        3.10      1021   \n",
      "2021-05-23 10:00:00      5         6    10  11.46        4.63      1019   \n",
      "2021-03-24 14:00:00      3         2    14  16.96        2.60      1023   \n",
      "2021-04-07 06:00:00      4         2     6  -0.04        7.20      1019   \n",
      "2021-02-24 20:00:00      2         2    20   8.96        1.00      1028   \n",
      "...                    ...       ...   ...    ...         ...       ...   \n",
      "2021-03-06 01:00:00      3         5     1   3.96        5.70      1021   \n",
      "2021-01-25 06:00:00      1         0     6   6.03        4.60      1007   \n",
      "2020-12-19 14:00:00     12         5    14   7.98        4.60      1018   \n",
      "2021-05-21 07:00:00      5         4     7  11.09        0.51      1017   \n",
      "2020-11-30 13:00:00     11         0    13  12.11        4.60      1024   \n",
      "\n",
      "                     humidity  \n",
      "datetime                       \n",
      "2020-12-02 00:00:00        97  \n",
      "2021-05-23 10:00:00        58  \n",
      "2021-03-24 14:00:00        25  \n",
      "2021-04-07 06:00:00        68  \n",
      "2021-02-24 20:00:00        70  \n",
      "...                       ...  \n",
      "2021-03-06 01:00:00        86  \n",
      "2021-01-25 06:00:00       100  \n",
      "2020-12-19 14:00:00        95  \n",
      "2021-05-21 07:00:00        67  \n",
      "2020-11-30 13:00:00        65  \n",
      "\n",
      "[4368 rows x 7 columns]\n",
      "datetime\n",
      "2020-12-02 00:00:00    2820.0\n",
      "2021-05-23 10:00:00    2730.0\n",
      "2021-03-24 14:00:00    2430.0\n",
      "2021-04-07 06:00:00    3060.0\n",
      "2021-02-24 20:00:00    3250.0\n",
      "                        ...  \n",
      "2021-03-06 01:00:00    2480.0\n",
      "2021-01-25 06:00:00    2600.0\n",
      "2020-12-19 14:00:00    3920.0\n",
      "2021-05-21 07:00:00    2720.0\n",
      "2020-11-30 13:00:00    3820.0\n",
      "Name: Diff Load Activa Total (60 minuto), Length: 4368, dtype: float64\n",
      "                     month  week_day  hour   temp  wind_speed  pressure  \\\n",
      "datetime                                                                  \n",
      "2020-12-10 00:00:00     12         3     0   3.87         7.2      1014   \n",
      "2021-03-09 08:00:00      3         1     8   0.96         3.1      1020   \n",
      "2021-03-12 11:00:00      3         4    11   7.96         1.5      1023   \n",
      "2020-11-11 00:00:00     11         2     0   2.98         0.5      1030   \n",
      "2021-02-24 16:00:00      2         2    16  14.96         8.2      1027   \n",
      "...                    ...       ...   ...    ...         ...       ...   \n",
      "2020-12-16 18:00:00     12         2    18   8.04         5.1      1015   \n",
      "2021-04-07 16:00:00      4         2    16  10.96         6.7      1018   \n",
      "2020-12-03 03:00:00     12         3     3   0.71         0.5      1019   \n",
      "2021-03-26 00:00:00      3         4     0   4.24         0.0      1021   \n",
      "2021-01-22 12:00:00      1         4    12   4.96         8.8      1007   \n",
      "\n",
      "                     humidity  \n",
      "datetime                       \n",
      "2020-12-10 00:00:00        96  \n",
      "2021-03-09 08:00:00        93  \n",
      "2021-03-12 11:00:00        70  \n",
      "2020-11-11 00:00:00       100  \n",
      "2021-02-24 16:00:00        44  \n",
      "...                       ...  \n",
      "2020-12-16 18:00:00        78  \n",
      "2021-04-07 16:00:00        37  \n",
      "2020-12-03 03:00:00        95  \n",
      "2021-03-26 00:00:00        80  \n",
      "2021-01-22 12:00:00        80  \n",
      "\n",
      "[1456 rows x 7 columns]\n",
      "datetime\n",
      "2020-12-10 00:00:00    2820.0\n",
      "2021-03-09 08:00:00    2800.0\n",
      "2021-03-12 11:00:00    2760.0\n",
      "2020-11-11 00:00:00    2250.0\n",
      "2021-02-24 16:00:00    3760.0\n",
      "                        ...  \n",
      "2020-12-16 18:00:00    3740.0\n",
      "2021-04-07 16:00:00    3510.0\n",
      "2020-12-03 03:00:00    3570.0\n",
      "2021-03-26 00:00:00    2400.0\n",
      "2021-01-22 12:00:00    2780.0\n",
      "Name: Diff Load Activa Total (60 minuto), Length: 1456, dtype: float64\n"
     ]
    }
   ],
   "source": [
    "from sklearn.model_selection import train_test_split\n",
    "\n",
    "# random_state=23 in order to be led to reproducible results\n",
    "# split 75%, 25%\n",
    "X_train, X_test, y_train, y_test = train_test_split(X, y, test_size=0.25, random_state=23)\n",
    "print(X_train)\n",
    "print(y_train)\n",
    "print(X_test)\n",
    "print(y_test)"
   ]
  },
  {
   "cell_type": "markdown",
   "id": "812f577e",
   "metadata": {},
   "source": [
    "### Decision Tree Regression"
   ]
  },
  {
   "cell_type": "code",
   "execution_count": 205,
   "id": "c2407eab",
   "metadata": {},
   "outputs": [],
   "source": [
    "from sklearn import tree\n",
    "\n",
    "tree_reg = tree.DecisionTreeRegressor()\n",
    "tree_reg = tree_reg.fit(X_train, y_train)\n",
    "\n",
    "y_train_pred_dec_tree = tree_reg.predict(X_train)\n",
    "y_test_pred_dec_tree = tree_reg.predict(X_test)\n"
   ]
  },
  {
   "cell_type": "code",
   "execution_count": 206,
   "id": "df4c2d97",
   "metadata": {},
   "outputs": [],
   "source": [
    "from sklearn.metrics import mean_absolute_percentage_error, mean_squared_error\n",
    "\n"
   ]
  },
  {
   "cell_type": "code",
   "execution_count": 207,
   "id": "d929c723",
   "metadata": {},
   "outputs": [
    {
     "name": "stdout",
     "output_type": "stream",
     "text": [
      "163800.4120879099 10.23 %\n"
     ]
    }
   ],
   "source": [
    "MSE_train3 = mean_squared_error(y_train, y_train_pred_dec_tree)\n",
    "MSE_test3 = mean_squared_error(y_test, y_test_pred_dec_tree)\n",
    "\n",
    "MAPE_train3 = mean_absolute_percentage_error(y_train, y_train_pred_dec_tree)\n",
    "MAPE_test3 = mean_absolute_percentage_error(y_test, y_test_pred_dec_tree)\n",
    "\n",
    "\n",
    "print(MSE_test3, round(MAPE_test3 * 100, 2),'%')"
   ]
  },
  {
   "cell_type": "markdown",
   "id": "e2e795af",
   "metadata": {},
   "source": [
    "### Random Forest Regression"
   ]
  },
  {
   "cell_type": "code",
   "execution_count": 208,
   "id": "0449e1b2",
   "metadata": {},
   "outputs": [],
   "source": [
    "from sklearn.ensemble import RandomForestRegressor\n",
    "\n",
    "regr = RandomForestRegressor()\n",
    "regr.fit(X_train, y_train)\n",
    "\n",
    "y_train_pred_rf = regr.predict(X_train)\n",
    "y_test_pred_rf = regr.predict(X_test)"
   ]
  },
  {
   "cell_type": "code",
   "execution_count": 209,
   "id": "53bfac8a",
   "metadata": {},
   "outputs": [
    {
     "name": "stdout",
     "output_type": "stream",
     "text": [
      "78697.95038460741 7.86 %\n"
     ]
    }
   ],
   "source": [
    "MSE_train_rf = mean_squared_error(y_train, y_train_pred_rf)\n",
    "MSE_test_rf = mean_squared_error(y_test, y_test_pred_rf)\n",
    "\n",
    "MAPE_train_rf = mean_absolute_percentage_error(y_train, y_train_pred_rf)\n",
    "MAPE_test_rf = mean_absolute_percentage_error(y_test, y_test_pred_rf)\n",
    "\n",
    "\n",
    "print(MSE_test_rf, round(MAPE_test_rf * 100, 2),'%')"
   ]
  },
  {
   "cell_type": "markdown",
   "id": "ef06ec47",
   "metadata": {},
   "source": [
    "### Gradient Boosting Regression"
   ]
  },
  {
   "cell_type": "code",
   "execution_count": 210,
   "id": "2b4bdd56",
   "metadata": {},
   "outputs": [],
   "source": [
    "from sklearn.ensemble import GradientBoostingRegressor\n",
    "\n",
    "reg = GradientBoostingRegressor(random_state=0)\n",
    "reg.fit(X_train, y_train)\n",
    "\n",
    "y_train_pred_gb = reg.predict(X_train)\n",
    "y_test_pred_gb = reg.predict(X_test)"
   ]
  },
  {
   "cell_type": "code",
   "execution_count": 211,
   "id": "8553bf79",
   "metadata": {},
   "outputs": [
    {
     "name": "stdout",
     "output_type": "stream",
     "text": [
      "109636.56149938608 9.51 %\n"
     ]
    }
   ],
   "source": [
    "MSE_train_gb = mean_squared_error(y_train, y_train_pred_gb)\n",
    "MSE_test_gb = mean_squared_error(y_test, y_test_pred_gb)\n",
    "\n",
    "MAPE_train_gb = mean_absolute_percentage_error(y_train, y_train_pred_gb)\n",
    "MAPE_test_gb = mean_absolute_percentage_error(y_test, y_test_pred_gb)\n",
    "\n",
    "\n",
    "print(MSE_test_gb, round(MAPE_test_gb * 100, 2),'%')"
   ]
  },
  {
   "cell_type": "markdown",
   "id": "a59ecff2",
   "metadata": {},
   "source": [
    "### LightGBM"
   ]
  },
  {
   "cell_type": "code",
   "execution_count": 212,
   "id": "684be47a",
   "metadata": {},
   "outputs": [],
   "source": [
    "import lightgbm as lgb"
   ]
  },
  {
   "cell_type": "markdown",
   "id": "f1cf02f9",
   "metadata": {},
   "source": [
    "#### Todo:\n",
    "1) LightGBM models\n",
    "2) xgboost model\n",
    "3) try with more complete weather data\n",
    "4) parameter tuning\n",
    "5) cross_validation"
   ]
  },
  {
   "cell_type": "code",
   "execution_count": 213,
   "id": "11b5bec2",
   "metadata": {},
   "outputs": [],
   "source": [
    "lgb_train = lgb.Dataset(X_train, y_train)\n",
    "lgb_test = lgb.Dataset(X_test, y_test, reference=lgb_train)"
   ]
  },
  {
   "cell_type": "code",
   "execution_count": 214,
   "id": "1b688968",
   "metadata": {},
   "outputs": [],
   "source": [
    "params = {\n",
    "    'boosting_type': 'gbdt',\n",
    "    'objective': 'regression',\n",
    "    'metric': {'l2', 'l1'},\n",
    "    'num_leaves': 31,\n",
    "    'learning_rate': 0.05,\n",
    "    'feature_fraction': 0.9,\n",
    "    'bagging_fraction': 0.8,\n",
    "    'bagging_freq': 5,\n",
    "    'verbose': 0\n",
    "}\n",
    "\n"
   ]
  },
  {
   "cell_type": "code",
   "execution_count": 215,
   "id": "53bcd6da",
   "metadata": {},
   "outputs": [
    {
     "name": "stdout",
     "output_type": "stream",
     "text": [
      "[LightGBM] [Warning] Auto-choosing col-wise multi-threading, the overhead of testing was 0.000236 seconds.\n",
      "You can set `force_col_wise=true` to remove the overhead.\n",
      "[1]\tvalid_0's l1: 432.266\tvalid_0's l2: 316565\n",
      "Training until validation scores don't improve for 5 rounds\n",
      "[2]\tvalid_0's l1: 419.748\tvalid_0's l2: 299694\n",
      "[3]\tvalid_0's l1: 408.005\tvalid_0's l2: 284408\n",
      "[4]\tvalid_0's l1: 396.935\tvalid_0's l2: 270422\n",
      "[5]\tvalid_0's l1: 384.574\tvalid_0's l2: 255442\n",
      "[6]\tvalid_0's l1: 373.603\tvalid_0's l2: 242586\n",
      "[7]\tvalid_0's l1: 364.239\tvalid_0's l2: 231748\n",
      "[8]\tvalid_0's l1: 354.29\tvalid_0's l2: 220892\n",
      "[9]\tvalid_0's l1: 345.406\tvalid_0's l2: 210820\n",
      "[10]\tvalid_0's l1: 338.733\tvalid_0's l2: 203053\n",
      "[11]\tvalid_0's l1: 329.728\tvalid_0's l2: 194007\n",
      "[12]\tvalid_0's l1: 322.004\tvalid_0's l2: 186130\n",
      "[13]\tvalid_0's l1: 314.682\tvalid_0's l2: 178834\n",
      "[14]\tvalid_0's l1: 307.757\tvalid_0's l2: 171841\n",
      "[15]\tvalid_0's l1: 301.865\tvalid_0's l2: 165952\n",
      "[16]\tvalid_0's l1: 296.291\tvalid_0's l2: 160429\n",
      "[17]\tvalid_0's l1: 291.185\tvalid_0's l2: 155329\n",
      "[18]\tvalid_0's l1: 286.919\tvalid_0's l2: 151075\n",
      "[19]\tvalid_0's l1: 282.413\tvalid_0's l2: 146797\n",
      "[20]\tvalid_0's l1: 278.665\tvalid_0's l2: 143083\n",
      "Did not meet early stopping. Best iteration is:\n",
      "[20]\tvalid_0's l1: 278.665\tvalid_0's l2: 143083\n",
      "Saving model...\n"
     ]
    },
    {
     "data": {
      "text/plain": [
       "<lightgbm.basic.Booster at 0x1e3e70a43d0>"
      ]
     },
     "execution_count": 215,
     "metadata": {},
     "output_type": "execute_result"
    }
   ],
   "source": [
    "\n",
    "# train\n",
    "gbm = lgb.train(params,\n",
    "                lgb_train,\n",
    "                num_boost_round=20,\n",
    "                valid_sets=lgb_test,\n",
    "                early_stopping_rounds=5)\n",
    "\n",
    "print('Saving model...')\n",
    "# save model to file\n",
    "gbm.save_model('model.txt')\n"
   ]
  },
  {
   "cell_type": "code",
   "execution_count": 216,
   "id": "eb34e95f",
   "metadata": {},
   "outputs": [
    {
     "name": "stdout",
     "output_type": "stream",
     "text": [
      "The MAPE of prediction is: 0.11161829555274834\n"
     ]
    }
   ],
   "source": [
    "# predict\n",
    "lgbm_pred = gbm.predict(X_test, num_iteration=gbm.best_iteration)\n",
    "# eval\n",
    "mape_test = mean_absolute_percentage_error(y_test, lgbm_pred)\n",
    "print(f'The MAPE of prediction is: {mape_test}')"
   ]
  },
  {
   "cell_type": "markdown",
   "id": "385e0830",
   "metadata": {},
   "source": [
    "### XGBoost"
   ]
  },
  {
   "cell_type": "code",
   "execution_count": 217,
   "id": "fe58aab6",
   "metadata": {},
   "outputs": [
    {
     "data": {
      "text/plain": [
       "XGBRegressor(base_score=0.5, booster='gbtree', colsample_bylevel=1,\n",
       "             colsample_bynode=1, colsample_bytree=1, gamma=0, gpu_id=-1,\n",
       "             importance_type='gain', interaction_constraints='',\n",
       "             learning_rate=0.300000012, max_delta_step=0, max_depth=6,\n",
       "             min_child_weight=1, missing=nan, monotone_constraints='()',\n",
       "             n_estimators=100, n_jobs=8, num_parallel_tree=1, random_state=0,\n",
       "             reg_alpha=0, reg_lambda=1, scale_pos_weight=1, subsample=1,\n",
       "             tree_method='exact', validate_parameters=1, verbosity=None)"
      ]
     },
     "execution_count": 217,
     "metadata": {},
     "output_type": "execute_result"
    }
   ],
   "source": [
    "import xgboost\n",
    "\n",
    "xgb = xgboost.XGBRegressor()\n",
    "xgb.fit(X_train, y_train)"
   ]
  },
  {
   "cell_type": "code",
   "execution_count": 218,
   "id": "b0d2bb83",
   "metadata": {},
   "outputs": [
    {
     "name": "stdout",
     "output_type": "stream",
     "text": [
      "The MAPE of prediction is: 0.08177443892097085\n"
     ]
    }
   ],
   "source": [
    "xgb_pred = xgb.predict(X_test)\n",
    "\n",
    "xgb_mape = mean_absolute_percentage_error(y_test, xgb_pred)\n",
    "print(f'The MAPE of prediction is: {xgb_mape}')"
   ]
  },
  {
   "cell_type": "code",
   "execution_count": null,
   "id": "b1ff1cc7",
   "metadata": {},
   "outputs": [],
   "source": []
  }
 ],
 "metadata": {
  "kernelspec": {
   "display_name": "Python 3",
   "language": "python",
   "name": "python3"
  },
  "language_info": {
   "codemirror_mode": {
    "name": "ipython",
    "version": 3
   },
   "file_extension": ".py",
   "mimetype": "text/x-python",
   "name": "python",
   "nbconvert_exporter": "python",
   "pygments_lexer": "ipython3",
   "version": "3.8.10"
  }
 },
 "nbformat": 4,
 "nbformat_minor": 5
}
