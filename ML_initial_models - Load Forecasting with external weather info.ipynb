{
 "cells": [
  {
   "cell_type": "markdown",
   "source": [
    "# Training and forecast of ML models"
   ],
   "metadata": {
    "collapsed": false
   }
  },
  {
   "cell_type": "code",
   "execution_count": null,
   "outputs": [],
   "source": [
    "import pandas as pd"
   ],
   "metadata": {
    "collapsed": false,
    "pycharm": {
     "name": "#%%\n"
    }
   }
  },
  {
   "cell_type": "code",
   "execution_count": null,
   "outputs": [],
   "source": [
    "ts60 = pd.read_csv('../VEOLIA/artifacts/timeseries_60min.csv', index_col=0, parse_dates=True)\n",
    "# load60 = ts60['Diff Load Activa Total (60 minuto)'].dropna()\n",
    "# ts60.head()\n",
    "weather = pd.read_csv('../VEOLIA/data/Burgos_weather.csv')\n",
    "df = ts60[['Diff Load Activa Total (60 minuto)','TEMPERATURA EXTERIOR (60 minuto)']]\n",
    "# df.head()\n",
    "\n",
    "df.head()"
   ],
   "metadata": {
    "collapsed": false,
    "pycharm": {
     "name": "#%%\n"
    }
   }
  },
  {
   "cell_type": "code",
   "execution_count": null,
   "outputs": [],
   "source": [
    "weather.head(1)"
   ],
   "metadata": {
    "collapsed": false,
    "pycharm": {
     "name": "#%%\n"
    }
   }
  },
  {
   "cell_type": "code",
   "execution_count": null,
   "outputs": [],
   "source": [
    "weather['datetime'] = weather['dt_iso'].str[0:20]\n",
    "weather = weather.set_index('datetime')\n",
    "weather.index = pd.to_datetime(weather.index)"
   ],
   "metadata": {
    "collapsed": false,
    "pycharm": {
     "name": "#%%\n"
    }
   }
  },
  {
   "cell_type": "code",
   "execution_count": null,
   "outputs": [],
   "source": [
    "new_df = pd.merge(df, weather, on = \"datetime\", how = \"inner\")[['Diff Load Activa Total (60 minuto)', 'temp', 'humidity', 'wind_speed', 'pressure']].dropna()\n",
    "\n",
    "new_df.head()\n",
    "df=new_df"
   ],
   "metadata": {
    "collapsed": false,
    "pycharm": {
     "name": "#%%\n"
    }
   }
  },
  {
   "cell_type": "code",
   "execution_count": null,
   "outputs": [],
   "source": [
    "df['year'] = df.index.year\n",
    "df['month'] = df.index.month\n",
    "df['month_day'] = df.index.day\n",
    "df['week_day'] = df.index.weekday\n",
    "df['hour'] = df.index.hour\n"
   ],
   "metadata": {
    "collapsed": false,
    "pycharm": {
     "name": "#%%\n"
    }
   }
  },
  {
   "cell_type": "code",
   "execution_count": null,
   "outputs": [],
   "source": [
    "df.head(150)"
   ],
   "metadata": {
    "collapsed": false,
    "pycharm": {
     "name": "#%%\n"
    }
   }
  },
  {
   "cell_type": "code",
   "execution_count": null,
   "outputs": [],
   "source": [
    "df.shape"
   ],
   "metadata": {
    "collapsed": false,
    "pycharm": {
     "name": "#%%\n"
    }
   }
  },
  {
   "cell_type": "markdown",
   "source": [
    "## Regression models for load forecasting"
   ],
   "metadata": {
    "collapsed": false
   }
  },
  {
   "cell_type": "code",
   "execution_count": null,
   "outputs": [],
   "source": [
    "X = df[['month', 'week_day', 'hour', 'temp', 'wind_speed','pressure', 'humidity']]\n",
    "y = df['Diff Load Activa Total (60 minuto)']"
   ],
   "metadata": {
    "collapsed": false,
    "pycharm": {
     "name": "#%%\n"
    }
   }
  },
  {
   "cell_type": "code",
   "execution_count": null,
   "outputs": [],
   "source": [
    "from sklearn.model_selection import train_test_split\n",
    "\n",
    "# random_state=23 in order to be led to reproducible results\n",
    "# split 75%, 25%\n",
    "X_train, X_test, y_train, y_test = train_test_split(X, y, test_size=0.25, random_state=23)\n",
    "print(X_train)\n",
    "print(y_train)\n",
    "print(X_test)\n",
    "print(y_test)"
   ],
   "metadata": {
    "collapsed": false,
    "pycharm": {
     "name": "#%%\n"
    }
   }
  },
  {
   "cell_type": "markdown",
   "source": [
    "### Decision Tree Regression"
   ],
   "metadata": {
    "collapsed": false
   }
  },
  {
   "cell_type": "code",
   "execution_count": null,
   "outputs": [],
   "source": [
    "from sklearn import tree\n",
    "\n",
    "tree_reg = tree.DecisionTreeRegressor()\n",
    "tree_reg = tree_reg.fit(X_train, y_train)\n",
    "\n",
    "y_train_pred_dec_tree = tree_reg.predict(X_train)\n",
    "y_test_pred_dec_tree = tree_reg.predict(X_test)\n"
   ],
   "metadata": {
    "collapsed": false,
    "pycharm": {
     "name": "#%%\n"
    }
   }
  },
  {
   "cell_type": "code",
   "execution_count": null,
   "outputs": [],
   "source": [
    "from sklearn.metrics import mean_absolute_percentage_error, mean_squared_error\n",
    "\n"
   ],
   "metadata": {
    "collapsed": false,
    "pycharm": {
     "name": "#%%\n"
    }
   }
  },
  {
   "cell_type": "code",
   "execution_count": null,
   "outputs": [],
   "source": [
    "MSE_train3 = mean_squared_error(y_train, y_train_pred_dec_tree)\n",
    "MSE_test3 = mean_squared_error(y_test, y_test_pred_dec_tree)\n",
    "\n",
    "MAPE_train3 = mean_absolute_percentage_error(y_train, y_train_pred_dec_tree)\n",
    "MAPE_test3 = mean_absolute_percentage_error(y_test, y_test_pred_dec_tree)\n",
    "\n",
    "\n",
    "print(MSE_test3, round(MAPE_test3 * 100, 2),'%')"
   ],
   "metadata": {
    "collapsed": false,
    "pycharm": {
     "name": "#%%\n"
    }
   }
  },
  {
   "cell_type": "markdown",
   "source": [
    "### Use as test set the last 11 days to compare to timeseries models"
   ],
   "metadata": {
    "collapsed": false
   }
  },
  {
   "cell_type": "code",
   "execution_count": null,
   "outputs": [],
   "source": [
    "import matplotlib.pyplot as plt\n",
    "from datetime import datetime"
   ],
   "metadata": {
    "collapsed": false,
    "pycharm": {
     "name": "#%%\n"
    }
   }
  },
  {
   "cell_type": "code",
   "execution_count": null,
   "outputs": [],
   "source": [
    "y_train_comp = y[:-(11*24)] \n",
    "X_train_comp = X[:-(11*24)] \n",
    "\n",
    "\n",
    "y_test_comp = y[-(11*24):] \n",
    "X_test_comp = X[-(11*24):] \n",
    "# X_train_comp = X[11*24:] \n",
    "# y_test_comp = y[:11*24]\n",
    "# X_test_comp = X[:11*24]\n",
    "# print(y_test_comp.shape, y_train_comp.shape, X_test_comp.shape, X_train_comp.shape)"
   ],
   "metadata": {
    "collapsed": false,
    "pycharm": {
     "name": "#%%\n"
    }
   }
  },
  {
   "cell_type": "code",
   "execution_count": null,
   "outputs": [],
   "source": [
    "y_test_comp[10:]"
   ],
   "metadata": {
    "collapsed": false,
    "pycharm": {
     "name": "#%%\n"
    }
   }
  },
  {
   "cell_type": "code",
   "execution_count": null,
   "outputs": [],
   "source": [
    "tree_reg = tree.DecisionTreeRegressor()\n",
    "tree_reg = tree_reg.fit(X_train_comp, y_train_comp)\n",
    "\n",
    "y_train_comp_pred_dec_tree = tree_reg.predict(X_train_comp)\n",
    "y_test_comp_pred_dec_tree = tree_reg.predict(X_test_comp)"
   ],
   "metadata": {
    "collapsed": false,
    "pycharm": {
     "name": "#%%\n"
    }
   }
  },
  {
   "cell_type": "code",
   "execution_count": null,
   "outputs": [],
   "source": [
    "MSE_train3_comp = mean_squared_error(y_train_comp, y_train_comp_pred_dec_tree)\n",
    "MSE_test3_comp = mean_squared_error(y_test_comp, y_test_comp_pred_dec_tree)\n",
    "\n",
    "MAPE_train3_comp = mean_absolute_percentage_error(y_train_comp, y_train_comp_pred_dec_tree)\n",
    "MAPE_test3_comp = mean_absolute_percentage_error(y_test_comp, y_test_comp_pred_dec_tree)\n",
    "\n",
    "\n",
    "print(MSE_test3_comp, round(MAPE_test3_comp * 100, 2),'%')"
   ],
   "metadata": {
    "collapsed": false,
    "pycharm": {
     "name": "#%%\n"
    }
   }
  },
  {
   "cell_type": "code",
   "execution_count": null,
   "outputs": [],
   "source": [
    "from sklearn.metrics import mean_squared_error as mse \n",
    "from sklearn.metrics import mean_absolute_percentage_error as mape\n",
    "import numpy as np\n",
    "import matplotlib.pyplot as plt\n",
    "\n",
    "\n",
    "ground_truth_line = pd.concat([y_train_comp[-5*24:], y_test_comp])\n",
    "\n",
    "naive_pred = [y_train_comp.tolist()[-1]] + y_test_comp.tolist()[:-1]\n",
    "print(\"MAPE naive:\", mape(y_test_comp, naive_pred))\n",
    "print(\"MAPE:\", mape(y_test_comp, y_test_comp_pred_dec_tree))\n",
    "print(\"MSE:\", mse(y_test_comp, y_test_comp_pred_dec_tree))\n",
    "print(\"RMSE:\", np.sqrt(mse(y_test_comp, y_test_comp_pred_dec_tree)))\n",
    "\n",
    "plt.figure()\n",
    "plot = ground_truth_line.plot(figsize=(15, 3), label='Data', legend=True, title=\"11 day ahead forecast\")\n",
    "a = pd.Series(y_test_comp_pred_dec_tree)\n",
    "a.index = pd.Series(y_test_comp).index\n",
    "a.plot(label='Forecast', legend=True)\n",
    "plot.grid()\n",
    "plt.show()\n"
   ],
   "metadata": {
    "collapsed": false,
    "pycharm": {
     "name": "#%%\n"
    }
   }
  },
  {
   "cell_type": "markdown",
   "source": [
    "### Compare to timeseries models for the last 11 days using the initially trained model"
   ],
   "metadata": {
    "collapsed": false
   }
  },
  {
   "cell_type": "code",
   "execution_count": null,
   "outputs": [],
   "source": [
    "from sklearn.metrics import mean_squared_error as mse \n",
    "from sklearn.metrics import mean_absolute_percentage_error as mape\n",
    "import numpy as np\n",
    "import matplotlib.pyplot as plt\n",
    "\n",
    "\n",
    "ground_truth_line = pd.Series(y[-16*24:])\n",
    "\n",
    "naive_pred = [y_train_comp.tolist()[-1]] + y_test_comp.tolist()[:-1]\n",
    "print(\"MAPE naive:\", mape(y_test_comp, naive_pred))\n",
    "print(\"MAPE:\", mape(y_test_comp, tree_reg.predict(X_test_comp)))\n",
    "print(\"MSE:\", mse(y_test_comp, tree_reg.predict(X_test_comp)))\n",
    "print(\"RMSE:\", np.sqrt(mse(y_test_comp, tree_reg.predict(X_test_comp))))\n",
    "\n",
    "plt.figure()\n",
    "plot = ground_truth_line.plot(figsize=(15, 3), label='Data', legend=True, title=\"11 day ahead forecast\")\n",
    "a = pd.Series(tree_reg.predict(X_test_comp))\n",
    "a.index = pd.Series(y_test_comp).index\n",
    "a.plot(label='Forecast', legend=True)\n",
    "plot.grid()\n",
    "plt.show()\n"
   ],
   "metadata": {
    "collapsed": false,
    "pycharm": {
     "name": "#%%\n"
    }
   }
  },
  {
   "cell_type": "code",
   "execution_count": null,
   "outputs": [],
   "source": [
    "ground_truth_line = pd.Series(y)\n",
    "\n",
    "# print(\"MAPE:\", mape(y_test_comp, tree_reg.predict(X_test_comp)))\n",
    "# print(\"MSE:\", mse(y_test_comp, tree_reg.predict(X_test_comp)))\n",
    "# print(\"RMSE:\", np.sqrt(mse(y_test_comp, tree_reg.predict(X_test_comp))))\n",
    "\n",
    "plt.figure()\n",
    "plot = ground_truth_line.plot(figsize=(15, 3), label='Data', legend=True, title=\"Test set Decision Tree Regression forecasts\")\n",
    "a = pd.Series(tree_reg.predict(X_test))\n",
    "a.index = pd.Series(y_test).index\n",
    "a.plot(label='Forecast', legend=True)\n",
    "plot.grid()\n",
    "plt.show()\n"
   ],
   "metadata": {
    "collapsed": false,
    "pycharm": {
     "name": "#%%\n"
    }
   }
  },
  {
   "cell_type": "markdown",
   "source": [
    "##### Hyperparameter tuning"
   ],
   "metadata": {
    "collapsed": false
   }
  },
  {
   "cell_type": "code",
   "execution_count": null,
   "outputs": [],
   "source": [
    "\n",
    "parameters={\"splitter\":[\"best\",\"random\"],\n",
    "            \"max_depth\" : [1,2,5,10],\n",
    "           \"min_samples_leaf\":[2,5,8,10],\n",
    "           \"min_weight_fraction_leaf\":[0.1,0.2,0.5],\n",
    "           \"max_features\":[\"auto\",\"log2\",\"sqrt\",None],\n",
    "           \"max_leaf_nodes\":[None,10,20,50,90] }"
   ],
   "metadata": {
    "collapsed": false,
    "pycharm": {
     "name": "#%%\n"
    }
   }
  },
  {
   "cell_type": "code",
   "execution_count": null,
   "outputs": [],
   "source": [
    "from sklearn.model_selection import GridSearchCV"
   ],
   "metadata": {
    "collapsed": false,
    "pycharm": {
     "name": "#%%\n"
    }
   }
  },
  {
   "cell_type": "code",
   "execution_count": null,
   "outputs": [],
   "source": [
    "tuning_model=GridSearchCV(tree_reg,param_grid=parameters,scoring='neg_mean_squared_error',cv=4,verbose=3)\n",
    "tuning_model.fit(X,y)"
   ],
   "metadata": {
    "collapsed": false,
    "pycharm": {
     "name": "#%%\n"
    }
   }
  },
  {
   "cell_type": "code",
   "execution_count": null,
   "outputs": [],
   "source": [
    "tuning_model.best_params_"
   ],
   "metadata": {
    "collapsed": false,
    "pycharm": {
     "name": "#%%\n"
    }
   }
  },
  {
   "cell_type": "code",
   "execution_count": null,
   "outputs": [],
   "source": [
    "# best model score\n",
    "tuning_model.best_score_"
   ],
   "metadata": {
    "collapsed": false,
    "pycharm": {
     "name": "#%%\n"
    }
   }
  },
  {
   "cell_type": "code",
   "execution_count": null,
   "outputs": [],
   "source": [
    "best_dec_tree_pred = tuning_model.best_estimator_.predict(X_test)"
   ],
   "metadata": {
    "collapsed": false,
    "pycharm": {
     "name": "#%%\n"
    }
   }
  },
  {
   "cell_type": "code",
   "execution_count": null,
   "outputs": [],
   "source": [
    "MSE_test_bdt = mean_squared_error(y_test, best_dec_tree_pred)\n",
    "\n",
    "MAPE_test_bdt = mean_absolute_percentage_error(y_test, best_dec_tree_pred)\n",
    "print(MSE_test_bdt, round(MAPE_test_bdt * 100, 2),'%')"
   ],
   "metadata": {
    "collapsed": false,
    "pycharm": {
     "name": "#%%\n"
    }
   }
  },
  {
   "cell_type": "markdown",
   "source": [
    "### Random Forest Regression"
   ],
   "metadata": {
    "collapsed": false
   }
  },
  {
   "cell_type": "code",
   "execution_count": null,
   "outputs": [],
   "source": [
    "from sklearn.ensemble import RandomForestRegressor\n",
    "\n",
    "regr = RandomForestRegressor()\n",
    "regr.fit(X_train, y_train)\n",
    "\n",
    "y_train_pred_rf = regr.predict(X_train)\n",
    "y_test_pred_rf = regr.predict(X_test)"
   ],
   "metadata": {
    "collapsed": false,
    "pycharm": {
     "name": "#%%\n"
    }
   }
  },
  {
   "cell_type": "code",
   "execution_count": null,
   "outputs": [],
   "source": [
    "MSE_train_rf = mean_squared_error(y_train, y_train_pred_rf)\n",
    "MSE_test_rf = mean_squared_error(y_test, y_test_pred_rf)\n",
    "\n",
    "MAPE_train_rf = mean_absolute_percentage_error(y_train, y_train_pred_rf)\n",
    "MAPE_test_rf = mean_absolute_percentage_error(y_test, y_test_pred_rf)\n",
    "\n",
    "\n",
    "print(MSE_test_rf, round(MAPE_test_rf * 100, 2),'%')"
   ],
   "metadata": {
    "collapsed": false,
    "pycharm": {
     "name": "#%%\n"
    }
   }
  },
  {
   "cell_type": "code",
   "execution_count": null,
   "outputs": [],
   "source": [
    "ground_truth_line = pd.Series(y)\n",
    "\n",
    "# print(\"MAPE:\", mape(y_test_comp, tree_reg.predict(X_test_comp)))\n",
    "# print(\"MSE:\", mse(y_test_comp, tree_reg.predict(X_test_comp)))\n",
    "# print(\"RMSE:\", np.sqrt(mse(y_test_comp, tree_reg.predict(X_test_comp))))\n",
    "\n",
    "plt.figure()\n",
    "plot = ground_truth_line.plot(figsize=(15, 3), label='Data', legend=True, title=\"Test set Random Forest Regression forecasts\")\n",
    "a = pd.Series(regr.predict(X_test))\n",
    "a.index = pd.Series(y_test).index\n",
    "a.plot(label='Forecast', legend=True)\n",
    "plot.grid()\n",
    "plt.show()"
   ],
   "metadata": {
    "collapsed": false,
    "pycharm": {
     "name": "#%%\n"
    }
   }
  },
  {
   "cell_type": "code",
   "execution_count": null,
   "outputs": [],
   "source": [
    "parameters={\"max_depth\" : [1,2,5,10],\n",
    "           \"min_samples_split\":[1,2,5,10],\n",
    "           \"min_samples_leaf\":[1,2,5,10],\n",
    "            \"n_estimators\":[10, 50, 100, 200],\n",
    "           \"min_weight_fraction_leaf\":[0.1,0.2,0.5],\n",
    "           \"max_leaf_nodes\":[10,50,90] }"
   ],
   "metadata": {
    "collapsed": false,
    "pycharm": {
     "name": "#%%\n"
    }
   }
  },
  {
   "cell_type": "code",
   "execution_count": null,
   "outputs": [],
   "source": [
    "from sklearn.model_selection import RandomizedSearchCV\n",
    "\n",
    "tuning_model=RandomizedSearchCV(estimator=regr, param_distributions=parameters, n_iter = 100, cv = 3, verbose=2, random_state=42, n_jobs = -1)\n",
    "tuning_model.fit(X,y)"
   ],
   "metadata": {
    "collapsed": false,
    "pycharm": {
     "name": "#%%\n"
    }
   }
  },
  {
   "cell_type": "code",
   "execution_count": null,
   "outputs": [],
   "source": [
    "tuning_model.best_params_"
   ],
   "metadata": {
    "collapsed": false,
    "pycharm": {
     "name": "#%%\n"
    }
   }
  },
  {
   "cell_type": "code",
   "execution_count": null,
   "outputs": [],
   "source": [
    "tuning_model.best_score_"
   ],
   "metadata": {
    "collapsed": false,
    "pycharm": {
     "name": "#%%\n"
    }
   }
  },
  {
   "cell_type": "code",
   "execution_count": null,
   "outputs": [],
   "source": [
    "best_rf_pred = tuning_model.best_estimator_.predict(X_test)"
   ],
   "metadata": {
    "collapsed": false,
    "pycharm": {
     "name": "#%%\n"
    }
   }
  },
  {
   "cell_type": "code",
   "execution_count": null,
   "outputs": [],
   "source": [
    "MSE_test_brf = mean_squared_error(y_test, best_rf_pred)\n",
    "\n",
    "MAPE_test_brf = mean_absolute_percentage_error(y_test, best_rf_pred)\n",
    "print(MSE_test_brf, round(MAPE_test_brf * 100, 2),'%')"
   ],
   "metadata": {
    "collapsed": false,
    "pycharm": {
     "name": "#%%\n"
    }
   }
  },
  {
   "cell_type": "markdown",
   "source": [
    "### Gradient Boosting Regression"
   ],
   "metadata": {
    "collapsed": false
   }
  },
  {
   "cell_type": "code",
   "execution_count": null,
   "outputs": [],
   "source": [
    "from sklearn.ensemble import GradientBoostingRegressor\n",
    "\n",
    "reg = GradientBoostingRegressor(random_state=0)\n",
    "reg.fit(X_train, y_train)\n",
    "\n",
    "y_train_pred_gb = reg.predict(X_train)\n",
    "y_test_pred_gb = reg.predict(X_test)"
   ],
   "metadata": {
    "collapsed": false,
    "pycharm": {
     "name": "#%%\n"
    }
   }
  },
  {
   "cell_type": "code",
   "execution_count": null,
   "outputs": [],
   "source": [
    "MSE_train_gb = mean_squared_error(y_train, y_train_pred_gb)\n",
    "MSE_test_gb = mean_squared_error(y_test, y_test_pred_gb)\n",
    "\n",
    "MAPE_train_gb = mean_absolute_percentage_error(y_train, y_train_pred_gb)\n",
    "MAPE_test_gb = mean_absolute_percentage_error(y_test, y_test_pred_gb)\n",
    "\n",
    "\n",
    "print(MSE_test_gb, round(MAPE_test_gb * 100, 2),'%')"
   ],
   "metadata": {
    "collapsed": false,
    "pycharm": {
     "name": "#%%\n"
    }
   }
  },
  {
   "cell_type": "code",
   "execution_count": null,
   "outputs": [],
   "source": [
    "ground_truth_line = pd.Series(y)\n",
    "\n",
    "# print(\"MAPE:\", mape(y_test_comp, tree_reg.predict(X_test_comp)))\n",
    "# print(\"MSE:\", mse(y_test_comp, tree_reg.predict(X_test_comp)))\n",
    "# print(\"RMSE:\", np.sqrt(mse(y_test_comp, tree_reg.predict(X_test_comp))))\n",
    "\n",
    "plt.figure()\n",
    "plot = ground_truth_line.plot(figsize=(15, 3), label='Data', legend=True, title=\"Test set Gradient Boosting Regression forecasts\")\n",
    "a = pd.Series(reg.predict(X_test))\n",
    "a.index = pd.Series(y_test).index\n",
    "a.plot(label='Forecast', legend=True)\n",
    "plot.grid()\n",
    "plt.show()"
   ],
   "metadata": {
    "collapsed": false,
    "pycharm": {
     "name": "#%%\n"
    }
   }
  },
  {
   "cell_type": "markdown",
   "source": [
    "### LightGBM"
   ],
   "metadata": {
    "collapsed": false
   }
  },
  {
   "cell_type": "code",
   "execution_count": null,
   "outputs": [],
   "source": [
    "import lightgbm as lgb"
   ],
   "metadata": {
    "collapsed": false,
    "pycharm": {
     "name": "#%%\n"
    }
   }
  },
  {
   "cell_type": "code",
   "execution_count": null,
   "outputs": [],
   "source": [
    "lgb_train = lgb.Dataset(X_train, y_train)\n",
    "lgb_test = lgb.Dataset(X_test, y_test, reference=lgb_train)"
   ],
   "metadata": {
    "collapsed": false,
    "pycharm": {
     "name": "#%%\n"
    }
   }
  },
  {
   "cell_type": "code",
   "execution_count": null,
   "outputs": [],
   "source": [
    "params = {\n",
    "    'boosting_type': 'gbdt',\n",
    "    'objective': 'regression',\n",
    "    'metric': {'l2', 'l1'},\n",
    "    'num_leaves': 31,\n",
    "    'learning_rate': 0.05,\n",
    "    'feature_fraction': 0.9,\n",
    "    'bagging_fraction': 0.8,\n",
    "    'bagging_freq': 5,\n",
    "    'verbose': 0\n",
    "}\n",
    "\n"
   ],
   "metadata": {
    "collapsed": false,
    "pycharm": {
     "name": "#%%\n"
    }
   }
  },
  {
   "cell_type": "code",
   "execution_count": null,
   "outputs": [],
   "source": [
    "\n",
    "# train\n",
    "gbm = lgb.train(params,\n",
    "                lgb_train,\n",
    "                num_boost_round=20,\n",
    "                valid_sets=lgb_test,\n",
    "                early_stopping_rounds=5)\n",
    "\n",
    "print('Saving model...')\n",
    "# save model to file\n",
    "gbm.save_model('model.txt')\n"
   ],
   "metadata": {
    "collapsed": false,
    "pycharm": {
     "name": "#%%\n"
    }
   }
  },
  {
   "cell_type": "code",
   "execution_count": null,
   "outputs": [],
   "source": [
    "# predict\n",
    "lgbm_pred = gbm.predict(X_test, num_iteration=gbm.best_iteration)\n",
    "# eval\n",
    "mape_test = mean_absolute_percentage_error(y_test, lgbm_pred)\n",
    "print(f'The MAPE of prediction is: {mape_test}')"
   ],
   "metadata": {
    "collapsed": false,
    "pycharm": {
     "name": "#%%\n"
    }
   }
  },
  {
   "cell_type": "code",
   "execution_count": null,
   "outputs": [],
   "source": [
    "ground_truth_line = pd.Series(y)\n",
    "\n",
    "# print(\"MAPE:\", mape(y_test_comp, tree_reg.predict(X_test_comp)))\n",
    "# print(\"MSE:\", mse(y_test_comp, tree_reg.predict(X_test_comp)))\n",
    "# print(\"RMSE:\", np.sqrt(mse(y_test_comp, tree_reg.predict(X_test_comp))))\n",
    "\n",
    "plt.figure()\n",
    "plot = ground_truth_line.plot(figsize=(15, 3), label='Data', legend=True, title=\"Test set LightGBM Regression forecasts\")\n",
    "a = pd.Series(gbm.predict(X_test, num_iteration=gbm.best_iteration))\n",
    "a.index = pd.Series(y_test).index\n",
    "a.plot(label='Forecast', legend=True)\n",
    "plot.grid()\n",
    "plt.show()"
   ],
   "metadata": {
    "collapsed": false,
    "pycharm": {
     "name": "#%%\n"
    }
   }
  },
  {
   "cell_type": "markdown",
   "source": [
    "### XGBoost"
   ],
   "metadata": {
    "collapsed": false
   }
  },
  {
   "cell_type": "code",
   "execution_count": null,
   "outputs": [],
   "source": [
    "import xgboost\n",
    "\n",
    "xgb = xgboost.XGBRegressor()\n",
    "xgb.fit(X_train, y_train)"
   ],
   "metadata": {
    "collapsed": false,
    "pycharm": {
     "name": "#%%\n"
    }
   }
  },
  {
   "cell_type": "code",
   "execution_count": null,
   "outputs": [],
   "source": [
    "xgb_pred = xgb.predict(X_test)\n",
    "\n",
    "xgb_mape = mean_absolute_percentage_error(y_test, xgb_pred)\n",
    "print(f'The MAPE of prediction is: {xgb_mape}')"
   ],
   "metadata": {
    "collapsed": false,
    "pycharm": {
     "name": "#%%\n"
    }
   }
  },
  {
   "cell_type": "code",
   "execution_count": null,
   "outputs": [],
   "source": [
    "ground_truth_line = pd.Series(y)\n",
    "\n",
    "# print(\"MAPE:\", mape(y_test_comp, tree_reg.predict(X_test_comp)))\n",
    "# print(\"MSE:\", mse(y_test_comp, tree_reg.predict(X_test_comp)))\n",
    "# print(\"RMSE:\", np.sqrt(mse(y_test_comp, tree_reg.predict(X_test_comp))))\n",
    "\n",
    "plt.figure()\n",
    "plot = ground_truth_line.plot(figsize=(15, 3), label='Data', legend=True, title=\"Test set XGBoost Regression forecasts\")\n",
    "a = pd.Series(xgb.predict(X_test))\n",
    "a.index = pd.Series(y_test).index\n",
    "a.plot(label='Forecast', legend=True)\n",
    "plot.grid()\n",
    "plt.show()"
   ],
   "metadata": {
    "collapsed": false,
    "pycharm": {
     "name": "#%%\n"
    }
   }
  },
  {
   "cell_type": "markdown",
   "source": [
    "### AutoGluon"
   ],
   "metadata": {
    "collapsed": false
   }
  },
  {
   "cell_type": "code",
   "execution_count": null,
   "outputs": [],
   "source": [
    "!pip install autogluon"
   ],
   "metadata": {
    "collapsed": false,
    "pycharm": {
     "name": "#%%\n"
    }
   }
  },
  {
   "cell_type": "code",
   "execution_count": null,
   "outputs": [],
   "source": [
    "from autogluon.tabular import TabularDataset, TabularPredictor"
   ],
   "metadata": {
    "collapsed": false,
    "pycharm": {
     "name": "#%%\n"
    }
   }
  },
  {
   "cell_type": "code",
   "execution_count": null,
   "outputs": [],
   "source": [
    "label_column = ''\n",
    "print(\"Summary of class variable: \\n\", train_data[label_column].describe())"
   ],
   "metadata": {
    "collapsed": false,
    "pycharm": {
     "name": "#%%\n"
    }
   }
  },
  {
   "cell_type": "code",
   "execution_count": null,
   "outputs": [],
   "source": [
    "save_path = 'agModels-predictClass'  # specifies folder to store trained models\n",
    "predictor = TabularPredictor(label=label, path=save_path).fit(train_data)"
   ],
   "metadata": {
    "collapsed": false,
    "pycharm": {
     "name": "#%%\n"
    }
   }
  },
  {
   "cell_type": "code",
   "execution_count": null,
   "outputs": [],
   "source": [],
   "metadata": {
    "collapsed": false,
    "pycharm": {
     "name": "#%%\n"
    }
   }
  }
 ],
 "metadata": {
  "kernelspec": {
   "display_name": "Python 3",
   "language": "python",
   "name": "python3"
  },
  "language_info": {
   "codemirror_mode": {
    "name": "ipython",
    "version": 3
   },
   "file_extension": ".py",
   "mimetype": "text/x-python",
   "name": "python",
   "nbconvert_exporter": "python",
   "pygments_lexer": "ipython3",
   "version": "3.8.10"
  }
 },
 "nbformat": 4,
 "nbformat_minor": 5
}