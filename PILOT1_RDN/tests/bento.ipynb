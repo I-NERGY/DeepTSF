{
 "cells": [
  {
   "cell_type": "code",
   "execution_count": 50,
   "metadata": {},
   "outputs": [
    {
     "data": {
      "text/plain": [
       "True"
      ]
     },
     "execution_count": 50,
     "metadata": {},
     "output_type": "execute_result"
    }
   ],
   "source": [
    "import bentoml\n",
    "from sklearn import svm\n",
    "from sklearn import datasets\n",
    "import mlflow\n",
    "from dotenv import load_dotenv\n",
    "load_dotenv()\n"
   ]
  },
  {
   "cell_type": "markdown",
   "metadata": {},
   "source": [
    "### This does not work"
   ]
  },
  {
   "cell_type": "code",
   "execution_count": 63,
   "metadata": {},
   "outputs": [
    {
     "data": {
      "text/html": [
       "<pre style=\"white-space:pre;overflow-x:auto;line-height:normal;font-family:Menlo,'DejaVu Sans Mono',consolas,'Courier New',monospace\"><span style=\"color: #7fbfbf; text-decoration-color: #7fbfbf\">18-May-22 1:45:50 PM </span><span style=\"color: #000080; text-decoration-color: #000080\">INFO    </span> <span style=\"font-weight: bold\">[</span>cli<span style=\"font-weight: bold\">]</span> Successfully saved                                       \n",
       "<span style=\"color: #7fbfbf; text-decoration-color: #7fbfbf\">                     </span>         <span style=\"color: #800080; text-decoration-color: #800080; font-weight: bold\">Model</span><span style=\"font-weight: bold\">(</span><span style=\"color: #808000; text-decoration-color: #808000\">tag</span>=<span style=\"color: #008000; text-decoration-color: #008000\">\"iccs_mlflow_model:vwlj7d6ws6oim4dg\"</span>, <span style=\"color: #808000; text-decoration-color: #808000\">path</span>=<span style=\"color: #800080; text-decoration-color: #800080\">\"C</span>:\\Users\\\n",
       "<span style=\"color: #7fbfbf; text-decoration-color: #7fbfbf\">                     </span>         spele\\bentoml\\models\\iccs_mlflow_model\\vwlj7d6ws6oim4dg\\\"<span style=\"font-weight: bold\">)</span>     \n",
       "</pre>\n"
      ],
      "text/plain": [
       "\u001b[2;36m18-May-22 1:45:50 PM\u001b[0m\u001b[2;36m \u001b[0m\u001b[34mINFO    \u001b[0m \u001b[1m[\u001b[0mcli\u001b[1m]\u001b[0m Successfully saved                                       \n",
       "\u001b[2;36m                     \u001b[0m         \u001b[1;35mModel\u001b[0m\u001b[1m(\u001b[0m\u001b[33mtag\u001b[0m=\u001b[32m\"iccs_mlflow_model\u001b[0m\u001b[32m:vwlj7d6ws6oim4dg\"\u001b[0m, \u001b[33mpath\u001b[0m=\u001b[35m\"C\u001b[0m:\\Users\\\n",
       "\u001b[2;36m                     \u001b[0m         spele\\bentoml\\models\\iccs_mlflow_model\\vwlj7d6ws6oim4dg\\\"\u001b[1m)\u001b[0m     \n"
      ]
     },
     "metadata": {},
     "output_type": "display_data"
    },
    {
     "ename": "BentoMLException",
     "evalue": "Downloaded path is not a valid MLflow Model.",
     "output_type": "error",
     "traceback": [
      "\u001b[1;31m---------------------------------------------------------------------------\u001b[0m",
      "\u001b[1;31mBentoMLException\u001b[0m                          Traceback (most recent call last)",
      "\u001b[1;32mc:\\Ubuntu\\Dev\\Windows\\I-NERGY\\energy-forecasting-new\\PILOT1_RDN\\bento.ipynb Cell 3'\u001b[0m in \u001b[0;36m<cell line: 4>\u001b[1;34m()\u001b[0m\n\u001b[0;32m      <a href='vscode-notebook-cell:/c%3A/Ubuntu/Dev/Windows/I-NERGY/energy-forecasting-new/PILOT1_RDN/bento.ipynb#ch0000001?line=0'>1</a>\u001b[0m \u001b[39m# from pathlib import Path\u001b[39;00m\n\u001b[0;32m      <a href='vscode-notebook-cell:/c%3A/Ubuntu/Dev/Windows/I-NERGY/energy-forecasting-new/PILOT1_RDN/bento.ipynb#ch0000001?line=1'>2</a>\u001b[0m \u001b[39m# uri = Path(\"rnn_model\").resolve()\u001b[39;00m\n\u001b[0;32m      <a href='vscode-notebook-cell:/c%3A/Ubuntu/Dev/Windows/I-NERGY/energy-forecasting-new/PILOT1_RDN/bento.ipynb#ch0000001?line=2'>3</a>\u001b[0m \u001b[39m# print(uri)\u001b[39;00m\n\u001b[1;32m----> <a href='vscode-notebook-cell:/c%3A/Ubuntu/Dev/Windows/I-NERGY/energy-forecasting-new/PILOT1_RDN/bento.ipynb#ch0000001?line=3'>4</a>\u001b[0m tag \u001b[39m=\u001b[39m bentoml\u001b[39m.\u001b[39;49mmlflow\u001b[39m.\u001b[39;49mimport_from_uri(\n\u001b[0;32m      <a href='vscode-notebook-cell:/c%3A/Ubuntu/Dev/Windows/I-NERGY/energy-forecasting-new/PILOT1_RDN/bento.ipynb#ch0000001?line=4'>5</a>\u001b[0m     \u001b[39m\"\u001b[39;49m\u001b[39miccs_mlflow_model\u001b[39;49m\u001b[39m\"\u001b[39;49m, \u001b[39m\"\u001b[39;49m\u001b[39mruns:/8a57f021adee4ca991895a244e2e094e/pyfunc_model/\u001b[39;49m\u001b[39m\"\u001b[39;49m)\n\u001b[0;32m      <a href='vscode-notebook-cell:/c%3A/Ubuntu/Dev/Windows/I-NERGY/energy-forecasting-new/PILOT1_RDN/bento.ipynb#ch0000001?line=5'>6</a>\u001b[0m \u001b[39m# s3_tag = bentoml.mlflow.import_from_uri(\u001b[39;00m\n\u001b[0;32m      <a href='vscode-notebook-cell:/c%3A/Ubuntu/Dev/Windows/I-NERGY/energy-forecasting-new/PILOT1_RDN/bento.ipynb#ch0000001?line=6'>7</a>\u001b[0m \u001b[39m#     \"rnn_model\", \"c:/Users/spele/bentoml/models/rnn_model/qxnl3nwwssp4g4dg\")\u001b[39;00m\n\u001b[0;32m      <a href='vscode-notebook-cell:/c%3A/Ubuntu/Dev/Windows/I-NERGY/energy-forecasting-new/PILOT1_RDN/bento.ipynb#ch0000001?line=8'>9</a>\u001b[0m \u001b[39mprint\u001b[39m(tag)\n",
      "File \u001b[1;32mc:\\Users\\spele\\miniconda3\\lib\\site-packages\\bentoml\\_internal\\frameworks\\mlflow.py:275\u001b[0m, in \u001b[0;36mimport_from_uri\u001b[1;34m(name, uri, labels, custom_objects, metadata)\u001b[0m\n\u001b[0;32m    <a href='file:///c%3A/Users/spele/miniconda3/lib/site-packages/bentoml/_internal/frameworks/mlflow.py?line=272'>273</a>\u001b[0m exists, fpath \u001b[39m=\u001b[39m _validate_file_exists(\u001b[39m\"\u001b[39m\u001b[39mMLmodel\u001b[39m\u001b[39m\"\u001b[39m, mlflow_obj_path)\n\u001b[0;32m    <a href='file:///c%3A/Users/spele/miniconda3/lib/site-packages/bentoml/_internal/frameworks/mlflow.py?line=273'>274</a>\u001b[0m \u001b[39mif\u001b[39;00m \u001b[39mnot\u001b[39;00m exists:\n\u001b[1;32m--> <a href='file:///c%3A/Users/spele/miniconda3/lib/site-packages/bentoml/_internal/frameworks/mlflow.py?line=274'>275</a>\u001b[0m     \u001b[39mraise\u001b[39;00m BentoMLException(\u001b[39m\"\u001b[39m\u001b[39mDownloaded path is not a valid MLflow Model.\u001b[39m\u001b[39m\"\u001b[39m)\n\u001b[0;32m    <a href='file:///c%3A/Users/spele/miniconda3/lib/site-packages/bentoml/_internal/frameworks/mlflow.py?line=275'>276</a>\u001b[0m \u001b[39mwith\u001b[39;00m Path(fpath)\u001b[39m.\u001b[39mopen(\u001b[39m\"\u001b[39m\u001b[39mr\u001b[39m\u001b[39m\"\u001b[39m) \u001b[39mas\u001b[39;00m mf:\n\u001b[0;32m    <a href='file:///c%3A/Users/spele/miniconda3/lib/site-packages/bentoml/_internal/frameworks/mlflow.py?line=276'>277</a>\u001b[0m     conf \u001b[39m=\u001b[39m yaml\u001b[39m.\u001b[39msafe_load(mf\u001b[39m.\u001b[39mread())\n",
      "\u001b[1;31mBentoMLException\u001b[0m: Downloaded path is not a valid MLflow Model."
     ]
    }
   ],
   "source": [
    "\n",
    "# from pathlib import Path\n",
    "# uri = Path(\"rnn_model\").resolve()\n",
    "# print(uri)\n",
    "tag = bentoml.mlflow.import_from_uri(\n",
    "    \"iccs_mlflow_model\", \"runs:/8a57f021adee4ca991895a244e2e094e/pyfunc_model/\")\n",
    "# s3_tag = bentoml.mlflow.import_from_uri(\n",
    "#     \"rnn_model\", \"c:/Users/spele/bentoml/models/rnn_model/qxnl3nwwssp4g4dg\")\n",
    "\n",
    "print(tag)\n",
    "# MLModel not found...why?"
   ]
  },
  {
   "cell_type": "markdown",
   "metadata": {},
   "source": [
    "### This does not work:"
   ]
  },
  {
   "cell_type": "code",
   "execution_count": 15,
   "metadata": {},
   "outputs": [
    {
     "name": "stderr",
     "output_type": "stream",
     "text": [
      "WARNING:urllib3.connectionpool:Connection pool is full, discarding connection: 131.154.97.48\n",
      "WARNING:urllib3.connectionpool:Connection pool is full, discarding connection: 131.154.97.48\n",
      "WARNING:urllib3.connectionpool:Connection pool is full, discarding connection: 131.154.97.48\n",
      "WARNING:urllib3.connectionpool:Connection pool is full, discarding connection: 131.154.97.48\n",
      "WARNING:urllib3.connectionpool:Connection pool is full, discarding connection: 131.154.97.48\n",
      "WARNING:urllib3.connectionpool:Connection pool is full, discarding connection: 131.154.97.48\n",
      "WARNING:urllib3.connectionpool:Connection pool is full, discarding connection: 131.154.97.48\n"
     ]
    },
    {
     "data": {
      "text/html": [
       "<pre style=\"white-space:pre;overflow-x:auto;line-height:normal;font-family:Menlo,'DejaVu Sans Mono',consolas,'Courier New',monospace\"><span style=\"color: #7fbfbf; text-decoration-color: #7fbfbf\">17-May-22 8:36:39 PM </span><span style=\"color: #000080; text-decoration-color: #000080\">INFO    </span> <span style=\"font-weight: bold\">[</span>cli<span style=\"font-weight: bold\">]</span> Successfully saved                                       \n",
       "<span style=\"color: #7fbfbf; text-decoration-color: #7fbfbf\">                     </span>         <span style=\"color: #800080; text-decoration-color: #800080; font-weight: bold\">Model</span><span style=\"font-weight: bold\">(</span><span style=\"color: #808000; text-decoration-color: #808000\">tag</span>=<span style=\"color: #008000; text-decoration-color: #008000\">\"nbeats_model:zinydgwwa6u6o4dg\"</span>, <span style=\"color: #808000; text-decoration-color: #808000\">path</span>=<span style=\"color: #800080; text-decoration-color: #800080\">\"C</span>:\\Users\\spele\n",
       "<span style=\"color: #7fbfbf; text-decoration-color: #7fbfbf\">                     </span>         \\bentoml\\models\\nbeats_model\\zinydgwwa6u6o4dg\\\"<span style=\"font-weight: bold\">)</span>               \n",
       "</pre>\n"
      ],
      "text/plain": [
       "\u001b[2;36m17-May-22 8:36:39 PM\u001b[0m\u001b[2;36m \u001b[0m\u001b[34mINFO    \u001b[0m \u001b[1m[\u001b[0mcli\u001b[1m]\u001b[0m Successfully saved                                       \n",
       "\u001b[2;36m                     \u001b[0m         \u001b[1;35mModel\u001b[0m\u001b[1m(\u001b[0m\u001b[33mtag\u001b[0m=\u001b[32m\"nbeats_model\u001b[0m\u001b[32m:zinydgwwa6u6o4dg\"\u001b[0m, \u001b[33mpath\u001b[0m=\u001b[35m\"C\u001b[0m:\\Users\\spele\n",
       "\u001b[2;36m                     \u001b[0m         \\bentoml\\models\\nbeats_model\\zinydgwwa6u6o4dg\\\"\u001b[1m)\u001b[0m               \n"
      ]
     },
     "metadata": {},
     "output_type": "display_data"
    },
    {
     "ename": "BentoMLException",
     "evalue": "Downloaded path is not a valid MLflow Model.",
     "output_type": "error",
     "traceback": [
      "\u001b[1;31m---------------------------------------------------------------------------\u001b[0m",
      "\u001b[1;31mBentoMLException\u001b[0m                          Traceback (most recent call last)",
      "\u001b[1;32mc:\\Ubuntu\\Dev\\Windows\\I-NERGY\\energy-forecasting-new\\PILOT1_RDN\\bento.ipynb Cell 5'\u001b[0m in \u001b[0;36m<cell line: 1>\u001b[1;34m()\u001b[0m\n\u001b[1;32m----> <a href='vscode-notebook-cell:/c%3A/Ubuntu/Dev/Windows/I-NERGY/energy-forecasting-new/PILOT1_RDN/bento.ipynb#ch0000002?line=0'>1</a>\u001b[0m s3_tag \u001b[39m=\u001b[39m bentoml\u001b[39m.\u001b[39;49mmlflow\u001b[39m.\u001b[39;49mimport_from_uri(\n\u001b[0;32m      <a href='vscode-notebook-cell:/c%3A/Ubuntu/Dev/Windows/I-NERGY/energy-forecasting-new/PILOT1_RDN/bento.ipynb#ch0000002?line=1'>2</a>\u001b[0m     \u001b[39m\"\u001b[39;49m\u001b[39mnbeats_model\u001b[39;49m\u001b[39m\"\u001b[39;49m, \u001b[39m\"\u001b[39;49m\u001b[39mmodels:/rdn_nbeats_test/1\u001b[39;49m\u001b[39m\"\u001b[39;49m)\n\u001b[0;32m      <a href='vscode-notebook-cell:/c%3A/Ubuntu/Dev/Windows/I-NERGY/energy-forecasting-new/PILOT1_RDN/bento.ipynb#ch0000002?line=2'>3</a>\u001b[0m \u001b[39mprint\u001b[39m(s3_tag)\n",
      "File \u001b[1;32mc:\\Users\\spele\\miniconda3\\lib\\site-packages\\bentoml\\_internal\\frameworks\\mlflow.py:275\u001b[0m, in \u001b[0;36mimport_from_uri\u001b[1;34m(name, uri, labels, custom_objects, metadata)\u001b[0m\n\u001b[0;32m    <a href='file:///c%3A/Users/spele/miniconda3/lib/site-packages/bentoml/_internal/frameworks/mlflow.py?line=272'>273</a>\u001b[0m exists, fpath \u001b[39m=\u001b[39m _validate_file_exists(\u001b[39m\"\u001b[39m\u001b[39mMLmodel\u001b[39m\u001b[39m\"\u001b[39m, mlflow_obj_path)\n\u001b[0;32m    <a href='file:///c%3A/Users/spele/miniconda3/lib/site-packages/bentoml/_internal/frameworks/mlflow.py?line=273'>274</a>\u001b[0m \u001b[39mif\u001b[39;00m \u001b[39mnot\u001b[39;00m exists:\n\u001b[1;32m--> <a href='file:///c%3A/Users/spele/miniconda3/lib/site-packages/bentoml/_internal/frameworks/mlflow.py?line=274'>275</a>\u001b[0m     \u001b[39mraise\u001b[39;00m BentoMLException(\u001b[39m\"\u001b[39m\u001b[39mDownloaded path is not a valid MLflow Model.\u001b[39m\u001b[39m\"\u001b[39m)\n\u001b[0;32m    <a href='file:///c%3A/Users/spele/miniconda3/lib/site-packages/bentoml/_internal/frameworks/mlflow.py?line=275'>276</a>\u001b[0m \u001b[39mwith\u001b[39;00m Path(fpath)\u001b[39m.\u001b[39mopen(\u001b[39m\"\u001b[39m\u001b[39mr\u001b[39m\u001b[39m\"\u001b[39m) \u001b[39mas\u001b[39;00m mf:\n\u001b[0;32m    <a href='file:///c%3A/Users/spele/miniconda3/lib/site-packages/bentoml/_internal/frameworks/mlflow.py?line=276'>277</a>\u001b[0m     conf \u001b[39m=\u001b[39m yaml\u001b[39m.\u001b[39msafe_load(mf\u001b[39m.\u001b[39mread())\n",
      "\u001b[1;31mBentoMLException\u001b[0m: Downloaded path is not a valid MLflow Model."
     ]
    }
   ],
   "source": [
    "s3_tag = bentoml.mlflow.import_from_uri(\n",
    "    \"block_model\", \"models:/rdn_nbeats_test/1\")\n",
    "print(s3_tag)\n"
   ]
  },
  {
   "cell_type": "code",
   "execution_count": 12,
   "metadata": {},
   "outputs": [
    {
     "name": "stderr",
     "output_type": "stream",
     "text": [
      "2022/05/17 20:12:45 WARNING mlflow.pyfunc: Detected one or more mismatches between the model's dependencies and the current Python environment:\n",
      " - boto3 (current: 1.22.9, required: boto3==1.22.1)\n",
      " - pyopenssl (current: 21.0.0, required: pyopenssl==22.0.0)\n",
      " - pytorch-lightning (current: 1.6.3, required: pytorch-lightning==1.6.2)\n",
      "To fix the mismatches, call `mlflow.pyfunc.get_model_dependencies(model_uri)` to fetch the model's environment and install dependencies using the resulting environment file.\n",
      "2022/05/17 20:12:45 WARNING mlflow.pyfunc: The version of Python that the model was saved in, `Python 3.8.13`, differs from the version of Python that is currently running, `Python 3.9.7`, and may be incompatible\n"
     ]
    },
    {
     "name": "stdout",
     "output_type": "stream",
     "text": [
      "Local path inside _load_pyfunc: C:\\Users\\spele\\AppData\\Local\\Temp\\tmpzxegz2tj\\pyfunc_model\\data\\8a57f021adee4ca991895a244e2e094e\n",
      "Local path altered for loading: C:\\Users\\spele\\AppData\\Local\\Temp\\tmpzxegz2tj\\pyfunc_model\\data\\8a57f021adee4ca991895a244e2e094e\n"
     ]
    },
    {
     "name": "stderr",
     "output_type": "stream",
     "text": [
      "[2022-05-17 20:12:50,097] WARNING | darts.models | Support for AutoARIMA, BATS and TBATS is not available.To enable it, install u8darts[pmdarima] or u8darts[all].\n",
      "WARNING:darts.models:Support for AutoARIMA, BATS and TBATS is not available.To enable it, install u8darts[pmdarima] or u8darts[all].\n",
      "[2022-05-17 20:12:50,102] WARNING | darts.models | Support for Facebook Prophet is not available. To enable it, install \"darts\", \"u8darts[prophet]\" or \"u8darts[all]\" (with pip);or \"u8darts-all\" (with conda).\n",
      "WARNING:darts.models:Support for Facebook Prophet is not available. To enable it, install \"darts\", \"u8darts[prophet]\" or \"u8darts[all]\" (with pip);or \"u8darts-all\" (with conda).\n"
     ]
    },
    {
     "name": "stdout",
     "output_type": "stream",
     "text": [
      "\n",
      "Loading local PL model...\n",
      "Loading model from local directory:C:\\Users\\spele\\AppData\\Local\\Temp\\tmpzxegz2tj\\pyfunc_model\\data\\8a57f021adee4ca991895a244e2e094e\n"
     ]
    },
    {
     "name": "stderr",
     "output_type": "stream",
     "text": [
      "[2022-05-17 20:12:51,377] INFO | darts.models.forecasting.torch_forecasting_model | loading best-epoch=1-val_loss=0.24.ckpt\n",
      "[2022-05-17 20:12:51,377] INFO | darts.models.forecasting.torch_forecasting_model | loading best-epoch=1-val_loss=0.24.ckpt\n",
      "INFO:darts.models.forecasting.torch_forecasting_model:loading best-epoch=1-val_loss=0.24.ckpt\n"
     ]
    }
   ],
   "source": [
    "loaded_model = mlflow.pyfunc.load_model(\n",
    "    \"s3://mlflow-bucket/1/8a57f021adee4ca991895a244e2e094e/artifacts/pyfunc_model/\")"
   ]
  },
  {
   "cell_type": "code",
   "execution_count": null,
   "metadata": {},
   "outputs": [],
   "source": []
  }
 ],
 "metadata": {
  "interpreter": {
   "hash": "9c9714290acf096fe60510a5ba6a0e6a6d85876986dfd7ac3781be19671a8070"
  },
  "kernelspec": {
   "display_name": "Python 3.9.7 ('base')",
   "language": "python",
   "name": "python3"
  },
  "language_info": {
   "codemirror_mode": {
    "name": "ipython",
    "version": 3
   },
   "file_extension": ".py",
   "mimetype": "text/x-python",
   "name": "python",
   "nbconvert_exporter": "python",
   "pygments_lexer": "ipython3",
   "version": "3.9.7"
  },
  "orig_nbformat": 4
 },
 "nbformat": 4,
 "nbformat_minor": 2
}
