{
 "cells": [
  {
   "cell_type": "markdown",
   "id": "65f74c0b-e3b1-467d-92b6-28bc9baa1552",
   "metadata": {},
   "source": [
    "# Imports"
   ]
  },
  {
   "cell_type": "code",
   "execution_count": 1,
   "id": "3e1b6af9-28e6-418d-acb7-cb7298e78a19",
   "metadata": {},
   "outputs": [
    {
     "name": "stdout",
     "output_type": "stream",
     "text": [
      "environ({'ACSVCPORT': '17532', 'ALLUSERSPROFILE': 'C:\\\\ProgramData', 'APPDATA': 'C:\\\\Users\\\\spele\\\\AppData\\\\Roaming', 'APPLICATION_INSIGHTS_NO_DIAGNOSTIC_CHANNEL': '1', 'AWS_ACCESS_KEY_ID': 'accessminio', 'AWS_SECRET_ACCESS_KEY': 'secretminio', 'CHROME_CRASHPAD_PIPE_NAME': '\\\\\\\\.\\\\pipe\\\\crashpad_22708_OWTFDRASDWKWDRTS', 'COMMONPROGRAMFILES': 'C:\\\\Program Files\\\\Common Files', 'COMMONPROGRAMFILES(X86)': 'C:\\\\Program Files (x86)\\\\Common Files', 'COMMONPROGRAMW6432': 'C:\\\\Program Files\\\\Common Files', 'COMPUTERNAME': 'SOTIRIS-TUF', 'COMSPEC': 'C:\\\\WINDOWS\\\\system32\\\\cmd.exe', 'CONDA_DEFAULT_ENV': 'darts_38', 'CONDA_EXE': 'C:\\\\Users\\\\spele\\\\miniconda3\\\\Scripts\\\\conda.exe', 'CONDA_PREFIX': 'C:\\\\Users\\\\spele\\\\miniconda3\\\\envs\\\\darts_38', 'CONDA_PREFIX_1': 'C:\\\\Users\\\\spele\\\\miniconda3', 'CONDA_PROMPT_MODIFIER': '(darts_38) ', 'CONDA_PYTHON_EXE': 'C:\\\\Users\\\\spele\\\\miniconda3\\\\python.exe', 'CONDA_SHLVL': '2', 'CUDA_PATH': 'C:\\\\Program Files\\\\NVIDIA GPU Computing Toolkit\\\\CUDA\\\\v11.0', 'CUDA_PATH_V11_0': 'C:\\\\Program Files\\\\NVIDIA GPU Computing Toolkit\\\\CUDA\\\\v11.0', 'DRIVERDATA': 'C:\\\\Windows\\\\System32\\\\Drivers\\\\DriverData', 'ELECTRON_RUN_AS_NODE': '1', 'GIT_LFS_PATH': 'C:\\\\Program Files\\\\Git LFS', 'HOMEDRIVE': 'C:', 'HOMEPATH': '\\\\Users\\\\spele', 'JPY_INTERRUPT_EVENT': '3076', 'LOCALAPPDATA': 'C:\\\\Users\\\\spele\\\\AppData\\\\Local', 'LOGONSERVER': '\\\\\\\\SOTIRIS-TUF', 'MLFLOW_S3_ENDPOINT_URL': 'http://131.154.97.48:9000', 'MLFLOW_TRACKING_URI': 'http://131.154.97.48:5000', 'NUMBER_OF_PROCESSORS': '16', 'NVCUDASAMPLES11_0_ROOT': 'C:\\\\ProgramData\\\\NVIDIA Corporation\\\\CUDA Samples\\\\v11.0', 'NVCUDASAMPLES_ROOT': 'C:\\\\ProgramData\\\\NVIDIA Corporation\\\\CUDA Samples\\\\v11.0', 'NVTOOLSEXT_PATH': 'C:\\\\Program Files\\\\NVIDIA Corporation\\\\NvToolsExt\\\\', 'ONEDRIVE': 'C:\\\\Users\\\\spele\\\\OneDrive - EPU-NTUA', 'ONEDRIVECOMMERCIAL': 'C:\\\\Users\\\\spele\\\\OneDrive - EPU-NTUA', 'ONEDRIVECONSUMER': 'C:\\\\Users\\\\spele\\\\OneDrive', 'ORIGINAL_XDG_CURRENT_DESKTOP': 'undefined', 'OS': 'Windows_NT', 'PATH': 'c:\\\\Users\\\\spele\\\\Miniconda3\\\\envs\\\\darts_38;C:\\\\Users\\\\spele\\\\miniconda3\\\\envs\\\\darts_38;C:\\\\Users\\\\spele\\\\miniconda3\\\\envs\\\\darts_38\\\\Library\\\\mingw-w64\\\\bin;C:\\\\Users\\\\spele\\\\miniconda3\\\\envs\\\\darts_38\\\\Library\\\\usr\\\\bin;C:\\\\Users\\\\spele\\\\miniconda3\\\\envs\\\\darts_38\\\\Library\\\\bin;C:\\\\Users\\\\spele\\\\miniconda3\\\\envs\\\\darts_38\\\\Scripts;C:\\\\Users\\\\spele\\\\miniconda3\\\\envs\\\\darts_38\\\\bin;C:\\\\Users\\\\spele\\\\miniconda3\\\\condabin;C:\\\\Program Files (x86)\\\\Razer Chroma SDK\\\\bin;C:\\\\Program Files\\\\Razer Chroma SDK\\\\bin;C:\\\\Program Files (x86)\\\\Razer\\\\ChromaBroadcast\\\\bin;C:\\\\Program Files\\\\Razer\\\\ChromaBroadcast\\\\bin;C:\\\\Program Files\\\\VMware\\\\VMware Player\\\\bin;C:\\\\Program Files\\\\Common Files\\\\Oracle\\\\Java\\\\javapath;C:\\\\Program Files\\\\NVIDIA GPU Computing Toolkit\\\\CUDA\\\\v11.0\\\\bin;C:\\\\Program Files\\\\NVIDIA GPU Computing Toolkit\\\\CUDA\\\\v11.0\\\\libnvvp;C:\\\\Windows\\\\system32;C:\\\\Windows;C:\\\\Windows\\\\System32\\\\Wbem;C:\\\\Windows\\\\System32\\\\WindowsPowerShell\\\\v1.0;C:\\\\Windows\\\\System32\\\\OpenSSH;C:\\\\Program Files (x86)\\\\NVIDIA Corporation\\\\PhysX\\\\Common;C:\\\\Program Files\\\\NVIDIA Corporation\\\\NVIDIA NvDLISR;C:\\\\Program Files\\\\NVIDIA Corporation\\\\Nsight Compute 2020.1.2;C:\\\\Program Files\\\\OpenVPN\\\\bin;C:\\\\WINDOWS\\\\system32;C:\\\\WINDOWS;C:\\\\WINDOWS\\\\System32\\\\Wbem;C:\\\\WINDOWS\\\\System32\\\\WindowsPowerShell\\\\v1.0;C:\\\\WINDOWS\\\\System32\\\\OpenSSH;C:\\\\Program Files\\\\Oracle\\\\VirtualBox;C:\\\\Program Files\\\\Git\\\\cmd;C:\\\\Program Files\\\\Git LFS;C:\\\\Program Files\\\\Docker\\\\Docker\\\\resources\\\\bin;C:\\\\ProgramData\\\\DockerDesktop\\\\version-bin;C:\\\\Program Files\\\\CMake\\\\bin;C:\\\\Users\\\\spele\\\\miniconda3;C:\\\\Users\\\\spele\\\\miniconda3\\\\Library\\\\mingw-w64\\\\bin;C:\\\\Users\\\\spele\\\\miniconda3\\\\Library\\\\usr\\\\bin;C:\\\\Users\\\\spele\\\\miniconda3\\\\Library\\\\bin;C:\\\\Users\\\\spele\\\\miniconda3\\\\Scripts;C:\\\\Users\\\\spele\\\\AppData\\\\Local\\\\Programs\\\\Python\\\\Python39\\\\Scripts;C:\\\\Users\\\\spele\\\\AppData\\\\Local\\\\Programs\\\\Python\\\\Python39;C:\\\\Users\\\\spele\\\\AppData\\\\Local\\\\Programs\\\\Python\\\\Python38\\\\Scripts;C:\\\\Users\\\\spele\\\\AppData\\\\Local\\\\Programs\\\\Python\\\\Python38;C:\\\\Users\\\\spele\\\\AppData\\\\Local\\\\Microsoft\\\\WindowsApps;C:\\\\Program Files\\\\JetBrains\\\\PyCharm 2020.2.2\\\\bin;C:\\\\Users\\\\spele\\\\AppData\\\\Local\\\\atom\\\\bin;C:\\\\Users\\\\spele\\\\AppData\\\\Local\\\\Programs\\\\EmEditor;C:\\\\Users\\\\spele\\\\AppData\\\\Local\\\\Programs\\\\Microsoft VS Code\\\\bin;C:\\\\Users\\\\spele\\\\AppData\\\\Local\\\\Programs\\\\MiKTeX\\\\miktex\\\\bin\\\\x64;C:\\\\Users\\\\spele\\\\AppData\\\\Roaming\\\\TinyTeX\\\\bin\\\\win32;C:\\\\Ubuntu\\\\Dev\\\\Windows\\\\Simulators\\\\browser_drivers;C:\\\\Users\\\\spele\\\\cmder;C:\\\\WINDOWS\\\\system32;C:\\\\WINDOWS;C:\\\\WINDOWS\\\\System32\\\\Wbem;C:\\\\WINDOWS\\\\System32\\\\WindowsPowerShell\\\\v1.0;C:\\\\WINDOWS\\\\System32\\\\OpenSSH;C:\\\\WINDOWS\\\\system32\\\\config\\\\systemprofile\\\\AppData\\\\Local\\\\Microsoft\\\\WindowsApps;C:\\\\Users\\\\spele\\\\miniconda3;C:\\\\Users\\\\spele\\\\miniconda3\\\\Library\\\\mingw-w64\\\\bin;C:\\\\Users\\\\spele\\\\miniconda3\\\\Library\\\\usr\\\\bin;C:\\\\Users\\\\spele\\\\miniconda3\\\\Library\\\\bin;C:\\\\Users\\\\spele\\\\miniconda3\\\\Scripts;C:\\\\Users\\\\spele\\\\AppData\\\\Local\\\\Programs\\\\Python\\\\Python39\\\\Scripts;C:\\\\Users\\\\spele\\\\AppData\\\\Local\\\\Programs\\\\Python\\\\Python39;C:\\\\Users\\\\spele\\\\AppData\\\\Local\\\\Programs\\\\Python\\\\Python38\\\\Scripts;C:\\\\Users\\\\spele\\\\AppData\\\\Local\\\\Programs\\\\Python\\\\Python38;C:\\\\Users\\\\spele\\\\AppData\\\\Local\\\\Microsoft\\\\WindowsApps;C:\\\\Program Files\\\\JetBrains\\\\PyCharm 2020.2.2\\\\bin;C:\\\\Users\\\\spele\\\\AppData\\\\Local\\\\atom\\\\bin;C:\\\\Users\\\\spele\\\\AppData\\\\Local\\\\Programs\\\\EmEditor;C:\\\\Users\\\\spele\\\\AppData\\\\Local\\\\Programs\\\\Microsoft VS Code\\\\bin;C:\\\\Users\\\\spele\\\\AppData\\\\Local\\\\Programs\\\\MiKTeX\\\\miktex\\\\bin\\\\x64;C:\\\\Users\\\\spele\\\\AppData\\\\Roaming\\\\TinyTeX\\\\bin\\\\win32;C:\\\\Users\\\\spele\\\\AppData\\\\Local\\\\Microsoft\\\\WindowsApps;C:\\\\Ubuntu\\\\Dev\\\\Windows\\\\Simulators\\\\browser_drivers;C:\\\\Users\\\\spele\\\\cmder;.', 'PATHEXT': '.COM;.EXE;.BAT;.CMD;.VBS;.VBE;.JS;.JSE;.WSF;.WSH;.MSC', 'PROCESSOR_ARCHITECTURE': 'AMD64', 'PROCESSOR_IDENTIFIER': 'AMD64 Family 23 Model 96 Stepping 1, AuthenticAMD', 'PROCESSOR_LEVEL': '23', 'PROCESSOR_REVISION': '6001', 'PROGRAMDATA': 'C:\\\\ProgramData', 'PROGRAMFILES': 'C:\\\\Program Files', 'PROGRAMFILES(X86)': 'C:\\\\Program Files (x86)', 'PROGRAMW6432': 'C:\\\\Program Files', 'PROMPT': '(darts_38) $P$G', 'PSMODULEPATH': 'C:\\\\Program Files\\\\WindowsPowerShell\\\\Modules;C:\\\\WINDOWS\\\\system32\\\\WindowsPowerShell\\\\v1.0\\\\Modules', 'PUBLIC': 'C:\\\\Users\\\\Public', 'PYCHARM': 'C:\\\\Program Files\\\\JetBrains\\\\PyCharm 2020.2.2\\\\bin;', 'PYTHONIOENCODING': 'utf-8', 'PYTHONUNBUFFERED': '1', 'RLSSVCPORT': '22112', 'RTOOLS40_HOME': 'C:\\\\RBuildTools\\\\4.0', 'R_LIBS_USER': 'C:\\\\Users\\\\spele\\\\Rpackages', 'SESSIONNAME': 'Console', 'SYSTEMDRIVE': 'C:', 'SYSTEMROOT': 'C:\\\\WINDOWS', 'TEMP': 'C:\\\\Users\\\\spele\\\\AppData\\\\Local\\\\Temp', 'TMP': 'C:\\\\Users\\\\spele\\\\AppData\\\\Local\\\\Temp', 'USERDOMAIN': 'SOTIRIS-TUF', 'USERDOMAIN_ROAMINGPROFILE': 'SOTIRIS-TUF', 'USERNAME': 'spele', 'USERPROFILE': 'C:\\\\Users\\\\spele', 'VBOX_MSI_INSTALL_PATH': 'C:\\\\Program Files\\\\Oracle\\\\VirtualBox\\\\', 'VSCODE_AMD_ENTRYPOINT': 'vs/workbench/api/node/extensionHostProcess', 'VSCODE_CODE_CACHE_PATH': 'C:\\\\Users\\\\spele\\\\AppData\\\\Roaming\\\\Code\\\\CachedData\\\\74b1f979648cc44d385a2286793c226e611f59e7', 'VSCODE_CWD': 'C:\\\\Users\\\\spele\\\\AppData\\\\Local\\\\Programs\\\\Microsoft VS Code', 'VSCODE_HANDLES_UNCAUGHT_ERRORS': 'true', 'VSCODE_IPC_HOOK': '\\\\\\\\.\\\\pipe\\\\d73734f740333ce89a41917ebbf59cb9-1.71.2-main-sock', 'VSCODE_NLS_CONFIG': '{\"locale\":\"en-us\",\"availableLanguages\":{},\"_languagePackSupport\":true}', 'VSCODE_PID': '22708', 'WINDIR': 'C:\\\\WINDOWS', 'PYDEVD_USE_FRAME_EVAL': 'NO', 'TERM': 'xterm-color', 'CLICOLOR': '1', 'PAGER': 'cat', 'GIT_PAGER': 'cat', 'MPLBACKEND': 'module://matplotlib_inline.backend_inline', 'PYDEVD_IPYTHON_COMPATIBLE_DEBUGGING': '1'})\n"
     ]
    }
   ],
   "source": [
    "import mlflow\n",
    "import os \n",
    "\n",
    "from dotenv import load_dotenv\n",
    "load_dotenv()\n",
    "print(os.environ)"
   ]
  },
  {
   "cell_type": "markdown",
   "id": "87dcea0b-9363-44a1-8300-5c59847a7f6a",
   "metadata": {},
   "source": [
    "# Set evaluation parameters (user input)"
   ]
  },
  {
   "cell_type": "markdown",
   "id": "acdeca10-ddf1-4fb0-b05b-ea9492fa97c3",
   "metadata": {},
   "source": [
    "### Required"
   ]
  },
  {
   "cell_type": "code",
   "execution_count": 23,
   "id": "ca4dfa23-2ffd-4021-9951-2a5495fc62c5",
   "metadata": {},
   "outputs": [],
   "source": [
    "# select the run that produced the model to be evaluated\n",
    "model_run_id = \"4d7507f55c6f485d81cff4eb739f0bdb\"\n",
    "forecast_horizon = 96 #timesteps ahead horizon for evaluation "
   ]
  },
  {
   "cell_type": "markdown",
   "id": "ec290909-6492-4bde-b705-0ac2fb1751a4",
   "metadata": {},
   "source": [
    "### Optional"
   ]
  },
  {
   "cell_type": "code",
   "execution_count": 24,
   "id": "4d400a0a-f81e-45dd-bf6c-8abee963938d",
   "metadata": {},
   "outputs": [],
   "source": [
    "test_start = None # int: YYYYMMDD | the start date of the test set | if not defined then it gets the first of the test set as defined in the split of the training step\n",
    "test_end = None # int: YYYYMMDD | the end date of the test set | if not defined then it gets the last date of the dataset\n",
    "stride = None # int | jump length at every backtest iteration\n",
    "series_uri = None # str: csv uri |in case you need to evaluate the model on a new time series "
   ]
  },
  {
   "cell_type": "markdown",
   "id": "8af60993-8917-4f38-b89a-3e2c1a4b724c",
   "metadata": {},
   "source": [
    "## Render parameters (auto)"
   ]
  },
  {
   "cell_type": "code",
   "execution_count": 25,
   "id": "a4f35a27-a675-4614-bb46-5fa26dacefbe",
   "metadata": {},
   "outputs": [],
   "source": [
    "run = mlflow.get_run(model_run_id)\n",
    "    \n",
    "params = {\n",
    "    \"series_uri\": run.data.tags[\"series_uri\"] if series_uri is None else series_uri,\n",
    "    \"scaler_uri\": run.data.tags[\"scaler_uri\"],\n",
    "    \"cut_date_test\": run.data.params[\"cut_date_test\"] if test_start is None else test_start,\n",
    "    \"test_end_date\": run.data.params[\"test_end_date\"] if test_start is None else test_end,\n",
    "    \"model_uri\": run.data.tags[\"model_uri\"],\n",
    "    \"model_type\": run.data.tags[\"model_type\"],\n",
    "    \"forecast_horizon\": forecast_horizon,\n",
    "    \"stride\": stride,\n",
    "     }\n"
   ]
  },
  {
   "cell_type": "markdown",
   "id": "e4204592-44d4-4a22-bc5c-4a55d7976c61",
   "metadata": {},
   "source": [
    "# Run evaluator\n",
    "Does not run in vscode but works in jupyter lab for some reason..."
   ]
  },
  {
   "cell_type": "code",
   "execution_count": 26,
   "id": "3aecbc17-d025-4fce-b230-b6f91e424609",
   "metadata": {},
   "outputs": [
    {
     "ename": "ExecutionException",
     "evalue": "Run (ID 'c2a988a4dfcc49f9ac17554fac6d6e52') failed",
     "output_type": "error",
     "traceback": [
      "\u001b[1;31m---------------------------------------------------------------------------\u001b[0m",
      "\u001b[1;31mExecutionException\u001b[0m                        Traceback (most recent call last)",
      "\u001b[1;32mc:\\Ubuntu\\Dev\\Windows\\I-NERGY\\energy-forecasting-new\\PILOT1_RDN\\model_evaluation.ipynb Cell 11\u001b[0m in \u001b[0;36m<cell line: 3>\u001b[1;34m()\u001b[0m\n\u001b[0;32m      <a href='vscode-notebook-cell:/c%3A/Ubuntu/Dev/Windows/I-NERGY/energy-forecasting-new/PILOT1_RDN/model_evaluation.ipynb#X13sZmlsZQ%3D%3D?line=0'>1</a>\u001b[0m \u001b[39mimport\u001b[39;00m \u001b[39mmlflow\u001b[39;00m\n\u001b[1;32m----> <a href='vscode-notebook-cell:/c%3A/Ubuntu/Dev/Windows/I-NERGY/energy-forecasting-new/PILOT1_RDN/model_evaluation.ipynb#X13sZmlsZQ%3D%3D?line=2'>3</a>\u001b[0m evaluation_run \u001b[39m=\u001b[39m mlflow\u001b[39m.\u001b[39;49mprojects\u001b[39m.\u001b[39;49mrun(\n\u001b[0;32m      <a href='vscode-notebook-cell:/c%3A/Ubuntu/Dev/Windows/I-NERGY/energy-forecasting-new/PILOT1_RDN/model_evaluation.ipynb#X13sZmlsZQ%3D%3D?line=3'>4</a>\u001b[0m         uri\u001b[39m=\u001b[39;49m\u001b[39m\"\u001b[39;49m\u001b[39m.\u001b[39;49m\u001b[39m\"\u001b[39;49m,\n\u001b[0;32m      <a href='vscode-notebook-cell:/c%3A/Ubuntu/Dev/Windows/I-NERGY/energy-forecasting-new/PILOT1_RDN/model_evaluation.ipynb#X13sZmlsZQ%3D%3D?line=4'>5</a>\u001b[0m         experiment_name\u001b[39m=\u001b[39;49m\u001b[39m\"\u001b[39;49m\u001b[39mtrash\u001b[39;49m\u001b[39m\"\u001b[39;49m,\n\u001b[0;32m      <a href='vscode-notebook-cell:/c%3A/Ubuntu/Dev/Windows/I-NERGY/energy-forecasting-new/PILOT1_RDN/model_evaluation.ipynb#X13sZmlsZQ%3D%3D?line=5'>6</a>\u001b[0m         entry_point\u001b[39m=\u001b[39;49m\u001b[39m\"\u001b[39;49m\u001b[39meval\u001b[39;49m\u001b[39m\"\u001b[39;49m,\n\u001b[0;32m      <a href='vscode-notebook-cell:/c%3A/Ubuntu/Dev/Windows/I-NERGY/energy-forecasting-new/PILOT1_RDN/model_evaluation.ipynb#X13sZmlsZQ%3D%3D?line=6'>7</a>\u001b[0m         parameters\u001b[39m=\u001b[39;49mparams,\n\u001b[0;32m      <a href='vscode-notebook-cell:/c%3A/Ubuntu/Dev/Windows/I-NERGY/energy-forecasting-new/PILOT1_RDN/model_evaluation.ipynb#X13sZmlsZQ%3D%3D?line=7'>8</a>\u001b[0m         env_manager\u001b[39m=\u001b[39;49m\u001b[39m\"\u001b[39;49m\u001b[39mlocal\u001b[39;49m\u001b[39m\"\u001b[39;49m\n\u001b[0;32m      <a href='vscode-notebook-cell:/c%3A/Ubuntu/Dev/Windows/I-NERGY/energy-forecasting-new/PILOT1_RDN/model_evaluation.ipynb#X13sZmlsZQ%3D%3D?line=8'>9</a>\u001b[0m         )\n",
      "File \u001b[1;32mc:\\Users\\spele\\Miniconda3\\envs\\darts_38\\lib\\site-packages\\mlflow\\projects\\__init__.py:346\u001b[0m, in \u001b[0;36mrun\u001b[1;34m(uri, entry_point, version, parameters, docker_args, experiment_name, experiment_id, backend, backend_config, use_conda, storage_dir, synchronous, run_id, run_name, env_manager)\u001b[0m\n\u001b[0;32m    331\u001b[0m submitted_run_obj \u001b[39m=\u001b[39m _run(\n\u001b[0;32m    332\u001b[0m     uri\u001b[39m=\u001b[39muri,\n\u001b[0;32m    333\u001b[0m     experiment_id\u001b[39m=\u001b[39mexperiment_id,\n\u001b[1;32m   (...)\u001b[0m\n\u001b[0;32m    343\u001b[0m     run_name\u001b[39m=\u001b[39mrun_name,\n\u001b[0;32m    344\u001b[0m )\n\u001b[0;32m    345\u001b[0m \u001b[39mif\u001b[39;00m synchronous:\n\u001b[1;32m--> 346\u001b[0m     _wait_for(submitted_run_obj)\n\u001b[0;32m    347\u001b[0m \u001b[39mreturn\u001b[39;00m submitted_run_obj\n",
      "File \u001b[1;32mc:\\Users\\spele\\Miniconda3\\envs\\darts_38\\lib\\site-packages\\mlflow\\projects\\__init__.py:363\u001b[0m, in \u001b[0;36m_wait_for\u001b[1;34m(submitted_run_obj)\u001b[0m\n\u001b[0;32m    361\u001b[0m     \u001b[39melse\u001b[39;00m:\n\u001b[0;32m    362\u001b[0m         _maybe_set_run_terminated(active_run, \u001b[39m\"\u001b[39m\u001b[39mFAILED\u001b[39m\u001b[39m\"\u001b[39m)\n\u001b[1;32m--> 363\u001b[0m         \u001b[39mraise\u001b[39;00m ExecutionException(\u001b[39m\"\u001b[39m\u001b[39mRun (ID \u001b[39m\u001b[39m'\u001b[39m\u001b[39m%s\u001b[39;00m\u001b[39m'\u001b[39m\u001b[39m) failed\u001b[39m\u001b[39m\"\u001b[39m \u001b[39m%\u001b[39m run_id)\n\u001b[0;32m    364\u001b[0m \u001b[39mexcept\u001b[39;00m \u001b[39mKeyboardInterrupt\u001b[39;00m:\n\u001b[0;32m    365\u001b[0m     _logger\u001b[39m.\u001b[39merror(\u001b[39m\"\u001b[39m\u001b[39m=== Run (ID \u001b[39m\u001b[39m'\u001b[39m\u001b[39m%s\u001b[39;00m\u001b[39m'\u001b[39m\u001b[39m) interrupted, cancelling run ===\u001b[39m\u001b[39m\"\u001b[39m, run_id)\n",
      "\u001b[1;31mExecutionException\u001b[0m: Run (ID 'c2a988a4dfcc49f9ac17554fac6d6e52') failed"
     ]
    }
   ],
   "source": [
    "%%capture output.txt\n",
    "import mlflow\n",
    "\n",
    "evaluation_run = mlflow.projects.run(\n",
    "        uri=\".\",\n",
    "        experiment_name=\"trash\",\n",
    "        entry_point=\"eval\",\n",
    "        parameters=params,\n",
    "        env_manager=\"local\"\n",
    "        )"
   ]
  },
  {
   "cell_type": "markdown",
   "id": "ede7e590-379c-4ead-943e-c6e7cb5849e2",
   "metadata": {
    "tags": []
   },
   "source": [
    "# Show metrics"
   ]
  },
  {
   "cell_type": "code",
   "execution_count": null,
   "id": "c058b983-d931-49fb-b31e-764680fca015",
   "metadata": {},
   "outputs": [
    {
     "name": "stdout",
     "output_type": "stream",
     "text": [
      "Evaluation metrics:\n",
      "\n",
      "{}\n",
      "\n",
      "\n",
      "For more information on evaluation results follow the link to MLflow server:\n",
      "\n",
      "http://131.154.97.48:5000/#/experiments/1/runs/6597a8721be74f52b0e37034ec347e0e/\n"
     ]
    }
   ],
   "source": [
    "eval_run = mlflow.get_run(evaluation_run.run_id)\n",
    "import pprint \n",
    "pp = pprint.PrettyPrinter(indent=2)\n",
    "\n",
    "print(\"Evaluation metrics:\\n\")\n",
    "pp.pprint(eval_run.data.metrics)\n",
    "\n",
    "print(\"\\n\\nFor more information on evaluation results follow the link to MLflow server:\\n\")\n",
    "print(f'{mlflow.get_tracking_uri()}/#/experiments/{eval_run.info.experiment_id}/runs/{eval_run.info.run_id}/')"
   ]
  }
 ],
 "metadata": {
  "kernelspec": {
   "display_name": "Python 3.8.13 ('darts_38')",
   "language": "python",
   "name": "python3"
  },
  "language_info": {
   "codemirror_mode": {
    "name": "ipython",
    "version": 3
   },
   "file_extension": ".py",
   "mimetype": "text/x-python",
   "name": "python",
   "nbconvert_exporter": "python",
   "pygments_lexer": "ipython3",
   "version": "3.8.13"
  },
  "vscode": {
   "interpreter": {
    "hash": "658e5086fb77f57f7aa70d8154f4312fcf4c61771cb2ff83c452810e16620d28"
   }
  }
 },
 "nbformat": 4,
 "nbformat_minor": 5
}
