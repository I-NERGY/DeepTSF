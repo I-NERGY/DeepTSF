{
 "cells": [
  {
   "cell_type": "markdown",
   "metadata": {
    "tags": []
   },
   "source": [
    "# Initiate"
   ]
  },
  {
   "cell_type": "code",
   "execution_count": 1,
   "metadata": {},
   "outputs": [
    {
     "name": "stdout",
     "output_type": "stream",
     "text": [
      "environ({'ACSVCPORT': '17532', 'ALLUSERSPROFILE': 'C:\\\\ProgramData', 'APPDATA': 'C:\\\\Users\\\\spele\\\\AppData\\\\Roaming', 'APPLICATION_INSIGHTS_NO_DIAGNOSTIC_CHANNEL': '1', 'AWS_ACCESS_KEY_ID': 'accessminio', 'AWS_SECRET_ACCESS_KEY': 'secretminio', 'CHROME_CRASHPAD_PIPE_NAME': '\\\\\\\\.\\\\pipe\\\\crashpad_25616_BPWWGSYZDMZBKBCB', 'COMMONPROGRAMFILES': 'C:\\\\Program Files\\\\Common Files', 'COMMONPROGRAMFILES(X86)': 'C:\\\\Program Files (x86)\\\\Common Files', 'COMMONPROGRAMW6432': 'C:\\\\Program Files\\\\Common Files', 'COMPUTERNAME': 'SOTIRIS-TUF', 'COMSPEC': 'C:\\\\WINDOWS\\\\system32\\\\cmd.exe', 'CONDA_DEFAULT_ENV': 'darts_38', 'CONDA_EXE': 'C:\\\\Users\\\\spele\\\\miniconda3\\\\Scripts\\\\conda.exe', 'CONDA_PREFIX': 'C:\\\\Users\\\\spele\\\\miniconda3\\\\envs\\\\darts_38', 'CONDA_PREFIX_1': 'C:\\\\Users\\\\spele\\\\miniconda3', 'CONDA_PROMPT_MODIFIER': '(darts_38) ', 'CONDA_PYTHON_EXE': 'C:\\\\Users\\\\spele\\\\miniconda3\\\\python.exe', 'CONDA_SHLVL': '2', 'CUDA_PATH': 'C:\\\\Program Files\\\\NVIDIA GPU Computing Toolkit\\\\CUDA\\\\v11.0', 'CUDA_PATH_V11_0': 'C:\\\\Program Files\\\\NVIDIA GPU Computing Toolkit\\\\CUDA\\\\v11.0', 'DRIVERDATA': 'C:\\\\Windows\\\\System32\\\\Drivers\\\\DriverData', 'ELECTRON_RUN_AS_NODE': '1', 'GIT_LFS_PATH': 'C:\\\\Program Files\\\\Git LFS', 'HOMEDRIVE': 'C:', 'HOMEPATH': '\\\\Users\\\\spele', 'JPY_INTERRUPT_EVENT': '2276', 'LOCALAPPDATA': 'C:\\\\Users\\\\spele\\\\AppData\\\\Local', 'LOGONSERVER': '\\\\\\\\SOTIRIS-TUF', 'MLFLOW_S3_ENDPOINT_URL': 'http://131.154.97.48:9000', 'MLFLOW_TRACKING_URI': 'http://131.154.97.48:5000', 'NUMBER_OF_PROCESSORS': '16', 'NVCUDASAMPLES11_0_ROOT': 'C:\\\\ProgramData\\\\NVIDIA Corporation\\\\CUDA Samples\\\\v11.0', 'NVCUDASAMPLES_ROOT': 'C:\\\\ProgramData\\\\NVIDIA Corporation\\\\CUDA Samples\\\\v11.0', 'NVTOOLSEXT_PATH': 'C:\\\\Program Files\\\\NVIDIA Corporation\\\\NvToolsExt\\\\', 'ONEDRIVE': 'C:\\\\Users\\\\spele\\\\OneDrive - EPU-NTUA', 'ONEDRIVECOMMERCIAL': 'C:\\\\Users\\\\spele\\\\OneDrive - EPU-NTUA', 'ONEDRIVECONSUMER': 'C:\\\\Users\\\\spele\\\\OneDrive', 'ORIGINAL_XDG_CURRENT_DESKTOP': 'undefined', 'OS': 'Windows_NT', 'PATH': 'c:\\\\Users\\\\spele\\\\Miniconda3\\\\envs\\\\darts_38;C:\\\\Users\\\\spele\\\\miniconda3\\\\envs\\\\darts_38;C:\\\\Users\\\\spele\\\\miniconda3\\\\envs\\\\darts_38\\\\Library\\\\mingw-w64\\\\bin;C:\\\\Users\\\\spele\\\\miniconda3\\\\envs\\\\darts_38\\\\Library\\\\usr\\\\bin;C:\\\\Users\\\\spele\\\\miniconda3\\\\envs\\\\darts_38\\\\Library\\\\bin;C:\\\\Users\\\\spele\\\\miniconda3\\\\envs\\\\darts_38\\\\Scripts;C:\\\\Users\\\\spele\\\\miniconda3\\\\envs\\\\darts_38\\\\bin;C:\\\\Users\\\\spele\\\\miniconda3\\\\condabin;C:\\\\Program Files (x86)\\\\Razer Chroma SDK\\\\bin;C:\\\\Program Files\\\\Razer Chroma SDK\\\\bin;C:\\\\Program Files (x86)\\\\Razer\\\\ChromaBroadcast\\\\bin;C:\\\\Program Files\\\\Razer\\\\ChromaBroadcast\\\\bin;C:\\\\Program Files\\\\VMware\\\\VMware Player\\\\bin;C:\\\\Program Files\\\\Common Files\\\\Oracle\\\\Java\\\\javapath;C:\\\\Program Files\\\\NVIDIA GPU Computing Toolkit\\\\CUDA\\\\v11.0\\\\bin;C:\\\\Program Files\\\\NVIDIA GPU Computing Toolkit\\\\CUDA\\\\v11.0\\\\libnvvp;C:\\\\Windows\\\\system32;C:\\\\Windows;C:\\\\Windows\\\\System32\\\\Wbem;C:\\\\Windows\\\\System32\\\\WindowsPowerShell\\\\v1.0;C:\\\\Windows\\\\System32\\\\OpenSSH;C:\\\\Program Files (x86)\\\\NVIDIA Corporation\\\\PhysX\\\\Common;C:\\\\Program Files\\\\NVIDIA Corporation\\\\NVIDIA NvDLISR;C:\\\\Program Files\\\\NVIDIA Corporation\\\\Nsight Compute 2020.1.2;C:\\\\Program Files\\\\OpenVPN\\\\bin;C:\\\\WINDOWS\\\\system32;C:\\\\WINDOWS;C:\\\\WINDOWS\\\\System32\\\\Wbem;C:\\\\WINDOWS\\\\System32\\\\WindowsPowerShell\\\\v1.0;C:\\\\WINDOWS\\\\System32\\\\OpenSSH;C:\\\\Program Files\\\\Oracle\\\\VirtualBox;C:\\\\Program Files\\\\Git\\\\cmd;C:\\\\Program Files\\\\Git LFS;C:\\\\Program Files\\\\Docker\\\\Docker\\\\resources\\\\bin;C:\\\\ProgramData\\\\DockerDesktop\\\\version-bin;C:\\\\Program Files\\\\CMake\\\\bin;C:\\\\Users\\\\spele\\\\miniconda3;C:\\\\Users\\\\spele\\\\miniconda3\\\\Library\\\\mingw-w64\\\\bin;C:\\\\Users\\\\spele\\\\miniconda3\\\\Library\\\\usr\\\\bin;C:\\\\Users\\\\spele\\\\miniconda3\\\\Library\\\\bin;C:\\\\Users\\\\spele\\\\miniconda3\\\\Scripts;C:\\\\Users\\\\spele\\\\AppData\\\\Local\\\\Programs\\\\Python\\\\Python39\\\\Scripts;C:\\\\Users\\\\spele\\\\AppData\\\\Local\\\\Programs\\\\Python\\\\Python39;C:\\\\Users\\\\spele\\\\AppData\\\\Local\\\\Programs\\\\Python\\\\Python38\\\\Scripts;C:\\\\Users\\\\spele\\\\AppData\\\\Local\\\\Programs\\\\Python\\\\Python38;C:\\\\Users\\\\spele\\\\AppData\\\\Local\\\\Microsoft\\\\WindowsApps;C:\\\\Program Files\\\\JetBrains\\\\PyCharm 2020.2.2\\\\bin;C:\\\\Users\\\\spele\\\\AppData\\\\Local\\\\atom\\\\bin;C:\\\\Users\\\\spele\\\\AppData\\\\Local\\\\Programs\\\\EmEditor;C:\\\\Users\\\\spele\\\\AppData\\\\Local\\\\Programs\\\\Microsoft VS Code\\\\bin;C:\\\\Users\\\\spele\\\\AppData\\\\Local\\\\Programs\\\\MiKTeX\\\\miktex\\\\bin\\\\x64;C:\\\\Users\\\\spele\\\\AppData\\\\Roaming\\\\TinyTeX\\\\bin\\\\win32;C:\\\\Ubuntu\\\\Dev\\\\Windows\\\\Simulators\\\\browser_drivers;C:\\\\Users\\\\spele\\\\cmder;C:\\\\WINDOWS\\\\system32;C:\\\\WINDOWS;C:\\\\WINDOWS\\\\System32\\\\Wbem;C:\\\\WINDOWS\\\\System32\\\\WindowsPowerShell\\\\v1.0;C:\\\\WINDOWS\\\\System32\\\\OpenSSH;C:\\\\WINDOWS\\\\system32\\\\config\\\\systemprofile\\\\AppData\\\\Local\\\\Microsoft\\\\WindowsApps;C:\\\\Users\\\\spele\\\\miniconda3;C:\\\\Users\\\\spele\\\\miniconda3\\\\Library\\\\mingw-w64\\\\bin;C:\\\\Users\\\\spele\\\\miniconda3\\\\Library\\\\usr\\\\bin;C:\\\\Users\\\\spele\\\\miniconda3\\\\Library\\\\bin;C:\\\\Users\\\\spele\\\\miniconda3\\\\Scripts;C:\\\\Users\\\\spele\\\\AppData\\\\Local\\\\Programs\\\\Python\\\\Python39\\\\Scripts;C:\\\\Users\\\\spele\\\\AppData\\\\Local\\\\Programs\\\\Python\\\\Python39;C:\\\\Users\\\\spele\\\\AppData\\\\Local\\\\Programs\\\\Python\\\\Python38\\\\Scripts;C:\\\\Users\\\\spele\\\\AppData\\\\Local\\\\Programs\\\\Python\\\\Python38;C:\\\\Users\\\\spele\\\\AppData\\\\Local\\\\Microsoft\\\\WindowsApps;C:\\\\Program Files\\\\JetBrains\\\\PyCharm 2020.2.2\\\\bin;C:\\\\Users\\\\spele\\\\AppData\\\\Local\\\\atom\\\\bin;C:\\\\Users\\\\spele\\\\AppData\\\\Local\\\\Programs\\\\EmEditor;C:\\\\Users\\\\spele\\\\AppData\\\\Local\\\\Programs\\\\Microsoft VS Code\\\\bin;C:\\\\Users\\\\spele\\\\AppData\\\\Local\\\\Programs\\\\MiKTeX\\\\miktex\\\\bin\\\\x64;C:\\\\Users\\\\spele\\\\AppData\\\\Roaming\\\\TinyTeX\\\\bin\\\\win32;C:\\\\Users\\\\spele\\\\AppData\\\\Local\\\\Microsoft\\\\WindowsApps;C:\\\\Ubuntu\\\\Dev\\\\Windows\\\\Simulators\\\\browser_drivers;C:\\\\Users\\\\spele\\\\cmder;.', 'PATHEXT': '.COM;.EXE;.BAT;.CMD;.VBS;.VBE;.JS;.JSE;.WSF;.WSH;.MSC', 'PROCESSOR_ARCHITECTURE': 'AMD64', 'PROCESSOR_IDENTIFIER': 'AMD64 Family 23 Model 96 Stepping 1, AuthenticAMD', 'PROCESSOR_LEVEL': '23', 'PROCESSOR_REVISION': '6001', 'PROGRAMDATA': 'C:\\\\ProgramData', 'PROGRAMFILES': 'C:\\\\Program Files', 'PROGRAMFILES(X86)': 'C:\\\\Program Files (x86)', 'PROGRAMW6432': 'C:\\\\Program Files', 'PROMPT': '(darts_38) $P$G', 'PSMODULEPATH': 'C:\\\\Program Files\\\\WindowsPowerShell\\\\Modules;C:\\\\WINDOWS\\\\system32\\\\WindowsPowerShell\\\\v1.0\\\\Modules', 'PUBLIC': 'C:\\\\Users\\\\Public', 'PYCHARM': 'C:\\\\Program Files\\\\JetBrains\\\\PyCharm 2020.2.2\\\\bin;', 'PYTHONIOENCODING': 'utf-8', 'PYTHONUNBUFFERED': '1', 'RLSSVCPORT': '22112', 'RTOOLS40_HOME': 'C:\\\\RBuildTools\\\\4.0', 'R_LIBS_USER': 'C:\\\\Users\\\\spele\\\\Rpackages', 'SESSIONNAME': 'Console', 'SYSTEMDRIVE': 'C:', 'SYSTEMROOT': 'C:\\\\WINDOWS', 'TEMP': 'C:\\\\Users\\\\spele\\\\AppData\\\\Local\\\\Temp', 'TMP': 'C:\\\\Users\\\\spele\\\\AppData\\\\Local\\\\Temp', 'USERDOMAIN': 'SOTIRIS-TUF', 'USERDOMAIN_ROAMINGPROFILE': 'SOTIRIS-TUF', 'USERNAME': 'spele', 'USERPROFILE': 'C:\\\\Users\\\\spele', 'VBOX_MSI_INSTALL_PATH': 'C:\\\\Program Files\\\\Oracle\\\\VirtualBox\\\\', 'VSCODE_AMD_ENTRYPOINT': 'vs/workbench/api/node/extensionHostProcess', 'VSCODE_CODE_CACHE_PATH': 'C:\\\\Users\\\\spele\\\\AppData\\\\Roaming\\\\Code\\\\CachedData\\\\784b0177c56c607789f9638da7b6bf3230d47a8c', 'VSCODE_CWD': 'C:\\\\Users\\\\spele\\\\AppData\\\\Local\\\\Programs\\\\Microsoft VS Code', 'VSCODE_HANDLES_UNCAUGHT_ERRORS': 'true', 'VSCODE_IPC_HOOK': '\\\\\\\\.\\\\pipe\\\\d73734f740333ce89a41917ebbf59cb9-1.71.0-main-sock', 'VSCODE_NLS_CONFIG': '{\"locale\":\"en-us\",\"availableLanguages\":{},\"_languagePackSupport\":true}', 'VSCODE_PID': '25616', 'WINDIR': 'C:\\\\WINDOWS', 'PYDEVD_USE_FRAME_EVAL': 'NO', 'TERM': 'xterm-color', 'CLICOLOR': '1', 'PAGER': 'cat', 'GIT_PAGER': 'cat', 'MPLBACKEND': 'module://matplotlib_inline.backend_inline', 'PYDEVD_IPYTHON_COMPATIBLE_DEBUGGING': '1'})\n"
     ]
    }
   ],
   "source": [
    "import os\n",
    "import bentoml\n",
    "import mlflow\n",
    "import pretty_errors\n",
    "import darts\n",
    "\n",
    "from dotenv import load_dotenv\n",
    "load_dotenv()\n",
    "print(os.environ)"
   ]
  },
  {
   "cell_type": "markdown",
   "metadata": {},
   "source": [
    "# Load models as bentos"
   ]
  },
  {
   "cell_type": "code",
   "execution_count": 5,
   "metadata": {},
   "outputs": [
    {
     "name": "stderr",
     "output_type": "stream",
     "text": [
      "2022-09-20 16:02:43 bentoml._internal.tag WARNING: converting 'AIoD_Onboarding' to lowercase: 'aiod_onboarding'\n"
     ]
    },
    {
     "name": "stdout",
     "output_type": "stream",
     "text": [
      "Local path inside _load_pyfunc: C:\\Users\\spele\\bentoml\\models\\aiod_onboarding\\qqvsmmjy4s7wk4tg\\mlflow_model\\data/db64f6dbf2a745d9bd6ee8a52a178172\n",
      "Local path altered for loading: C:\\Users\\spele\\bentoml\\models\\aiod_onboarding\\qqvsmmjy4s7wk4tg\\mlflow_model\\data\\db64f6dbf2a745d9bd6ee8a52a178172\n",
      "C:\\Users\\spele\\bentoml\\models\\aiod_onboarding\\qqvsmmjy4s7wk4tg\\mlflow_model\\data\\db64f6dbf2a745d9bd6ee8a52a178172\n",
      "C:\\Users\\spele\\bentoml\\models\\aiod_onboarding\\qqvsmmjy4s7wk4tg\\mlflow_model\\data\\db64f6dbf2a745d9bd6ee8a52a178172\n",
      "\n",
      "Loading local PKL model...\n"
     ]
    }
   ],
   "source": [
    "# lgbm\n",
    "lgbm_model = bentoml.mlflow.import_model(\n",
    "    \"AIoD_Onboarding\", \"s3://mlflow-bucket/8/db64f6dbf2a745d9bd6ee8a52a178172/artifacts/pyfunc_model\", signatures={'predict': {'batchable': True}})\n",
    "bento_model_lgbm = bentoml.mlflow.get(lgbm_model.tag)\n",
    "pyfunc_model_lgbm: mlflow.pyfunc.PyFuncModel = bentoml.mlflow.load_model(\n",
    "    lgbm_model.tag)\n"
   ]
  },
  {
   "cell_type": "code",
   "execution_count": 8,
   "metadata": {},
   "outputs": [
    {
     "name": "stderr",
     "output_type": "stream",
     "text": [
      "2022-09-20 16:04:55 bentoml._internal.tag WARNING: converting 'AIoD_Onboarding' to lowercase: 'aiod_onboarding'\n",
      "2022-09-20 16:05:27 urllib3.connectionpool WARNING: Connection pool is full, discarding connection: 131.154.97.48. Connection pool size: 10\n",
      "2022-09-20 16:05:33 urllib3.connectionpool WARNING: Connection pool is full, discarding connection: 131.154.97.48. Connection pool size: 10\n"
     ]
    },
    {
     "name": "stdout",
     "output_type": "stream",
     "text": [
      "Local path inside _load_pyfunc: C:\\Users\\spele\\bentoml\\models\\aiod_onboarding\\2k2upajy4sorc4tg\\mlflow_model\\data\\bfab3e932a0f47e9b78cd6679be10a97\n",
      "Local path altered for loading: C:\\Users\\spele\\bentoml\\models\\aiod_onboarding\\2k2upajy4sorc4tg\\mlflow_model\\data\\bfab3e932a0f47e9b78cd6679be10a97\n",
      "C:\\Users\\spele\\bentoml\\models\\aiod_onboarding\\2k2upajy4sorc4tg\\mlflow_model\\data\\bfab3e932a0f47e9b78cd6679be10a97\n",
      "C:\\Users\\spele\\bentoml\\models\\aiod_onboarding\\2k2upajy4sorc4tg\\mlflow_model\\data\\bfab3e932a0f47e9b78cd6679be10a97\n",
      "\n",
      "Loading local PL model...\n",
      "Loading model from local directory:C:\\Users\\spele\\bentoml\\models\\aiod_onboarding\\2k2upajy4sorc4tg\\mlflow_model\\data\\bfab3e932a0f47e9b78cd6679be10a97\n"
     ]
    },
    {
     "name": "stderr",
     "output_type": "stream",
     "text": [
      "[2022-09-20 16:05:34,225] INFO | darts.models.forecasting.torch_forecasting_model | loading best-epoch=25-val_loss=0.00.ckpt\n",
      "[2022-09-20 16:05:34,225] INFO | darts.models.forecasting.torch_forecasting_model | loading best-epoch=25-val_loss=0.00.ckpt\n",
      "2022-09-20 16:05:34 darts.models.forecasting.torch_forecasting_model INFO: loading best-epoch=25-val_loss=0.00.ckpt\n"
     ]
    }
   ],
   "source": [
    "# nbeats\n",
    "nbeats_model = bentoml.mlflow.import_model(\"AIoD_Onboarding\", \"s3://mlflow-bucket/8/bfab3e932a0f47e9b78cd6679be10a97/artifacts/pyfunc_model\", signatures={'predict': {'batchable': True}})\n",
    "bento_model_nbeats = bentoml.mlflow.get(nbeats_model.tag)\n",
    "pyfunc_model_nbeats: mlflow.pyfunc.PyFuncModel = bentoml.mlflow.load_model(\n",
    "    nbeats_model.tag)\n"
   ]
  },
  {
   "cell_type": "markdown",
   "metadata": {},
   "source": [
    "# Predict"
   ]
  },
  {
   "cell_type": "markdown",
   "metadata": {},
   "source": [
    "## Nbeats"
   ]
  },
  {
   "cell_type": "code",
   "execution_count": 9,
   "metadata": {},
   "outputs": [
    {
     "name": "stdout",
     "output_type": "stream",
     "text": [
      "\n",
      "Downloading remote file of recent time series history...\n",
      "\n",
      "Transforming...\n"
     ]
    },
    {
     "name": "stderr",
     "output_type": "stream",
     "text": [
      "2022-09-20 16:06:14 pytorch_lightning.utilities.rank_zero INFO: GPU available: True, used: True\n",
      "2022-09-20 16:06:14 pytorch_lightning.utilities.rank_zero INFO: TPU available: False, using: 0 TPU cores\n",
      "2022-09-20 16:06:14 pytorch_lightning.utilities.rank_zero INFO: IPU available: False, using: 0 IPUs\n",
      "2022-09-20 16:06:14 pytorch_lightning.utilities.rank_zero INFO: HPU available: False, using: 0 HPUs\n",
      "2022-09-20 16:06:14 pytorch_lightning.accelerators.gpu INFO: LOCAL_RANK: 0 - CUDA_VISIBLE_DEVICES: [0]\n",
      "c:\\Users\\spele\\Miniconda3\\envs\\darts_38\\lib\\site-packages\\pytorch_lightning\\trainer\\connectors\\data_connector.py:240: PossibleUserWarning: The dataloader, predict_dataloader 0, does not have many workers which may be a bottleneck. Consider increasing the value of the `num_workers` argument` (try 16 which is the number of cpus on this machine) in the `DataLoader` init to improve performance.\n",
      "  rank_zero_warn(\n"
     ]
    },
    {
     "name": "stdout",
     "output_type": "stream",
     "text": [
      "Predicting DataLoader 0: 100%|██████████| 1/1 [00:07<00:00,  7.48s/it]\n",
      "\n",
      "Inverse transforming...\n",
      "component                   Load\n",
      "Date                            \n",
      "2020-12-31 00:00:00  6026.104980\n",
      "2020-12-31 00:15:00  5825.273438\n",
      "2020-12-31 00:30:00  5695.951660\n",
      "2020-12-31 00:45:00  5449.018066\n",
      "2020-12-31 01:00:00  5358.902832\n",
      "...                          ...\n",
      "2021-01-09 22:45:00  6601.779297\n",
      "2021-01-09 23:00:00  6515.579590\n",
      "2021-01-09 23:15:00  6455.880371\n",
      "2021-01-09 23:30:00  6221.229492\n",
      "2021-01-09 23:45:00  6101.158691\n",
      "\n",
      "[960 rows x 1 columns]\n"
     ]
    }
   ],
   "source": [
    "# input example\n",
    "input_example = {\n",
    "    \"n\": \"960\",\n",
    "    \"series_uri\": \"http://131.154.97.48:9000/mlflow-bucket/8/db64f6dbf2a745d9bd6ee8a52a178172/artifacts/features/series.csv\",\n",
    "    \"roll_size\": \"96\",\n",
    "    \"future_covariates_uri\": None,\n",
    "    \"past_covariates_uri\": None,\n",
    "    \"batch_size\": 128\n",
    "}\n",
    "predictions_nbeats = pyfunc_model_nbeats.predict(input_example)\n",
    "print(predictions_nbeats)"
   ]
  },
  {
   "cell_type": "markdown",
   "metadata": {},
   "source": [
    "## LGBM"
   ]
  },
  {
   "cell_type": "code",
   "execution_count": 6,
   "metadata": {},
   "outputs": [],
   "source": [
    "%%capture\n",
    "# input example\n",
    "input_example = {\n",
    "    \"n\": \"960\",\n",
    "    \"series_uri\": \"http://131.154.97.48:9000/mlflow-bucket/8/db64f6dbf2a745d9bd6ee8a52a178172/artifacts/features/series.csv\",\n",
    "    \"roll_size\": \"96\",\n",
    "    \"future_covariates_uri\": None,\n",
    "    \"past_covariates_uri\": None,\n",
    "    \"batch_size\": None\n",
    "}\n",
    "predictions_lgbm = pyfunc_model_lgbm.predict(input_example)"
   ]
  },
  {
   "cell_type": "code",
   "execution_count": 7,
   "metadata": {},
   "outputs": [
    {
     "name": "stdout",
     "output_type": "stream",
     "text": [
      "component                   Load\n",
      "Date                            \n",
      "2020-12-31 00:00:00  5906.696885\n",
      "2020-12-31 00:15:00  5754.369054\n",
      "2020-12-31 00:30:00  5615.329258\n",
      "2020-12-31 00:45:00  5468.195274\n",
      "2020-12-31 01:00:00  5345.867995\n",
      "...                          ...\n",
      "2021-01-09 22:45:00  5449.674531\n",
      "2021-01-09 23:00:00  5329.569758\n",
      "2021-01-09 23:15:00  5216.911456\n",
      "2021-01-09 23:30:00  5107.775320\n",
      "2021-01-09 23:45:00  5005.910881\n",
      "\n",
      "[960 rows x 1 columns]\n"
     ]
    }
   ],
   "source": [
    "print(predictions_lgbm)"
   ]
  }
 ],
 "metadata": {
  "kernelspec": {
   "display_name": "Python 3 (ipykernel)",
   "language": "python",
   "name": "python3"
  },
  "language_info": {
   "codemirror_mode": {
    "name": "ipython",
    "version": 3
   },
   "file_extension": ".py",
   "mimetype": "text/x-python",
   "name": "python",
   "nbconvert_exporter": "python",
   "pygments_lexer": "ipython3",
   "version": "3.8.13"
  },
  "vscode": {
   "interpreter": {
    "hash": "658e5086fb77f57f7aa70d8154f4312fcf4c61771cb2ff83c452810e16620d28"
   }
  }
 },
 "nbformat": 4,
 "nbformat_minor": 4
}
