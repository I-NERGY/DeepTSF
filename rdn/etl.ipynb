{
 "cells": [
  {
   "cell_type": "code",
   "execution_count": 2,
   "source": [
    "import pytz\r\n",
    "import plotly.express as px\r\n",
    "import seaborn as sns\r\n",
    "from datetime import datetime\r\n",
    "from heatmap import corrplot\r\n",
    "from datetime import timezone\r\n",
    "import pandas as pd\r\n",
    "import numpy as np\r\n",
    "import matplotlib.pyplot as plt\r\n",
    "import holidays\r\n",
    "%matplotlib inline"
   ],
   "outputs": [],
   "metadata": {}
  },
  {
   "cell_type": "markdown",
   "source": [
    "# Data loading"
   ],
   "metadata": {}
  },
  {
   "cell_type": "code",
   "execution_count": 3,
   "source": [
    "ts15 = pd.read_csv('../../RDN/Load Data (2018-2019)/INRG-load-series.csv', delimiter=',', header=0, index_col=0, parse_dates=True)\r\n",
    "ts15"
   ],
   "outputs": [
    {
     "output_type": "execute_result",
     "data": {
      "text/plain": [
       "                            Load\n",
       "Date                            \n",
       "2018-01-01 00:00:00  4689.365428\n",
       "2018-01-01 00:15:00  4653.100916\n",
       "2018-01-01 00:30:00  4617.549863\n",
       "2018-01-01 00:45:00  4595.858857\n",
       "2018-01-01 01:00:00  4574.072846\n",
       "...                          ...\n",
       "2019-12-31 22:45:00  5418.783371\n",
       "2019-12-31 23:00:00  5355.531827\n",
       "2019-12-31 23:15:00  5285.912722\n",
       "2019-12-31 23:30:00  5207.156101\n",
       "2019-12-31 23:45:00  5131.033152\n",
       "\n",
       "[70080 rows x 1 columns]"
      ],
      "text/html": [
       "<div>\n",
       "<style scoped>\n",
       "    .dataframe tbody tr th:only-of-type {\n",
       "        vertical-align: middle;\n",
       "    }\n",
       "\n",
       "    .dataframe tbody tr th {\n",
       "        vertical-align: top;\n",
       "    }\n",
       "\n",
       "    .dataframe thead th {\n",
       "        text-align: right;\n",
       "    }\n",
       "</style>\n",
       "<table border=\"1\" class=\"dataframe\">\n",
       "  <thead>\n",
       "    <tr style=\"text-align: right;\">\n",
       "      <th></th>\n",
       "      <th>Load</th>\n",
       "    </tr>\n",
       "    <tr>\n",
       "      <th>Date</th>\n",
       "      <th></th>\n",
       "    </tr>\n",
       "  </thead>\n",
       "  <tbody>\n",
       "    <tr>\n",
       "      <th>2018-01-01 00:00:00</th>\n",
       "      <td>4689.365428</td>\n",
       "    </tr>\n",
       "    <tr>\n",
       "      <th>2018-01-01 00:15:00</th>\n",
       "      <td>4653.100916</td>\n",
       "    </tr>\n",
       "    <tr>\n",
       "      <th>2018-01-01 00:30:00</th>\n",
       "      <td>4617.549863</td>\n",
       "    </tr>\n",
       "    <tr>\n",
       "      <th>2018-01-01 00:45:00</th>\n",
       "      <td>4595.858857</td>\n",
       "    </tr>\n",
       "    <tr>\n",
       "      <th>2018-01-01 01:00:00</th>\n",
       "      <td>4574.072846</td>\n",
       "    </tr>\n",
       "    <tr>\n",
       "      <th>...</th>\n",
       "      <td>...</td>\n",
       "    </tr>\n",
       "    <tr>\n",
       "      <th>2019-12-31 22:45:00</th>\n",
       "      <td>5418.783371</td>\n",
       "    </tr>\n",
       "    <tr>\n",
       "      <th>2019-12-31 23:00:00</th>\n",
       "      <td>5355.531827</td>\n",
       "    </tr>\n",
       "    <tr>\n",
       "      <th>2019-12-31 23:15:00</th>\n",
       "      <td>5285.912722</td>\n",
       "    </tr>\n",
       "    <tr>\n",
       "      <th>2019-12-31 23:30:00</th>\n",
       "      <td>5207.156101</td>\n",
       "    </tr>\n",
       "    <tr>\n",
       "      <th>2019-12-31 23:45:00</th>\n",
       "      <td>5131.033152</td>\n",
       "    </tr>\n",
       "  </tbody>\n",
       "</table>\n",
       "<p>70080 rows × 1 columns</p>\n",
       "</div>"
      ]
     },
     "metadata": {},
     "execution_count": 3
    }
   ],
   "metadata": {}
  },
  {
   "cell_type": "markdown",
   "source": [
    "# Check for invalid data\r\n",
    "No invalid data is detected"
   ],
   "metadata": {}
  },
  {
   "cell_type": "code",
   "execution_count": 4,
   "source": [
    "print(f\"NaNs count: {ts15.isnull().sum().item()}\")\r\n",
    "print(f\"Negative values count: {len(ts15)-ts15[ts15 < 0].isnull().sum().item()}\")\r\n",
    "print(f\"Duplicate indices count: {len(ts15[ts15.index.duplicated()])}\")"
   ],
   "outputs": [
    {
     "output_type": "stream",
     "name": "stdout",
     "text": [
      "NaNs count: 0\n",
      "Negative values count: 0\n",
      "Duplicate indices count: 0\n"
     ]
    }
   ],
   "metadata": {}
  },
  {
   "cell_type": "markdown",
   "source": [
    "# Resampling\r\n",
    "We create a new load only dataset and change its timestep 60min (hourly)."
   ],
   "metadata": {}
  },
  {
   "cell_type": "code",
   "execution_count": 5,
   "source": [
    "ts30 = ts15.resample('30T').sum()\r\n",
    "ts60 = ts15.resample('60T').sum()\r\n",
    "ts60.head()\r\n"
   ],
   "outputs": [
    {
     "output_type": "execute_result",
     "data": {
      "text/plain": [
       "                             Load\n",
       "Date                             \n",
       "2018-01-01 00:00:00  18555.875064\n",
       "2018-01-01 01:00:00  18001.483151\n",
       "2018-01-01 02:00:00  17017.792074\n",
       "2018-01-01 03:00:00  16187.432017\n",
       "2018-01-01 04:00:00  15621.660524"
      ],
      "text/html": [
       "<div>\n",
       "<style scoped>\n",
       "    .dataframe tbody tr th:only-of-type {\n",
       "        vertical-align: middle;\n",
       "    }\n",
       "\n",
       "    .dataframe tbody tr th {\n",
       "        vertical-align: top;\n",
       "    }\n",
       "\n",
       "    .dataframe thead th {\n",
       "        text-align: right;\n",
       "    }\n",
       "</style>\n",
       "<table border=\"1\" class=\"dataframe\">\n",
       "  <thead>\n",
       "    <tr style=\"text-align: right;\">\n",
       "      <th></th>\n",
       "      <th>Load</th>\n",
       "    </tr>\n",
       "    <tr>\n",
       "      <th>Date</th>\n",
       "      <th></th>\n",
       "    </tr>\n",
       "  </thead>\n",
       "  <tbody>\n",
       "    <tr>\n",
       "      <th>2018-01-01 00:00:00</th>\n",
       "      <td>18555.875064</td>\n",
       "    </tr>\n",
       "    <tr>\n",
       "      <th>2018-01-01 01:00:00</th>\n",
       "      <td>18001.483151</td>\n",
       "    </tr>\n",
       "    <tr>\n",
       "      <th>2018-01-01 02:00:00</th>\n",
       "      <td>17017.792074</td>\n",
       "    </tr>\n",
       "    <tr>\n",
       "      <th>2018-01-01 03:00:00</th>\n",
       "      <td>16187.432017</td>\n",
       "    </tr>\n",
       "    <tr>\n",
       "      <th>2018-01-01 04:00:00</th>\n",
       "      <td>15621.660524</td>\n",
       "    </tr>\n",
       "  </tbody>\n",
       "</table>\n",
       "</div>"
      ]
     },
     "metadata": {},
     "execution_count": 5
    }
   ],
   "metadata": {}
  },
  {
   "cell_type": "markdown",
   "source": [
    "We also store the result."
   ],
   "metadata": {}
  },
  {
   "cell_type": "code",
   "execution_count": 6,
   "source": [
    "ts60.to_csv('../../RDN/Load Data (2018-2019)/artifacts/load_60min.csv')\r\n",
    "ts15.to_csv('../../RDN/Load Data (2018-2019)/artifacts/load_15min.csv')\r\n",
    "# ts30.to_csv('../../RDN/Load Data (2018-2019)/artifacts/load_30min.csv')\r\n"
   ],
   "outputs": [],
   "metadata": {}
  },
  {
   "cell_type": "markdown",
   "source": [
    "# Calendar\r\n",
    "In this section a calendar is created containing auxiliary info for all unique dates that appear in the core dataset"
   ],
   "metadata": {}
  },
  {
   "cell_type": "code",
   "execution_count": 40,
   "source": [
    "local_tz = pytz.timezone('Europe/Lisbon')\r\n",
    "\r\n",
    "\r\n",
    "def isholiday(x, holiday_list):\r\n",
    "    if x in holiday_list:\r\n",
    "        return True\r\n",
    "    return False\r\n",
    "\r\n",
    "\r\n",
    "def isweekend(x):\r\n",
    "    if x == 6 or x == 0:\r\n",
    "        return True\r\n",
    "    return False\r\n",
    "\r\n",
    "\r\n",
    "def create_calendar(timestep_minutes, holiday_list):\r\n",
    "\r\n",
    "    unique_dates = {'15': ts15.index.tolist(),\r\n",
    "                    '30': ts30.index.tolist(),\r\n",
    "                    '60': ts60.index.tolist()}\r\n",
    "\r\n",
    "    calendar = pd.DataFrame(\r\n",
    "        unique_dates[str(timestep_minutes)],\r\n",
    "        columns=['datetime']\r\n",
    "    )\r\n",
    "\r\n",
    "    calendar['year'] = calendar['datetime'].apply(lambda x: x.year)\r\n",
    "    calendar['month'] = calendar['datetime'].apply(lambda x: x.month)\r\n",
    "    calendar['day'] = calendar['datetime'].apply(lambda x: x.day)\r\n",
    "    calendar['hour'] = calendar['datetime'].apply(lambda x: x.hour)\r\n",
    "    calendar['minute'] = calendar['datetime'].apply(lambda x: x.minute)\r\n",
    "    calendar['second'] = calendar['datetime'].apply(lambda x: x.second)\r\n",
    "    calendar['weekday'] = calendar['datetime'].apply(lambda x: x.weekday())\r\n",
    "    calendar['weekend'] = calendar['weekday'].apply(lambda x: isweekend(x))\r\n",
    "    # first convert to utc and then to timestamp\r\n",
    "    calendar['timestamp'] = calendar['datetime'].apply(lambda x: local_tz.localize(\r\n",
    "        x).replace(tzinfo=timezone.utc).timestamp()).astype(int)\r\n",
    "\r\n",
    "    # national_holidays = Province(name=\"valladolid\").national_holidays()\r\n",
    "    # regional_holidays = Province(name=\"valladolid\").regional_holidays()\r\n",
    "    # local_holidays = Province(name=\"valladolid\").local_holidays()\r\n",
    "    # holiday_list = national_holidays + regional_holidays + local_holidays\r\n",
    "    \r\n",
    "    calendar['holiday'] = calendar['datetime'].apply(lambda x: isholiday(x.date(), holiday_list))\r\n",
    "    return calendar"
   ],
   "outputs": [],
   "metadata": {}
  },
  {
   "cell_type": "markdown",
   "source": [
    "An extended holiday set is chosen for Portugal that includes days most people have off."
   ],
   "metadata": {}
  },
  {
   "cell_type": "code",
   "execution_count": 41,
   "source": [
    "pt_holidays = holidays.PortugalExt()"
   ],
   "outputs": [],
   "metadata": {}
  },
  {
   "cell_type": "code",
   "execution_count": 42,
   "source": [
    "holiday_list = [i for i in ts15.index if i.date() in pt_holidays]\r\n",
    "calendar15 = create_calendar(15, holiday_list)\r\n",
    "print(\"15 min Calendar dataset structure:\")\r\n",
    "calendar15.head()\r\n"
   ],
   "outputs": [
    {
     "output_type": "stream",
     "name": "stderr",
     "text": [
      "C:\\Users\\spele\\AppData\\Local\\Temp/ipykernel_30776/2123730404.py:5: FutureWarning: Comparison of Timestamp with datetime.date is deprecated in order to match the standard library behavior.  In a future version these will be considered non-comparable.Use 'ts == pd.Timestamp(date)' or 'ts.date() == date' instead.\n",
      "  if x in holiday_list:\n"
     ]
    },
    {
     "output_type": "stream",
     "name": "stdout",
     "text": [
      "15 min Calendar dataset structure:\n"
     ]
    },
    {
     "output_type": "execute_result",
     "data": {
      "text/plain": [
       "             datetime  year  month  day  hour  minute  second  weekday  \\\n",
       "0 2018-01-01 00:00:00  2018      1    1     0       0       0        0   \n",
       "1 2018-01-01 00:15:00  2018      1    1     0      15       0        0   \n",
       "2 2018-01-01 00:30:00  2018      1    1     0      30       0        0   \n",
       "3 2018-01-01 00:45:00  2018      1    1     0      45       0        0   \n",
       "4 2018-01-01 01:00:00  2018      1    1     1       0       0        0   \n",
       "\n",
       "   weekend   timestamp  holiday  \n",
       "0     True  1514764800     True  \n",
       "1     True  1514765700     True  \n",
       "2     True  1514766600     True  \n",
       "3     True  1514767500     True  \n",
       "4     True  1514768400     True  "
      ],
      "text/html": [
       "<div>\n",
       "<style scoped>\n",
       "    .dataframe tbody tr th:only-of-type {\n",
       "        vertical-align: middle;\n",
       "    }\n",
       "\n",
       "    .dataframe tbody tr th {\n",
       "        vertical-align: top;\n",
       "    }\n",
       "\n",
       "    .dataframe thead th {\n",
       "        text-align: right;\n",
       "    }\n",
       "</style>\n",
       "<table border=\"1\" class=\"dataframe\">\n",
       "  <thead>\n",
       "    <tr style=\"text-align: right;\">\n",
       "      <th></th>\n",
       "      <th>datetime</th>\n",
       "      <th>year</th>\n",
       "      <th>month</th>\n",
       "      <th>day</th>\n",
       "      <th>hour</th>\n",
       "      <th>minute</th>\n",
       "      <th>second</th>\n",
       "      <th>weekday</th>\n",
       "      <th>weekend</th>\n",
       "      <th>timestamp</th>\n",
       "      <th>holiday</th>\n",
       "    </tr>\n",
       "  </thead>\n",
       "  <tbody>\n",
       "    <tr>\n",
       "      <th>0</th>\n",
       "      <td>2018-01-01 00:00:00</td>\n",
       "      <td>2018</td>\n",
       "      <td>1</td>\n",
       "      <td>1</td>\n",
       "      <td>0</td>\n",
       "      <td>0</td>\n",
       "      <td>0</td>\n",
       "      <td>0</td>\n",
       "      <td>True</td>\n",
       "      <td>1514764800</td>\n",
       "      <td>True</td>\n",
       "    </tr>\n",
       "    <tr>\n",
       "      <th>1</th>\n",
       "      <td>2018-01-01 00:15:00</td>\n",
       "      <td>2018</td>\n",
       "      <td>1</td>\n",
       "      <td>1</td>\n",
       "      <td>0</td>\n",
       "      <td>15</td>\n",
       "      <td>0</td>\n",
       "      <td>0</td>\n",
       "      <td>True</td>\n",
       "      <td>1514765700</td>\n",
       "      <td>True</td>\n",
       "    </tr>\n",
       "    <tr>\n",
       "      <th>2</th>\n",
       "      <td>2018-01-01 00:30:00</td>\n",
       "      <td>2018</td>\n",
       "      <td>1</td>\n",
       "      <td>1</td>\n",
       "      <td>0</td>\n",
       "      <td>30</td>\n",
       "      <td>0</td>\n",
       "      <td>0</td>\n",
       "      <td>True</td>\n",
       "      <td>1514766600</td>\n",
       "      <td>True</td>\n",
       "    </tr>\n",
       "    <tr>\n",
       "      <th>3</th>\n",
       "      <td>2018-01-01 00:45:00</td>\n",
       "      <td>2018</td>\n",
       "      <td>1</td>\n",
       "      <td>1</td>\n",
       "      <td>0</td>\n",
       "      <td>45</td>\n",
       "      <td>0</td>\n",
       "      <td>0</td>\n",
       "      <td>True</td>\n",
       "      <td>1514767500</td>\n",
       "      <td>True</td>\n",
       "    </tr>\n",
       "    <tr>\n",
       "      <th>4</th>\n",
       "      <td>2018-01-01 01:00:00</td>\n",
       "      <td>2018</td>\n",
       "      <td>1</td>\n",
       "      <td>1</td>\n",
       "      <td>1</td>\n",
       "      <td>0</td>\n",
       "      <td>0</td>\n",
       "      <td>0</td>\n",
       "      <td>True</td>\n",
       "      <td>1514768400</td>\n",
       "      <td>True</td>\n",
       "    </tr>\n",
       "  </tbody>\n",
       "</table>\n",
       "</div>"
      ]
     },
     "metadata": {},
     "execution_count": 42
    }
   ],
   "metadata": {}
  },
  {
   "cell_type": "code",
   "execution_count": 39,
   "source": [
    "holiday_list = [i for i in ts60.index if i in holidays.PortugalExt()]\r\n",
    "calendar60 = create_calendar(60, holiday_list)\r\n",
    "print(\"60 min Calendar dataset structure:\")\r\n",
    "calendar60.head()"
   ],
   "outputs": [
    {
     "output_type": "stream",
     "name": "stderr",
     "text": [
      "C:\\Users\\spele\\AppData\\Local\\Temp/ipykernel_30776/2123730404.py:5: FutureWarning: Comparison of Timestamp with datetime.date is deprecated in order to match the standard library behavior.  In a future version these will be considered non-comparable.Use 'ts == pd.Timestamp(date)' or 'ts.date() == date' instead.\n",
      "  if x in holiday_list:\n"
     ]
    },
    {
     "output_type": "stream",
     "name": "stdout",
     "text": [
      "60 min Calendar dataset structure:\n"
     ]
    },
    {
     "output_type": "execute_result",
     "data": {
      "text/plain": [
       "             datetime  year  month  day  hour  minute  second  weekday  \\\n",
       "0 2018-01-01 00:00:00  2018      1    1     0       0       0        0   \n",
       "1 2018-01-01 01:00:00  2018      1    1     1       0       0        0   \n",
       "2 2018-01-01 02:00:00  2018      1    1     2       0       0        0   \n",
       "3 2018-01-01 03:00:00  2018      1    1     3       0       0        0   \n",
       "4 2018-01-01 04:00:00  2018      1    1     4       0       0        0   \n",
       "\n",
       "   weekend   timestamp  holiday  \n",
       "0     True  1514764800     True  \n",
       "1     True  1514768400     True  \n",
       "2     True  1514772000     True  \n",
       "3     True  1514775600     True  \n",
       "4     True  1514779200     True  "
      ],
      "text/html": [
       "<div>\n",
       "<style scoped>\n",
       "    .dataframe tbody tr th:only-of-type {\n",
       "        vertical-align: middle;\n",
       "    }\n",
       "\n",
       "    .dataframe tbody tr th {\n",
       "        vertical-align: top;\n",
       "    }\n",
       "\n",
       "    .dataframe thead th {\n",
       "        text-align: right;\n",
       "    }\n",
       "</style>\n",
       "<table border=\"1\" class=\"dataframe\">\n",
       "  <thead>\n",
       "    <tr style=\"text-align: right;\">\n",
       "      <th></th>\n",
       "      <th>datetime</th>\n",
       "      <th>year</th>\n",
       "      <th>month</th>\n",
       "      <th>day</th>\n",
       "      <th>hour</th>\n",
       "      <th>minute</th>\n",
       "      <th>second</th>\n",
       "      <th>weekday</th>\n",
       "      <th>weekend</th>\n",
       "      <th>timestamp</th>\n",
       "      <th>holiday</th>\n",
       "    </tr>\n",
       "  </thead>\n",
       "  <tbody>\n",
       "    <tr>\n",
       "      <th>0</th>\n",
       "      <td>2018-01-01 00:00:00</td>\n",
       "      <td>2018</td>\n",
       "      <td>1</td>\n",
       "      <td>1</td>\n",
       "      <td>0</td>\n",
       "      <td>0</td>\n",
       "      <td>0</td>\n",
       "      <td>0</td>\n",
       "      <td>True</td>\n",
       "      <td>1514764800</td>\n",
       "      <td>True</td>\n",
       "    </tr>\n",
       "    <tr>\n",
       "      <th>1</th>\n",
       "      <td>2018-01-01 01:00:00</td>\n",
       "      <td>2018</td>\n",
       "      <td>1</td>\n",
       "      <td>1</td>\n",
       "      <td>1</td>\n",
       "      <td>0</td>\n",
       "      <td>0</td>\n",
       "      <td>0</td>\n",
       "      <td>True</td>\n",
       "      <td>1514768400</td>\n",
       "      <td>True</td>\n",
       "    </tr>\n",
       "    <tr>\n",
       "      <th>2</th>\n",
       "      <td>2018-01-01 02:00:00</td>\n",
       "      <td>2018</td>\n",
       "      <td>1</td>\n",
       "      <td>1</td>\n",
       "      <td>2</td>\n",
       "      <td>0</td>\n",
       "      <td>0</td>\n",
       "      <td>0</td>\n",
       "      <td>True</td>\n",
       "      <td>1514772000</td>\n",
       "      <td>True</td>\n",
       "    </tr>\n",
       "    <tr>\n",
       "      <th>3</th>\n",
       "      <td>2018-01-01 03:00:00</td>\n",
       "      <td>2018</td>\n",
       "      <td>1</td>\n",
       "      <td>1</td>\n",
       "      <td>3</td>\n",
       "      <td>0</td>\n",
       "      <td>0</td>\n",
       "      <td>0</td>\n",
       "      <td>True</td>\n",
       "      <td>1514775600</td>\n",
       "      <td>True</td>\n",
       "    </tr>\n",
       "    <tr>\n",
       "      <th>4</th>\n",
       "      <td>2018-01-01 04:00:00</td>\n",
       "      <td>2018</td>\n",
       "      <td>1</td>\n",
       "      <td>1</td>\n",
       "      <td>4</td>\n",
       "      <td>0</td>\n",
       "      <td>0</td>\n",
       "      <td>0</td>\n",
       "      <td>True</td>\n",
       "      <td>1514779200</td>\n",
       "      <td>True</td>\n",
       "    </tr>\n",
       "  </tbody>\n",
       "</table>\n",
       "</div>"
      ]
     },
     "metadata": {},
     "execution_count": 39
    }
   ],
   "metadata": {}
  },
  {
   "cell_type": "markdown",
   "source": [
    "## Store calendar datasets"
   ],
   "metadata": {}
  },
  {
   "cell_type": "code",
   "execution_count": 43,
   "source": [
    "ts15_plus_time = pd.merge(ts15, calendar15, how='left', left_index=True, right_on='datetime').set_index('datetime')\r\n",
    "ts15_plus_time.to_csv(\"../../RDN/Load Data (2018-2019)/artifacts/timeseries_plus_time_15min.csv\")\r\n",
    "\r\n",
    "# ts30_plus_time = pd.merge(ts30, create_calendar(30), how='left', left_index=True, right_on='datetime').set_index('datetime')\r\n",
    "# ts30_plus_time.to_csv(\"../VEOLIA/artifacts/timeseries_plus_time_30min.csv\")\r\n",
    "\r\n",
    "ts60_plus_time = pd.merge(ts60, calendar60, how='left', left_index=True, right_on='datetime').set_index('datetime')\r\n",
    "ts60_plus_time.to_csv(\"../../RDN/Load Data (2018-2019)/artifacts/timeseries_plus_time_60min.csv\")\r\n",
    "\r\n",
    "time15 = calendar15\r\n",
    "time15.to_csv(\"../../RDN/Load Data (2018-2019)/artifacts/time_15min.csv\")\r\n",
    "\r\n",
    "# time30 = create_calendar(30)\r\n",
    "# time30.to_csv(\"../VEOLIA/artifacts/time_30min.csv\")\r\n",
    "\r\n",
    "time60 = calendar60\r\n",
    "time60.to_csv(\"../../RDN/Load Data (2018-2019)/artifacts/time_60min.csv\")"
   ],
   "outputs": [],
   "metadata": {}
  }
 ],
 "metadata": {
  "orig_nbformat": 4,
  "language_info": {
   "name": "python",
   "version": "3.9.6",
   "mimetype": "text/x-python",
   "codemirror_mode": {
    "name": "ipython",
    "version": 3
   },
   "pygments_lexer": "ipython3",
   "nbconvert_exporter": "python",
   "file_extension": ".py"
  },
  "kernelspec": {
   "name": "python3",
   "display_name": "Python 3.9.6 64-bit ('.venv': venv)"
  },
  "interpreter": {
   "hash": "325fd246d46c4d72ae8ff1136a3d126b7d1bee09dc1bfdd264710a3af9f46909"
  }
 },
 "nbformat": 4,
 "nbformat_minor": 2
}