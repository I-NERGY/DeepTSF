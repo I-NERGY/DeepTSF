{
 "cells": [
  {
   "cell_type": "markdown",
   "id": "6c4f1e45",
   "metadata": {},
   "source": [
    "# Training and forecast of ML models"
   ]
  },
  {
   "cell_type": "code",
   "execution_count": 2,
   "id": "fa6432b6",
   "metadata": {},
   "outputs": [],
   "source": [
    "import pandas as pd"
   ]
  },
  {
   "cell_type": "code",
   "execution_count": 21,
   "id": "98a71ee6",
   "metadata": {},
   "outputs": [
    {
     "data": {
      "text/html": [
       "<div>\n",
       "<style scoped>\n",
       "    .dataframe tbody tr th:only-of-type {\n",
       "        vertical-align: middle;\n",
       "    }\n",
       "\n",
       "    .dataframe tbody tr th {\n",
       "        vertical-align: top;\n",
       "    }\n",
       "\n",
       "    .dataframe thead th {\n",
       "        text-align: right;\n",
       "    }\n",
       "</style>\n",
       "<table border=\"1\" class=\"dataframe\">\n",
       "  <thead>\n",
       "    <tr style=\"text-align: right;\">\n",
       "      <th></th>\n",
       "      <th>Diff Load Activa Total (60 minuto)</th>\n",
       "      <th>TEMPERATURA EXTERIOR (60 minuto)</th>\n",
       "    </tr>\n",
       "    <tr>\n",
       "      <th>datetime</th>\n",
       "      <th></th>\n",
       "      <th></th>\n",
       "    </tr>\n",
       "  </thead>\n",
       "  <tbody>\n",
       "    <tr>\n",
       "      <th>2021-05-15 00:00:00</th>\n",
       "      <td>2600.0</td>\n",
       "      <td>13.7725</td>\n",
       "    </tr>\n",
       "    <tr>\n",
       "      <th>2021-05-15 01:00:00</th>\n",
       "      <td>2620.0</td>\n",
       "      <td>13.3100</td>\n",
       "    </tr>\n",
       "    <tr>\n",
       "      <th>2021-05-15 02:00:00</th>\n",
       "      <td>2610.0</td>\n",
       "      <td>12.3850</td>\n",
       "    </tr>\n",
       "    <tr>\n",
       "      <th>2021-05-15 03:00:00</th>\n",
       "      <td>2620.0</td>\n",
       "      <td>11.9225</td>\n",
       "    </tr>\n",
       "    <tr>\n",
       "      <th>2021-05-15 04:00:00</th>\n",
       "      <td>2570.0</td>\n",
       "      <td>11.4600</td>\n",
       "    </tr>\n",
       "  </tbody>\n",
       "</table>\n",
       "</div>"
      ],
      "text/plain": [
       "                     Diff Load Activa Total (60 minuto)  \\\n",
       "datetime                                                  \n",
       "2021-05-15 00:00:00                              2600.0   \n",
       "2021-05-15 01:00:00                              2620.0   \n",
       "2021-05-15 02:00:00                              2610.0   \n",
       "2021-05-15 03:00:00                              2620.0   \n",
       "2021-05-15 04:00:00                              2570.0   \n",
       "\n",
       "                     TEMPERATURA EXTERIOR (60 minuto)  \n",
       "datetime                                               \n",
       "2021-05-15 00:00:00                           13.7725  \n",
       "2021-05-15 01:00:00                           13.3100  \n",
       "2021-05-15 02:00:00                           12.3850  \n",
       "2021-05-15 03:00:00                           11.9225  \n",
       "2021-05-15 04:00:00                           11.4600  "
      ]
     },
     "execution_count": 21,
     "metadata": {},
     "output_type": "execute_result"
    }
   ],
   "source": [
    "ts60 = pd.read_csv('../VEOLIA/artifacts/timeseries_60min.csv', index_col=0, parse_dates=True)\n",
    "# load60 = ts60['Diff Load Activa Total (60 minuto)'].dropna()\n",
    "# ts60.head()\n",
    "\n",
    "df = ts60[['Diff Load Activa Total (60 minuto)','TEMPERATURA EXTERIOR (60 minuto)']].dropna()\n",
    "df.head()"
   ]
  },
  {
   "cell_type": "code",
   "execution_count": 22,
   "id": "f87ec8da",
   "metadata": {},
   "outputs": [],
   "source": [
    "df['year'] = df.index.year\n",
    "df['month'] = df.index.month\n",
    "df['month_day'] = df.index.day\n",
    "df['week_day'] = df.index.weekday\n",
    "df['hour'] = df.index.hour\n"
   ]
  },
  {
   "cell_type": "code",
   "execution_count": 23,
   "id": "0dd06a3a",
   "metadata": {},
   "outputs": [
    {
     "data": {
      "text/html": [
       "<div>\n",
       "<style scoped>\n",
       "    .dataframe tbody tr th:only-of-type {\n",
       "        vertical-align: middle;\n",
       "    }\n",
       "\n",
       "    .dataframe tbody tr th {\n",
       "        vertical-align: top;\n",
       "    }\n",
       "\n",
       "    .dataframe thead th {\n",
       "        text-align: right;\n",
       "    }\n",
       "</style>\n",
       "<table border=\"1\" class=\"dataframe\">\n",
       "  <thead>\n",
       "    <tr style=\"text-align: right;\">\n",
       "      <th></th>\n",
       "      <th>Diff Load Activa Total (60 minuto)</th>\n",
       "      <th>TEMPERATURA EXTERIOR (60 minuto)</th>\n",
       "      <th>year</th>\n",
       "      <th>month</th>\n",
       "      <th>month_day</th>\n",
       "      <th>week_day</th>\n",
       "      <th>hour</th>\n",
       "    </tr>\n",
       "    <tr>\n",
       "      <th>datetime</th>\n",
       "      <th></th>\n",
       "      <th></th>\n",
       "      <th></th>\n",
       "      <th></th>\n",
       "      <th></th>\n",
       "      <th></th>\n",
       "      <th></th>\n",
       "    </tr>\n",
       "  </thead>\n",
       "  <tbody>\n",
       "    <tr>\n",
       "      <th>2021-05-15 00:00:00</th>\n",
       "      <td>2600.0</td>\n",
       "      <td>13.7725</td>\n",
       "      <td>2021</td>\n",
       "      <td>5</td>\n",
       "      <td>15</td>\n",
       "      <td>5</td>\n",
       "      <td>0</td>\n",
       "    </tr>\n",
       "    <tr>\n",
       "      <th>2021-05-15 01:00:00</th>\n",
       "      <td>2620.0</td>\n",
       "      <td>13.3100</td>\n",
       "      <td>2021</td>\n",
       "      <td>5</td>\n",
       "      <td>15</td>\n",
       "      <td>5</td>\n",
       "      <td>1</td>\n",
       "    </tr>\n",
       "    <tr>\n",
       "      <th>2021-05-15 02:00:00</th>\n",
       "      <td>2610.0</td>\n",
       "      <td>12.3850</td>\n",
       "      <td>2021</td>\n",
       "      <td>5</td>\n",
       "      <td>15</td>\n",
       "      <td>5</td>\n",
       "      <td>2</td>\n",
       "    </tr>\n",
       "    <tr>\n",
       "      <th>2021-05-15 03:00:00</th>\n",
       "      <td>2620.0</td>\n",
       "      <td>11.9225</td>\n",
       "      <td>2021</td>\n",
       "      <td>5</td>\n",
       "      <td>15</td>\n",
       "      <td>5</td>\n",
       "      <td>3</td>\n",
       "    </tr>\n",
       "    <tr>\n",
       "      <th>2021-05-15 04:00:00</th>\n",
       "      <td>2570.0</td>\n",
       "      <td>11.4600</td>\n",
       "      <td>2021</td>\n",
       "      <td>5</td>\n",
       "      <td>15</td>\n",
       "      <td>5</td>\n",
       "      <td>4</td>\n",
       "    </tr>\n",
       "    <tr>\n",
       "      <th>...</th>\n",
       "      <td>...</td>\n",
       "      <td>...</td>\n",
       "      <td>...</td>\n",
       "      <td>...</td>\n",
       "      <td>...</td>\n",
       "      <td>...</td>\n",
       "      <td>...</td>\n",
       "    </tr>\n",
       "    <tr>\n",
       "      <th>2021-05-21 01:00:00</th>\n",
       "      <td>2110.0</td>\n",
       "      <td>13.6850</td>\n",
       "      <td>2021</td>\n",
       "      <td>5</td>\n",
       "      <td>21</td>\n",
       "      <td>4</td>\n",
       "      <td>1</td>\n",
       "    </tr>\n",
       "    <tr>\n",
       "      <th>2021-05-21 02:00:00</th>\n",
       "      <td>2140.0</td>\n",
       "      <td>11.9950</td>\n",
       "      <td>2021</td>\n",
       "      <td>5</td>\n",
       "      <td>21</td>\n",
       "      <td>4</td>\n",
       "      <td>2</td>\n",
       "    </tr>\n",
       "    <tr>\n",
       "      <th>2021-05-21 03:00:00</th>\n",
       "      <td>2400.0</td>\n",
       "      <td>11.2600</td>\n",
       "      <td>2021</td>\n",
       "      <td>5</td>\n",
       "      <td>21</td>\n",
       "      <td>4</td>\n",
       "      <td>3</td>\n",
       "    </tr>\n",
       "    <tr>\n",
       "      <th>2021-05-21 04:00:00</th>\n",
       "      <td>2700.0</td>\n",
       "      <td>9.9925</td>\n",
       "      <td>2021</td>\n",
       "      <td>5</td>\n",
       "      <td>21</td>\n",
       "      <td>4</td>\n",
       "      <td>4</td>\n",
       "    </tr>\n",
       "    <tr>\n",
       "      <th>2021-05-21 05:00:00</th>\n",
       "      <td>2680.0</td>\n",
       "      <td>9.3600</td>\n",
       "      <td>2021</td>\n",
       "      <td>5</td>\n",
       "      <td>21</td>\n",
       "      <td>4</td>\n",
       "      <td>5</td>\n",
       "    </tr>\n",
       "  </tbody>\n",
       "</table>\n",
       "<p>150 rows × 7 columns</p>\n",
       "</div>"
      ],
      "text/plain": [
       "                     Diff Load Activa Total (60 minuto)  \\\n",
       "datetime                                                  \n",
       "2021-05-15 00:00:00                              2600.0   \n",
       "2021-05-15 01:00:00                              2620.0   \n",
       "2021-05-15 02:00:00                              2610.0   \n",
       "2021-05-15 03:00:00                              2620.0   \n",
       "2021-05-15 04:00:00                              2570.0   \n",
       "...                                                 ...   \n",
       "2021-05-21 01:00:00                              2110.0   \n",
       "2021-05-21 02:00:00                              2140.0   \n",
       "2021-05-21 03:00:00                              2400.0   \n",
       "2021-05-21 04:00:00                              2700.0   \n",
       "2021-05-21 05:00:00                              2680.0   \n",
       "\n",
       "                     TEMPERATURA EXTERIOR (60 minuto)  year  month  month_day  \\\n",
       "datetime                                                                        \n",
       "2021-05-15 00:00:00                           13.7725  2021      5         15   \n",
       "2021-05-15 01:00:00                           13.3100  2021      5         15   \n",
       "2021-05-15 02:00:00                           12.3850  2021      5         15   \n",
       "2021-05-15 03:00:00                           11.9225  2021      5         15   \n",
       "2021-05-15 04:00:00                           11.4600  2021      5         15   \n",
       "...                                               ...   ...    ...        ...   \n",
       "2021-05-21 01:00:00                           13.6850  2021      5         21   \n",
       "2021-05-21 02:00:00                           11.9950  2021      5         21   \n",
       "2021-05-21 03:00:00                           11.2600  2021      5         21   \n",
       "2021-05-21 04:00:00                            9.9925  2021      5         21   \n",
       "2021-05-21 05:00:00                            9.3600  2021      5         21   \n",
       "\n",
       "                     week_day  hour  \n",
       "datetime                             \n",
       "2021-05-15 00:00:00         5     0  \n",
       "2021-05-15 01:00:00         5     1  \n",
       "2021-05-15 02:00:00         5     2  \n",
       "2021-05-15 03:00:00         5     3  \n",
       "2021-05-15 04:00:00         5     4  \n",
       "...                       ...   ...  \n",
       "2021-05-21 01:00:00         4     1  \n",
       "2021-05-21 02:00:00         4     2  \n",
       "2021-05-21 03:00:00         4     3  \n",
       "2021-05-21 04:00:00         4     4  \n",
       "2021-05-21 05:00:00         4     5  \n",
       "\n",
       "[150 rows x 7 columns]"
      ]
     },
     "execution_count": 23,
     "metadata": {},
     "output_type": "execute_result"
    }
   ],
   "source": [
    "df.head(150)"
   ]
  },
  {
   "cell_type": "code",
   "execution_count": 24,
   "id": "582863b1",
   "metadata": {},
   "outputs": [
    {
     "data": {
      "text/plain": [
       "(1128, 7)"
      ]
     },
     "execution_count": 24,
     "metadata": {},
     "output_type": "execute_result"
    }
   ],
   "source": [
    "df.shape"
   ]
  },
  {
   "cell_type": "markdown",
   "id": "1fc27d0c",
   "metadata": {},
   "source": [
    "## Regression models for load forecasting"
   ]
  },
  {
   "cell_type": "code",
   "execution_count": 25,
   "id": "249c49c8",
   "metadata": {},
   "outputs": [],
   "source": [
    "X = df[['month', 'week_day', 'hour', 'TEMPERATURA EXTERIOR (60 minuto)']]\n",
    "y = df['Diff Load Activa Total (60 minuto)']"
   ]
  },
  {
   "cell_type": "code",
   "execution_count": 26,
   "id": "29d862c1",
   "metadata": {},
   "outputs": [
    {
     "name": "stdout",
     "output_type": "stream",
     "text": [
      "                     month  week_day  hour  TEMPERATURA EXTERIOR (60 minuto)\n",
      "datetime                                                                    \n",
      "2021-06-03 23:00:00      6         3    23                            10.210\n",
      "2021-05-15 19:00:00      5         5    19                            17.575\n",
      "2021-06-06 19:00:00      6         6    19                            19.810\n",
      "2021-05-17 23:00:00      5         0    23                             9.880\n",
      "2021-06-25 17:00:00      6         4    17                            26.735\n",
      "...                    ...       ...   ...                               ...\n",
      "2021-05-16 07:00:00      5         6     7                            13.310\n",
      "2021-06-23 14:00:00      6         2    14                            18.795\n",
      "2021-06-28 08:00:00      6         0     8                            30.955\n",
      "2021-06-14 22:00:00      6         0    22                            18.565\n",
      "2021-06-08 19:00:00      6         1    19                            29.545\n",
      "\n",
      "[846 rows x 4 columns]\n",
      "datetime\n",
      "2021-06-03 23:00:00    2500.0\n",
      "2021-05-15 19:00:00    3180.0\n",
      "2021-06-06 19:00:00    1260.0\n",
      "2021-05-17 23:00:00    2820.0\n",
      "2021-06-25 17:00:00    2170.0\n",
      "                        ...  \n",
      "2021-05-16 07:00:00    2660.0\n",
      "2021-06-23 14:00:00    2520.0\n",
      "2021-06-28 08:00:00    1880.0\n",
      "2021-06-14 22:00:00    2480.0\n",
      "2021-06-08 19:00:00    2310.0\n",
      "Name: Diff Load Activa Total (60 minuto), Length: 846, dtype: float64\n",
      "                     month  week_day  hour  TEMPERATURA EXTERIOR (60 minuto)\n",
      "datetime                                                                    \n",
      "2021-06-06 03:00:00      6         6     3                            8.2900\n",
      "2021-05-31 06:00:00      5         0     6                           12.0300\n",
      "2021-06-05 04:00:00      6         5     4                            8.1850\n",
      "2021-05-21 09:00:00      5         4     9                           34.2475\n",
      "2021-06-13 10:00:00      6         6    10                           45.3575\n",
      "...                    ...       ...   ...                               ...\n",
      "2021-06-23 04:00:00      6         2     4                           10.2050\n",
      "2021-06-22 08:00:00      6         1     8                           14.1350\n",
      "2021-05-31 17:00:00      5         0    17                           31.6400\n",
      "2021-05-21 10:00:00      5         4    10                           33.7225\n",
      "2021-06-19 18:00:00      6         5    18                           25.3075\n",
      "\n",
      "[282 rows x 4 columns]\n",
      "datetime\n",
      "2021-06-06 03:00:00    2540.0\n",
      "2021-05-31 06:00:00    2580.0\n",
      "2021-06-05 04:00:00    2490.0\n",
      "2021-05-21 09:00:00    1770.0\n",
      "2021-06-13 10:00:00    1330.0\n",
      "                        ...  \n",
      "2021-06-23 04:00:00    2350.0\n",
      "2021-06-22 08:00:00    2620.0\n",
      "2021-05-31 17:00:00    2100.0\n",
      "2021-05-21 10:00:00    2290.0\n",
      "2021-06-19 18:00:00    1680.0\n",
      "Name: Diff Load Activa Total (60 minuto), Length: 282, dtype: float64\n"
     ]
    }
   ],
   "source": [
    "from sklearn.model_selection import train_test_split\n",
    "\n",
    "# random_state=23 in order to be led to reproducible results\n",
    "# split 75%, 25%\n",
    "X_train, X_test, y_train, y_test = train_test_split(X, y, test_size=0.25, random_state=23)\n",
    "print(X_train)\n",
    "print(y_train)\n",
    "print(X_test)\n",
    "print(y_test)"
   ]
  },
  {
   "cell_type": "markdown",
   "id": "812f577e",
   "metadata": {},
   "source": [
    "### Decision Tree Regression"
   ]
  },
  {
   "cell_type": "code",
   "execution_count": 27,
   "id": "c2407eab",
   "metadata": {},
   "outputs": [],
   "source": [
    "from sklearn import tree\n",
    "\n",
    "tree_reg = tree.DecisionTreeRegressor()\n",
    "tree_reg = tree_reg.fit(X_train, y_train)\n",
    "\n",
    "y_train_pred_dec_tree = tree_reg.predict(X_train)\n",
    "y_test_pred_dec_tree = tree_reg.predict(X_test)\n"
   ]
  },
  {
   "cell_type": "code",
   "execution_count": 29,
   "id": "df4c2d97",
   "metadata": {},
   "outputs": [],
   "source": [
    "from sklearn.metrics import mean_absolute_percentage_error, mean_squared_error\n",
    "\n"
   ]
  },
  {
   "cell_type": "code",
   "execution_count": 36,
   "id": "d929c723",
   "metadata": {},
   "outputs": [
    {
     "name": "stdout",
     "output_type": "stream",
     "text": [
      "151873.75886538663 13.85 %\n"
     ]
    }
   ],
   "source": [
    "MSE_train3 = mean_squared_error(y_train, y_train_pred_dec_tree)\n",
    "MSE_test3 = mean_squared_error(y_test, y_test_pred_dec_tree)\n",
    "\n",
    "MAPE_train3 = mean_absolute_percentage_error(y_train, y_train_pred_dec_tree)\n",
    "MAPE_test3 = mean_absolute_percentage_error(y_test, y_test_pred_dec_tree)\n",
    "\n",
    "\n",
    "print(MSE_test3, round(MAPE_test3 * 100, 2),'%')"
   ]
  },
  {
   "cell_type": "markdown",
   "id": "e2e795af",
   "metadata": {},
   "source": [
    "### Random Forest Regression"
   ]
  },
  {
   "cell_type": "code",
   "execution_count": 37,
   "id": "0449e1b2",
   "metadata": {},
   "outputs": [],
   "source": [
    "from sklearn.ensemble import RandomForestRegressor\n",
    "\n",
    "regr = RandomForestRegressor()\n",
    "regr.fit(X_train, y_train)\n",
    "\n",
    "y_train_pred_rf = regr.predict(X_train)\n",
    "y_test_pred_rf = regr.predict(X_test)"
   ]
  },
  {
   "cell_type": "code",
   "execution_count": 38,
   "id": "53bfac8a",
   "metadata": {},
   "outputs": [
    {
     "name": "stdout",
     "output_type": "stream",
     "text": [
      "93079.2890780943 11.15 %\n"
     ]
    }
   ],
   "source": [
    "MSE_train_rf = mean_squared_error(y_train, y_train_pred_rf)\n",
    "MSE_test_rf = mean_squared_error(y_test, y_test_pred_rf)\n",
    "\n",
    "MAPE_train_rf = mean_absolute_percentage_error(y_train, y_train_pred_rf)\n",
    "MAPE_test_rf = mean_absolute_percentage_error(y_test, y_test_pred_rf)\n",
    "\n",
    "\n",
    "print(MSE_test_rf, round(MAPE_test_rf * 100, 2),'%')"
   ]
  },
  {
   "cell_type": "markdown",
   "id": "ef06ec47",
   "metadata": {},
   "source": [
    "### Gradient Boosting Regression"
   ]
  },
  {
   "cell_type": "code",
   "execution_count": 41,
   "id": "2b4bdd56",
   "metadata": {},
   "outputs": [],
   "source": [
    "from sklearn.ensemble import GradientBoostingRegressor\n",
    "\n",
    "reg = GradientBoostingRegressor(random_state=0)\n",
    "reg.fit(X_train, y_train)\n",
    "\n",
    "y_train_pred_gb = reg.predict(X_train)\n",
    "y_test_pred_gb = reg.predict(X_test)"
   ]
  },
  {
   "cell_type": "code",
   "execution_count": 42,
   "id": "8553bf79",
   "metadata": {},
   "outputs": [
    {
     "name": "stdout",
     "output_type": "stream",
     "text": [
      "88107.48844671606 10.74 %\n"
     ]
    }
   ],
   "source": [
    "MSE_train_gb = mean_squared_error(y_train, y_train_pred_gb)\n",
    "MSE_test_gb = mean_squared_error(y_test, y_test_pred_gb)\n",
    "\n",
    "MAPE_train_gb = mean_absolute_percentage_error(y_train, y_train_pred_gb)\n",
    "MAPE_test_gb = mean_absolute_percentage_error(y_test, y_test_pred_gb)\n",
    "\n",
    "\n",
    "print(MSE_test_gb, round(MAPE_test_gb * 100, 2),'%')"
   ]
  },
  {
   "cell_type": "markdown",
   "id": "a59ecff2",
   "metadata": {},
   "source": [
    "### LightGBM"
   ]
  },
  {
   "cell_type": "code",
   "execution_count": 44,
   "id": "0475d4fc",
   "metadata": {},
   "outputs": [
    {
     "name": "stdout",
     "output_type": "stream",
     "text": [
      "Collecting lightgbm\n",
      "  Downloading lightgbm-3.2.1-py3-none-win_amd64.whl (1.0 MB)\n",
      "Requirement already satisfied: numpy in c:\\users\\vkarakolis.epu\\anaconda3\\envs\\veolia\\lib\\site-packages (from lightgbm) (1.21.1)\n",
      "Requirement already satisfied: scikit-learn!=0.22.0 in c:\\users\\vkarakolis.epu\\anaconda3\\envs\\veolia\\lib\\site-packages (from lightgbm) (0.24.2)\n",
      "Requirement already satisfied: wheel in c:\\users\\vkarakolis.epu\\anaconda3\\envs\\veolia\\lib\\site-packages (from lightgbm) (0.36.2)\n",
      "Requirement already satisfied: scipy in c:\\users\\vkarakolis.epu\\anaconda3\\envs\\veolia\\lib\\site-packages (from lightgbm) (1.7.0)\n",
      "Requirement already satisfied: joblib>=0.11 in c:\\users\\vkarakolis.epu\\anaconda3\\envs\\veolia\\lib\\site-packages (from scikit-learn!=0.22.0->lightgbm) (1.0.1)\n",
      "Requirement already satisfied: threadpoolctl>=2.0.0 in c:\\users\\vkarakolis.epu\\anaconda3\\envs\\veolia\\lib\\site-packages (from scikit-learn!=0.22.0->lightgbm) (2.2.0)\n",
      "Installing collected packages: lightgbm\n",
      "Successfully installed lightgbm-3.2.1\n"
     ]
    }
   ],
   "source": [
    "!pip install lightgbm"
   ]
  },
  {
   "cell_type": "code",
   "execution_count": 45,
   "id": "684be47a",
   "metadata": {},
   "outputs": [],
   "source": [
    "import lightgbm as lgb"
   ]
  },
  {
   "cell_type": "markdown",
   "id": "f1cf02f9",
   "metadata": {},
   "source": [
    "#### Todo:\n",
    "1) LightGBM models\n",
    "2) xgboost model\n",
    "3) try with more complete weather data\n",
    "4) parameter tuning\n",
    "5) cross_validation"
   ]
  },
  {
   "cell_type": "code",
   "execution_count": null,
   "id": "11b5bec2",
   "metadata": {},
   "outputs": [],
   "source": []
  }
 ],
 "metadata": {
  "kernelspec": {
   "display_name": "Python 3",
   "language": "python",
   "name": "python3"
  },
  "language_info": {
   "codemirror_mode": {
    "name": "ipython",
    "version": 3
   },
   "file_extension": ".py",
   "mimetype": "text/x-python",
   "name": "python",
   "nbconvert_exporter": "python",
   "pygments_lexer": "ipython3",
   "version": "3.8.10"
  }
 },
 "nbformat": 4,
 "nbformat_minor": 5
}
