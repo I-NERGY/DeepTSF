version https://git-lfs.github.com/spec/v1
oid sha256:1cf2dd767262f79c5f93e156f81dccb9a8a8d86bef643d8c6b30c370a4862147
size 119052695
